{
 "cells": [
  {
   "cell_type": "code",
   "execution_count": 1,
   "source": [
    "import pandas as pd\r\n",
    "df_comorbidity=pd.read_csv('Conditions_Contributing_to_COVID-19_Deaths__by_State_and_Age__Provisional_2020-2021.csv')\r\n",
    "#df_comorbidity"
   ],
   "outputs": [],
   "metadata": {}
  },
  {
   "cell_type": "markdown",
   "source": [
    "## ESTUDIO DE COMORBILIDADES\r\n",
    "### En el siguiente estudio buscaremos saber que comorbilidades que han presentado las pesonas con covid han sido detonantes de su Fallecimiento.\r\n",
    "### Modelo de estudio **STATS MODEL**\r\n",
    "para el siguiente estudio tendremos en cuenta como variable dependiente.\r\n",
    "Variable dependiente(Vd)=Muerte por covid \r\n",
    "=>H0== Las comorbilidades que presentan los pacientes con covid generan la muerte del paciente.\r\n",
    "Variables alternativas(Va)=> Comorbilidades\r\n",
    "1.  Adult respiratory distress syndrome\r\n",
    "2.  All other conditions and causes (residual)\r\n",
    "3.  Alzheimer disease\r\n",
    "4.  Cardiac arrest\r\n",
    "5.  Cardiac arrhythmia\r\n",
    "6.  Cerebrovascular diseases\r\n",
    "7.  ChronicLowerRespiratoryDiseases\r\n",
    "8.  COVID-19 Variants\r\n",
    "9.  Diabetes\r\n",
    "10. Heart failure\r\n",
    "11. Hypertensive diseases\r\n",
    "12. Influenza and pneumonia\r\n",
    "13. Intentional and unintentional injury, poisoning, and other adverse events\r\n",
    "14. Ischemic heart disease\r\n",
    "15. Malignant neoplasms\r\n",
    "16. Other diseases of the circulatory system\r\n",
    "17. Other diseases of the respiratory system\r\n",
    "18. Renal failure\r\n",
    "19. Respiratory arrest\r\n",
    "20. Respiratory failure\r\n",
    "21. Sepsis\r\n",
    "22. Vascular and unspecified dementia \r\n"
   ],
   "metadata": {}
  },
  {
   "cell_type": "markdown",
   "source": [
    "## Exploración de las columnas del dataset\r\n",
    "\r\n",
    "df_list_state=df_comorbidity['State'].unique()\r\n",
    "df_list_state.tolist()\r\n",
    "df_countries=df_comorbidity['State'].to_numpy().tolist()\r\n",
    "df_countries\r\n",
    "df_list_comorbidity_conditional_group=df_comorbidity['Condition Group'].unique()\r\n",
    "df_list_comorbidity_conditional_group.tolist()\r\n",
    "df_list_comorbidity_condition_person=df_comorbidity['Condition'].unique()\r\n",
    "df_list_comorbidity_condition_person.tolist()\r\n",
    "df_list__comorbidity_covid19Deaths=df_comorbidity['COVID-19 Deaths'].unique()\r\n",
    "df_list_comorbidity_condition_person.tolist()\r\n",
    "df_list_ICD10_codes=df_comorbidity['ICD10_codes'].unique()\r\n",
    "df_list_ICD10_codes.tolist()\r\n",
    "df_list_flag=df_comorbidity['Flag'].unique()\r\n",
    "df_list_flag\r\n",
    "df_list_AgeGroup=df_comorbidity['Age Group'].unique()\r\n",
    "df_list_AgeGroup.tolist()\r\n"
   ],
   "metadata": {}
  },
  {
   "cell_type": "markdown",
   "source": [
    "NORMALIZACION DEL DATASET:\r\n",
    "Con la tecnica de normalización booleana [0,1], generaremos las diferentes columnas que necesitamos para luego poder agrupar las variables dependientes y las variables independientes."
   ],
   "metadata": {}
  },
  {
   "cell_type": "markdown",
   "source": [
    "## DATASET DE COMORBILIDADES\r\n"
   ],
   "metadata": {}
  },
  {
   "cell_type": "code",
   "execution_count": 2,
   "source": [
    "def estatecountry(fila):\r\n",
    "    r=fila['State']\r\n",
    "    if r=='United States':\r\n",
    "        re=1\r\n",
    "        return re\r\n",
    "    else:\r\n",
    "        re=0\r\n",
    "        return re\r\n",
    "df_comorbidity['UnitedStates']=df_comorbidity.apply(estatecountry,axis=1)\r\n"
   ],
   "outputs": [],
   "metadata": {}
  },
  {
   "cell_type": "code",
   "execution_count": 3,
   "source": [
    "def estatecountry(fila):\r\n",
    "    r=fila['State']\r\n",
    "    if r=='Alabama':\r\n",
    "        re=1\r\n",
    "        return re\r\n",
    "    else:\r\n",
    "        re=0\r\n",
    "        return re\r\n",
    "df_comorbidity['Alabama']=df_comorbidity.apply(estatecountry,axis=1)\r\n"
   ],
   "outputs": [],
   "metadata": {}
  },
  {
   "cell_type": "code",
   "execution_count": 4,
   "source": [
    "def estatecountry(fila):\r\n",
    "    r=fila['State']\r\n",
    "    if r=='Alaska':\r\n",
    "        re=1\r\n",
    "        return re\r\n",
    "    else:\r\n",
    "        re=0\r\n",
    "        return re\r\n",
    "df_comorbidity['Alaska']=df_comorbidity.apply(estatecountry,axis=1)"
   ],
   "outputs": [],
   "metadata": {}
  },
  {
   "cell_type": "code",
   "execution_count": 5,
   "source": [
    "def estatecountry(fila):\r\n",
    "    r=fila['State']\r\n",
    "    if r=='Alaska':\r\n",
    "        re=1\r\n",
    "        return re\r\n",
    "    else:\r\n",
    "        re=0\r\n",
    "        return re\r\n",
    "df_comorbidity['Alaska']=df_comorbidity.apply(estatecountry,axis=1)"
   ],
   "outputs": [],
   "metadata": {}
  },
  {
   "cell_type": "code",
   "execution_count": 6,
   "source": [
    "def estatecountry(fila):\r\n",
    "    r=fila['State']\r\n",
    "    if r=='Arizona':\r\n",
    "        re=1\r\n",
    "        return re\r\n",
    "    else:\r\n",
    "        re=0\r\n",
    "        return re\r\n",
    "df_comorbidity['Arizona']=df_comorbidity.apply(estatecountry,axis=1)"
   ],
   "outputs": [],
   "metadata": {}
  },
  {
   "cell_type": "code",
   "execution_count": 7,
   "source": [
    "def estatecountry(fila):\r\n",
    "    r=fila['State']\r\n",
    "    if r=='Arkansas':\r\n",
    "        re=1\r\n",
    "        return re\r\n",
    "    else:\r\n",
    "        re=0\r\n",
    "        return re\r\n",
    "df_comorbidity['Arkansas']=df_comorbidity.apply(estatecountry,axis=1)"
   ],
   "outputs": [],
   "metadata": {}
  },
  {
   "cell_type": "code",
   "execution_count": 8,
   "source": [
    "def estatecountry(fila):\r\n",
    "    r=fila['State']\r\n",
    "    if r=='California':\r\n",
    "        re=1\r\n",
    "        return re\r\n",
    "    else:\r\n",
    "        re=0\r\n",
    "        return re\r\n",
    "df_comorbidity['California']=df_comorbidity.apply(estatecountry,axis=1)"
   ],
   "outputs": [],
   "metadata": {}
  },
  {
   "cell_type": "code",
   "execution_count": 9,
   "source": [
    "def estatecountry(fila):\r\n",
    "    r=fila['State']\r\n",
    "    if r=='Colorado':\r\n",
    "        re=1\r\n",
    "        return re\r\n",
    "    else:\r\n",
    "        re=0\r\n",
    "        return re\r\n",
    "df_comorbidity['Colorado']=df_comorbidity.apply(estatecountry,axis=1)"
   ],
   "outputs": [],
   "metadata": {}
  },
  {
   "cell_type": "code",
   "execution_count": 10,
   "source": [
    "def estatecountry(fila):\r\n",
    "    r=fila['State']\r\n",
    "    if r=='Connecticut':\r\n",
    "        re=1\r\n",
    "        return re\r\n",
    "    else:\r\n",
    "        re=0\r\n",
    "        return re\r\n",
    "df_comorbidity['Connecticut']=df_comorbidity.apply(estatecountry,axis=1)"
   ],
   "outputs": [],
   "metadata": {}
  },
  {
   "cell_type": "code",
   "execution_count": 11,
   "source": [
    "def estatecountry(fila):\r\n",
    "    r=fila['State']\r\n",
    "    if r=='Delaware':\r\n",
    "        re=1\r\n",
    "        return re\r\n",
    "    else:\r\n",
    "        re=0\r\n",
    "        return re\r\n",
    "df_comorbidity['Delaware']=df_comorbidity.apply(estatecountry,axis=1)"
   ],
   "outputs": [],
   "metadata": {}
  },
  {
   "cell_type": "code",
   "execution_count": 12,
   "source": [
    "def estatecountry(fila):\r\n",
    "    r=fila['State']\r\n",
    "    if r=='District of Columbia':\r\n",
    "        re=1\r\n",
    "        return re\r\n",
    "    else:\r\n",
    "        re=0\r\n",
    "        return re\r\n",
    "df_comorbidity['DistrictOfColumbia']=df_comorbidity.apply(estatecountry,axis=1)"
   ],
   "outputs": [],
   "metadata": {}
  },
  {
   "cell_type": "code",
   "execution_count": 13,
   "source": [
    "def estatecountry(fila):\r\n",
    "    r=fila['State']\r\n",
    "    if r=='Florida':\r\n",
    "        re=1\r\n",
    "        return re\r\n",
    "    else:\r\n",
    "        re=0\r\n",
    "        return re\r\n",
    "df_comorbidity['Florida']=df_comorbidity.apply(estatecountry,axis=1)"
   ],
   "outputs": [],
   "metadata": {}
  },
  {
   "cell_type": "code",
   "execution_count": 14,
   "source": [
    "def estatecountry(fila):\r\n",
    "    r=fila['State']\r\n",
    "    if r=='Georgia':\r\n",
    "        re=1\r\n",
    "        return re\r\n",
    "    else:\r\n",
    "        re=0\r\n",
    "        return re\r\n",
    "df_comorbidity['Georgia']=df_comorbidity.apply(estatecountry,axis=1)"
   ],
   "outputs": [],
   "metadata": {}
  },
  {
   "cell_type": "code",
   "execution_count": 15,
   "source": [
    "def estatecountry(fila):\r\n",
    "    r=fila['State']\r\n",
    "    if r=='Hawaii':\r\n",
    "        re=1\r\n",
    "        return re\r\n",
    "    else:\r\n",
    "        re=0\r\n",
    "        return re\r\n",
    "df_comorbidity['Hawaii']=df_comorbidity.apply(estatecountry,axis=1)"
   ],
   "outputs": [],
   "metadata": {}
  },
  {
   "cell_type": "code",
   "execution_count": 16,
   "source": [
    "def estatecountry(fila):\r\n",
    "    r=fila['State']\r\n",
    "    if r=='Idaho':\r\n",
    "        re=1\r\n",
    "        return re\r\n",
    "    else:\r\n",
    "        re=0\r\n",
    "        return re\r\n",
    "df_comorbidity['Idaho']=df_comorbidity.apply(estatecountry,axis=1)"
   ],
   "outputs": [],
   "metadata": {}
  },
  {
   "cell_type": "code",
   "execution_count": 17,
   "source": [
    "def estatecountry(fila):\r\n",
    "    r=fila['State']\r\n",
    "    if r=='Illinois':\r\n",
    "        re=1\r\n",
    "        return re\r\n",
    "    else:\r\n",
    "        re=0\r\n",
    "        return re\r\n",
    "df_comorbidity['Illinois']=df_comorbidity.apply(estatecountry,axis=1)"
   ],
   "outputs": [],
   "metadata": {}
  },
  {
   "cell_type": "code",
   "execution_count": 18,
   "source": [
    "def estatecountry(fila):\r\n",
    "    r=fila['State']\r\n",
    "    if r=='Indiana':\r\n",
    "        re=1\r\n",
    "        return re\r\n",
    "    else:\r\n",
    "        re=0\r\n",
    "        return re\r\n",
    "df_comorbidity['Indiana']=df_comorbidity.apply(estatecountry,axis=1)"
   ],
   "outputs": [],
   "metadata": {}
  },
  {
   "cell_type": "code",
   "execution_count": 19,
   "source": [
    "def estatecountry(fila):\r\n",
    "    r=fila['State']\r\n",
    "    if r=='Iowa':\r\n",
    "        re=1\r\n",
    "        return re\r\n",
    "    else:\r\n",
    "        re=0\r\n",
    "        return re\r\n",
    "df_comorbidity['Iowa']=df_comorbidity.apply(estatecountry,axis=1)"
   ],
   "outputs": [],
   "metadata": {}
  },
  {
   "cell_type": "code",
   "execution_count": 20,
   "source": [
    "def estatecountry(fila):\r\n",
    "    r=fila['State']\r\n",
    "    if r=='Kansas':\r\n",
    "        re=1\r\n",
    "        return re\r\n",
    "    else:\r\n",
    "        re=0\r\n",
    "        return re\r\n",
    "df_comorbidity['Kansas']=df_comorbidity.apply(estatecountry,axis=1)"
   ],
   "outputs": [],
   "metadata": {}
  },
  {
   "cell_type": "code",
   "execution_count": 21,
   "source": [
    "def estatecountry(fila):\r\n",
    "    r=fila['State']\r\n",
    "    if r=='Kentucky':\r\n",
    "        re=1\r\n",
    "        return re\r\n",
    "    else:\r\n",
    "        re=0\r\n",
    "        return re\r\n",
    "df_comorbidity['Kentucky']=df_comorbidity.apply(estatecountry,axis=1)"
   ],
   "outputs": [],
   "metadata": {}
  },
  {
   "cell_type": "code",
   "execution_count": 22,
   "source": [
    "def estatecountry(fila):\r\n",
    "    r=fila['State']\r\n",
    "    if r=='Louisiana':\r\n",
    "        re=1\r\n",
    "        return re\r\n",
    "    else:\r\n",
    "        re=0\r\n",
    "        return re\r\n",
    "df_comorbidity['Louisiana']=df_comorbidity.apply(estatecountry,axis=1)"
   ],
   "outputs": [],
   "metadata": {}
  },
  {
   "cell_type": "code",
   "execution_count": 23,
   "source": [
    "def estatecountry(fila):\r\n",
    "    r=fila['State']\r\n",
    "    if r=='Maine':\r\n",
    "        re=1\r\n",
    "        return re\r\n",
    "    else:\r\n",
    "        re=0\r\n",
    "        return re\r\n",
    "df_comorbidity['Maine']=df_comorbidity.apply(estatecountry,axis=1)"
   ],
   "outputs": [],
   "metadata": {}
  },
  {
   "cell_type": "code",
   "execution_count": 24,
   "source": [
    "def estatecountry(fila):\r\n",
    "    r=fila['State']\r\n",
    "    if r=='Delaware':\r\n",
    "        re=1\r\n",
    "        return re\r\n",
    "    else:\r\n",
    "        re=0\r\n",
    "        return re\r\n",
    "df_comorbidity['Delaware']=df_comorbidity.apply(estatecountry,axis=1)"
   ],
   "outputs": [],
   "metadata": {}
  },
  {
   "cell_type": "code",
   "execution_count": 25,
   "source": [
    "def estatecountry(fila):\r\n",
    "    r=fila['State']\r\n",
    "    if r=='Maryland':\r\n",
    "        re=1\r\n",
    "        return re\r\n",
    "    else:\r\n",
    "        re=0\r\n",
    "        return re\r\n",
    "df_comorbidity['Maryland']=df_comorbidity.apply(estatecountry,axis=1)"
   ],
   "outputs": [],
   "metadata": {}
  },
  {
   "cell_type": "code",
   "execution_count": 26,
   "source": [
    "def estatecountry(fila):\r\n",
    "    r=fila['State']\r\n",
    "    if r=='Massachusetts':\r\n",
    "        re=1\r\n",
    "        return re\r\n",
    "    else:\r\n",
    "        re=0\r\n",
    "        return re\r\n",
    "df_comorbidity['Massachusetts']=df_comorbidity.apply(estatecountry,axis=1)"
   ],
   "outputs": [],
   "metadata": {}
  },
  {
   "cell_type": "code",
   "execution_count": 27,
   "source": [
    "def estatecountry(fila):\r\n",
    "    r=fila['State']\r\n",
    "    if r=='Michigan':\r\n",
    "        re=1\r\n",
    "        return re\r\n",
    "    else:\r\n",
    "        re=0\r\n",
    "        return re\r\n",
    "df_comorbidity['Michigan']=df_comorbidity.apply(estatecountry,axis=1)"
   ],
   "outputs": [],
   "metadata": {}
  },
  {
   "cell_type": "code",
   "execution_count": 28,
   "source": [
    "def estatecountry(fila):\r\n",
    "    r=fila['State']\r\n",
    "    if r=='Minnesota':\r\n",
    "        re=1\r\n",
    "        return re\r\n",
    "    else:\r\n",
    "        re=0\r\n",
    "        return re\r\n",
    "df_comorbidity['Minnesota']=df_comorbidity.apply(estatecountry,axis=1)"
   ],
   "outputs": [],
   "metadata": {}
  },
  {
   "cell_type": "code",
   "execution_count": 29,
   "source": [
    "def estatecountry(fila):\r\n",
    "    r=fila['State']\r\n",
    "    if r=='Mississippi':\r\n",
    "        re=1\r\n",
    "        return re\r\n",
    "    else:\r\n",
    "        re=0\r\n",
    "        return re\r\n",
    "df_comorbidity['Mississippi']=df_comorbidity.apply(estatecountry,axis=1)"
   ],
   "outputs": [],
   "metadata": {}
  },
  {
   "cell_type": "code",
   "execution_count": 30,
   "source": [
    "def estatecountry(fila):\r\n",
    "    r=fila['State']\r\n",
    "    if r=='Missouri':\r\n",
    "        re=1\r\n",
    "        return re\r\n",
    "    else:\r\n",
    "        re=0\r\n",
    "        return re\r\n",
    "df_comorbidity['Missouri']=df_comorbidity.apply(estatecountry,axis=1)"
   ],
   "outputs": [],
   "metadata": {}
  },
  {
   "cell_type": "code",
   "execution_count": 31,
   "source": [
    "def estatecountry(fila):\r\n",
    "    r=fila['State']\r\n",
    "    if r=='Montana':\r\n",
    "        re=1\r\n",
    "        return re\r\n",
    "    else:\r\n",
    "        re=0\r\n",
    "        return re\r\n",
    "df_comorbidity['Montana']=df_comorbidity.apply(estatecountry,axis=1)"
   ],
   "outputs": [],
   "metadata": {}
  },
  {
   "cell_type": "code",
   "execution_count": 32,
   "source": [
    "def estatecountry(fila):\r\n",
    "    r=fila['State']\r\n",
    "    if r=='Nebraska':\r\n",
    "        re=1\r\n",
    "        return re\r\n",
    "    else:\r\n",
    "        re=0\r\n",
    "        return re\r\n",
    "df_comorbidity['Nebraska']=df_comorbidity.apply(estatecountry,axis=1)"
   ],
   "outputs": [],
   "metadata": {}
  },
  {
   "cell_type": "code",
   "execution_count": 33,
   "source": [
    "def estatecountry(fila):\r\n",
    "    r=fila['State']\r\n",
    "    if r=='Nevada':\r\n",
    "        re=1\r\n",
    "        return re\r\n",
    "    else:\r\n",
    "        re=0\r\n",
    "        return re\r\n",
    "df_comorbidity['Nevada']=df_comorbidity.apply(estatecountry,axis=1)"
   ],
   "outputs": [],
   "metadata": {}
  },
  {
   "cell_type": "code",
   "execution_count": 34,
   "source": [
    "def estatecountry(fila):\r\n",
    "    r=fila['State']\r\n",
    "    if r=='New Hampshire':\r\n",
    "        re=1\r\n",
    "        return re\r\n",
    "    else:\r\n",
    "        re=0\r\n",
    "        return re\r\n",
    "df_comorbidity['NewHampshire']=df_comorbidity.apply(estatecountry,axis=1)"
   ],
   "outputs": [],
   "metadata": {}
  },
  {
   "cell_type": "code",
   "execution_count": 35,
   "source": [
    "def estatecountry(fila):\r\n",
    "    r=fila['State']\r\n",
    "    if r=='New Jersey':\r\n",
    "        re=1\r\n",
    "        return re\r\n",
    "    else:\r\n",
    "        re=0\r\n",
    "        return re\r\n",
    "df_comorbidity['NewJersey']=df_comorbidity.apply(estatecountry,axis=1)"
   ],
   "outputs": [],
   "metadata": {}
  },
  {
   "cell_type": "code",
   "execution_count": 36,
   "source": [
    "def estatecountry(fila):\r\n",
    "    r=fila['State']\r\n",
    "    if r=='Michigan':\r\n",
    "        re=1\r\n",
    "        return re\r\n",
    "    else:\r\n",
    "        re=0\r\n",
    "        return re\r\n",
    "df_comorbidity['Michigan']=df_comorbidity.apply(estatecountry,axis=1)"
   ],
   "outputs": [],
   "metadata": {}
  },
  {
   "cell_type": "code",
   "execution_count": 37,
   "source": [
    "def estatecountry(fila):\r\n",
    "    r=fila['State']\r\n",
    "    if r=='New Mexico':\r\n",
    "        re=1\r\n",
    "        return re\r\n",
    "    else:\r\n",
    "        re=0\r\n",
    "        return re\r\n",
    "df_comorbidity['NewMexico']=df_comorbidity.apply(estatecountry,axis=1)"
   ],
   "outputs": [],
   "metadata": {}
  },
  {
   "cell_type": "code",
   "execution_count": 38,
   "source": [
    "def estatecountry(fila):\r\n",
    "    r=fila['State']\r\n",
    "    if r=='New York City':\r\n",
    "        re=1\r\n",
    "        return re\r\n",
    "    else:\r\n",
    "        re=0\r\n",
    "        return re\r\n",
    "df_comorbidity['NewYorkCity']=df_comorbidity.apply(estatecountry,axis=1)"
   ],
   "outputs": [],
   "metadata": {}
  },
  {
   "cell_type": "code",
   "execution_count": 39,
   "source": [
    "def estatecountry(fila):\r\n",
    "    r=fila['State']\r\n",
    "    if r=='New York':\r\n",
    "        re=1\r\n",
    "        return re\r\n",
    "    else:\r\n",
    "        re=0\r\n",
    "        return re\r\n",
    "df_comorbidity['NewYork']=df_comorbidity.apply(estatecountry,axis=1)"
   ],
   "outputs": [],
   "metadata": {}
  },
  {
   "cell_type": "code",
   "execution_count": 40,
   "source": [
    "def estatecountry(fila):\r\n",
    "    r=fila['State']\r\n",
    "    if r=='North Carolina':\r\n",
    "        re=1\r\n",
    "        return re\r\n",
    "    else:\r\n",
    "        re=0\r\n",
    "        return re\r\n",
    "df_comorbidity['NorthCarolina']=df_comorbidity.apply(estatecountry,axis=1)"
   ],
   "outputs": [],
   "metadata": {}
  },
  {
   "cell_type": "code",
   "execution_count": 41,
   "source": [
    "def estatecountry(fila):\r\n",
    "    r=fila['State']\r\n",
    "    if r=='North Dakota':\r\n",
    "        re=1\r\n",
    "        return re\r\n",
    "    else:\r\n",
    "        re=0\r\n",
    "        return re\r\n",
    "df_comorbidity['NorthDakota']=df_comorbidity.apply(estatecountry,axis=1)"
   ],
   "outputs": [],
   "metadata": {}
  },
  {
   "cell_type": "code",
   "execution_count": 42,
   "source": [
    "def estatecountry(fila):\r\n",
    "    r=fila['State']\r\n",
    "    if r=='Ohio':\r\n",
    "        re=1\r\n",
    "        return re\r\n",
    "    else:\r\n",
    "        re=0\r\n",
    "        return re\r\n",
    "df_comorbidity['Ohio']=df_comorbidity.apply(estatecountry,axis=1)"
   ],
   "outputs": [],
   "metadata": {}
  },
  {
   "cell_type": "code",
   "execution_count": 43,
   "source": [
    "def estatecountry(fila):\r\n",
    "    r=fila['State']\r\n",
    "    if r=='Oklahoma':\r\n",
    "        re=1\r\n",
    "        return re\r\n",
    "    else:\r\n",
    "        re=0\r\n",
    "        return re\r\n",
    "df_comorbidity['Oklahoma']=df_comorbidity.apply(estatecountry,axis=1)"
   ],
   "outputs": [],
   "metadata": {}
  },
  {
   "cell_type": "code",
   "execution_count": 44,
   "source": [
    "def estatecountry(fila):\r\n",
    "    r=fila['State']\r\n",
    "    if r=='Oregon':\r\n",
    "        re=1\r\n",
    "        return re\r\n",
    "    else:\r\n",
    "        re=0\r\n",
    "        return re\r\n",
    "df_comorbidity['Oregon']=df_comorbidity.apply(estatecountry,axis=1)"
   ],
   "outputs": [],
   "metadata": {}
  },
  {
   "cell_type": "code",
   "execution_count": 45,
   "source": [
    "def estatecountry(fila):\r\n",
    "    r=fila['State']\r\n",
    "    if r=='Pennsylvania':\r\n",
    "        re=1\r\n",
    "        return re\r\n",
    "    else:\r\n",
    "        re=0\r\n",
    "        return re\r\n",
    "df_comorbidity['Pennsylvania']=df_comorbidity.apply(estatecountry,axis=1)"
   ],
   "outputs": [],
   "metadata": {}
  },
  {
   "cell_type": "code",
   "execution_count": 46,
   "source": [
    "def estatecountry(fila):\r\n",
    "    r=fila['State']\r\n",
    "    if r=='Puerto Rico':\r\n",
    "        re=1\r\n",
    "        return re\r\n",
    "    else:\r\n",
    "        re=0\r\n",
    "        return re\r\n",
    "df_comorbidity['PuertoRico']=df_comorbidity.apply(estatecountry,axis=1)"
   ],
   "outputs": [],
   "metadata": {}
  },
  {
   "cell_type": "code",
   "execution_count": 47,
   "source": [
    "def estatecountry(fila):\r\n",
    "    r=fila['State']\r\n",
    "    if r=='Rhode Island':\r\n",
    "        re=1\r\n",
    "        return re\r\n",
    "    else:\r\n",
    "        re=0\r\n",
    "        return re\r\n",
    "df_comorbidity['RhodeIsland']=df_comorbidity.apply(estatecountry,axis=1)"
   ],
   "outputs": [],
   "metadata": {}
  },
  {
   "cell_type": "code",
   "execution_count": 48,
   "source": [
    "def estatecountry(fila):\r\n",
    "    r=fila['State']\r\n",
    "    if r=='South Carolina':\r\n",
    "        re=1\r\n",
    "        return re\r\n",
    "    else:\r\n",
    "        re=0\r\n",
    "        return re\r\n",
    "df_comorbidity['SouthCarolina']=df_comorbidity.apply(estatecountry,axis=1)"
   ],
   "outputs": [],
   "metadata": {}
  },
  {
   "cell_type": "code",
   "execution_count": 49,
   "source": [
    "def estatecountry(fila):\r\n",
    "    r=fila['State']\r\n",
    "    if r=='South Dakota':\r\n",
    "        re=1\r\n",
    "        return re\r\n",
    "    else:\r\n",
    "        re=0\r\n",
    "        return re\r\n",
    "df_comorbidity['SouthDakota']=df_comorbidity.apply(estatecountry,axis=1)"
   ],
   "outputs": [],
   "metadata": {}
  },
  {
   "cell_type": "code",
   "execution_count": 50,
   "source": [
    "def estatecountry(fila):\r\n",
    "    r=fila['State']\r\n",
    "    if r=='Tennessee':\r\n",
    "        re=1\r\n",
    "        return re\r\n",
    "    else:\r\n",
    "        re=0\r\n",
    "        return re\r\n",
    "df_comorbidity['Tennessee']=df_comorbidity.apply(estatecountry,axis=1)"
   ],
   "outputs": [],
   "metadata": {}
  },
  {
   "cell_type": "code",
   "execution_count": 51,
   "source": [
    "def estatecountry(fila):\r\n",
    "    r=fila['State']\r\n",
    "    if r=='Texas':\r\n",
    "        re=1\r\n",
    "        return re\r\n",
    "    else:\r\n",
    "        re=0\r\n",
    "        return re\r\n",
    "df_comorbidity['Texas']=df_comorbidity.apply(estatecountry,axis=1)"
   ],
   "outputs": [],
   "metadata": {}
  },
  {
   "cell_type": "code",
   "execution_count": 52,
   "source": [
    "def estatecountry(fila):\r\n",
    "    r=fila['State']\r\n",
    "    if r=='Utah':\r\n",
    "        re=1\r\n",
    "        return re\r\n",
    "    else:\r\n",
    "        re=0\r\n",
    "        return re\r\n",
    "df_comorbidity['Utah']=df_comorbidity.apply(estatecountry,axis=1)"
   ],
   "outputs": [],
   "metadata": {}
  },
  {
   "cell_type": "code",
   "execution_count": 53,
   "source": [
    "def estatecountry(fila):\r\n",
    "    r=fila['State']\r\n",
    "    if r=='Vermont':\r\n",
    "        re=1\r\n",
    "        return re\r\n",
    "    else:\r\n",
    "        re=0\r\n",
    "        return re\r\n",
    "df_comorbidity['Vermont']=df_comorbidity.apply(estatecountry,axis=1)"
   ],
   "outputs": [],
   "metadata": {}
  },
  {
   "cell_type": "code",
   "execution_count": 54,
   "source": [
    "def estatecountry(fila):\r\n",
    "    r=fila['State']\r\n",
    "    if r=='Virginia':\r\n",
    "        re=1\r\n",
    "        return re\r\n",
    "    else:\r\n",
    "        re=0\r\n",
    "        return re\r\n",
    "df_comorbidity['Virginia']=df_comorbidity.apply(estatecountry,axis=1)"
   ],
   "outputs": [],
   "metadata": {}
  },
  {
   "cell_type": "code",
   "execution_count": 55,
   "source": [
    "def estatecountry(fila):\r\n",
    "    r=fila['State']\r\n",
    "    if r=='Washington':\r\n",
    "        re=1\r\n",
    "        return re\r\n",
    "    else:\r\n",
    "        re=0\r\n",
    "        return re\r\n",
    "df_comorbidity['Washington']=df_comorbidity.apply(estatecountry,axis=1)"
   ],
   "outputs": [],
   "metadata": {}
  },
  {
   "cell_type": "code",
   "execution_count": 56,
   "source": [
    "def estatecountry(fila):\r\n",
    "    r=fila['State']\r\n",
    "    if r=='West Virginia':\r\n",
    "        re=1\r\n",
    "        return re\r\n",
    "    else:\r\n",
    "        re=0\r\n",
    "        return re\r\n",
    "df_comorbidity['WestVirginia']=df_comorbidity.apply(estatecountry,axis=1)"
   ],
   "outputs": [],
   "metadata": {}
  },
  {
   "cell_type": "code",
   "execution_count": 57,
   "source": [
    "def estatecountry(fila):\r\n",
    "    r=fila['State']\r\n",
    "    if r=='Wisconsin':\r\n",
    "        re=1\r\n",
    "        return re\r\n",
    "    else:\r\n",
    "        re=0\r\n",
    "        return re\r\n",
    "df_comorbidity['Wisconsin']=df_comorbidity.apply(estatecountry,axis=1)"
   ],
   "outputs": [],
   "metadata": {}
  },
  {
   "cell_type": "code",
   "execution_count": 58,
   "source": [
    "def estatecountry(fila):\r\n",
    "    r=fila['State']\r\n",
    "    if r=='Wyoming':\r\n",
    "        re=1\r\n",
    "        return re\r\n",
    "    else:\r\n",
    "        re=0\r\n",
    "        return re\r\n",
    "df_comorbidity['Wyoming']=df_comorbidity.apply(estatecountry,axis=1)"
   ],
   "outputs": [],
   "metadata": {}
  },
  {
   "cell_type": "markdown",
   "source": [
    "## NORMALIZACION\r\n",
    "Dado que en los datos exploratorios encotramos que hay una clasificación del grupo de enfermedades ICD10_codes, procederemos a estandarizar los grupos de las enfermedades por medio de la normalización booleana [0,1] por medio las siguentes funciones Python de forma controlada procederemos a convertir las variables dependientes en columnas en las cuales 0 significa que no está presente la enfermedad y 1 que si está presente dicha enfermedad."
   ],
   "metadata": {}
  },
  {
   "cell_type": "code",
   "execution_count": 59,
   "source": [
    "def conditiongroup(fila): # Función def recorre de forma controlada el objeto que definimos como Fila\r\n",
    "    r=fila['Condition Group'] # r= posición que repetirá el numero de filas que tenga la columna.\r\n",
    "    if r=='All other conditions and causes (residual)': # condicion: si encuentra las palabras a la derecha de r==, entonces:\r\n",
    "        re=1 #respuesta que debe colocar 1\r\n",
    "        return re # Retorne la respuesta\r\n",
    "    else: # Sino\r\n",
    "        re=0 # retorne 0 \r\n",
    "        return re\r\n",
    "df_comorbidity['OtherConditions_ResidualGroup']=df_comorbidity.apply(conditiongroup,axis=1)\r\n",
    "# la nueva columna creada es: df_comorbidity['OtherConditions_ResidualGroup'\r\n",
    "# inserte la respuesta de las condiciones dadas en la funcion def, dentro del dataframe df_comorbidity.apply(estatecountry,axis=1), de la nueva columna creada \r\n"
   ],
   "outputs": [],
   "metadata": {}
  },
  {
   "cell_type": "markdown",
   "source": [
    "## REPETIMOS EL MISMO PROCEDIMIENTO EXPLICADO ANTERIORMENTE CON TODOS LOS GRUPOS DE ENFERMEDADES"
   ],
   "metadata": {}
  },
  {
   "cell_type": "code",
   "execution_count": 60,
   "source": [
    "def conditiongroup(fila):\r\n",
    "    r=fila['Condition Group']\r\n",
    "    if r=='Alzheimer disease':\r\n",
    "        re=1\r\n",
    "        return re\r\n",
    "    else:\r\n",
    "        re=0\r\n",
    "        return re\r\n",
    "df_comorbidity['Alzheimer_DiseaseGroup']=df_comorbidity.apply(conditiongroup,axis=1)"
   ],
   "outputs": [],
   "metadata": {}
  },
  {
   "cell_type": "code",
   "execution_count": 61,
   "source": [
    "def conditiongroup(fila):\r\n",
    "    r=fila['Condition Group']\r\n",
    "    if r=='Circulatory diseases':\r\n",
    "        re=1\r\n",
    "        return re\r\n",
    "    else:\r\n",
    "        re=0\r\n",
    "        return re\r\n",
    "df_comorbidity['Circulatory_DiseasesGroup']=df_comorbidity.apply(conditiongroup,axis=1)"
   ],
   "outputs": [],
   "metadata": {}
  },
  {
   "cell_type": "code",
   "execution_count": 62,
   "source": [
    "def conditiongroup(fila):\r\n",
    "    r=fila['Condition Group']\r\n",
    "    if r=='COVID-19':\r\n",
    "        re=1\r\n",
    "        return re\r\n",
    "    else:\r\n",
    "        re=0\r\n",
    "        return re\r\n",
    "df_comorbidity['SarsCOv19Group']=df_comorbidity.apply(conditiongroup,axis=1)"
   ],
   "outputs": [],
   "metadata": {}
  },
  {
   "cell_type": "code",
   "execution_count": 63,
   "source": [
    "def conditiongroup(fila):\r\n",
    "    r=fila['Condition Group']\r\n",
    "    if r=='Diabetes':\r\n",
    "        re=1\r\n",
    "        return re\r\n",
    "    else:\r\n",
    "        re=0\r\n",
    "        return re\r\n",
    "df_comorbidity['DiabetesGroup']=df_comorbidity.apply(conditiongroup,axis=1)"
   ],
   "outputs": [],
   "metadata": {}
  },
  {
   "cell_type": "code",
   "execution_count": 64,
   "source": [
    "def conditiongroup(fila):\r\n",
    "    r=fila['Condition Group']\r\n",
    "    if r=='Intentional and unintentional injury, poisoning, and other adverse events':\r\n",
    "        re=1\r\n",
    "        return re\r\n",
    "    else:\r\n",
    "        re=0\r\n",
    "        return re\r\n",
    "df_comorbidity['IntUnintInjury_PoisoningAdverGroup']=df_comorbidity.apply(conditiongroup,axis=1)"
   ],
   "outputs": [],
   "metadata": {}
  },
  {
   "cell_type": "code",
   "execution_count": 65,
   "source": [
    "def conditiongroup(fila):\r\n",
    "    r=fila['Condition Group']\r\n",
    "    if r=='Malignant neoplasms':\r\n",
    "        re=1\r\n",
    "        return re\r\n",
    "    else:\r\n",
    "        re=0\r\n",
    "        return re\r\n",
    "df_comorbidity['Malignant_NeoplasmsGroup']=df_comorbidity.apply(conditiongroup,axis=1)"
   ],
   "outputs": [],
   "metadata": {}
  },
  {
   "cell_type": "code",
   "execution_count": 66,
   "source": [
    "def conditiongroup(fila):\r\n",
    "    r=fila['Condition Group']\r\n",
    "    if r=='Obesity':\r\n",
    "        re=1\r\n",
    "        return re\r\n",
    "    else:\r\n",
    "        re=0\r\n",
    "        return re\r\n",
    "df_comorbidity['ObesityGroup']=df_comorbidity.apply(conditiongroup,axis=1)"
   ],
   "outputs": [],
   "metadata": {}
  },
  {
   "cell_type": "code",
   "execution_count": 67,
   "source": [
    "def conditiongroup(fila):\r\n",
    "    r=fila['Condition Group']\r\n",
    "    if r=='Renal failure':\r\n",
    "        re=1\r\n",
    "        return re\r\n",
    "    else:\r\n",
    "        re=0\r\n",
    "        return re\r\n",
    "df_comorbidity['Renal_FailureGroup']=df_comorbidity.apply(conditiongroup,axis=1)"
   ],
   "outputs": [],
   "metadata": {}
  },
  {
   "cell_type": "code",
   "execution_count": 68,
   "source": [
    "def conditiongroup(fila):\r\n",
    "    r=fila['Condition Group']\r\n",
    "    if r=='Respiratory diseases':\r\n",
    "        re=1\r\n",
    "        return re\r\n",
    "    else:\r\n",
    "        re=0\r\n",
    "        return re\r\n",
    "df_comorbidity['Respiratory_DiseasesGroup']=df_comorbidity.apply(conditiongroup,axis=1)"
   ],
   "outputs": [],
   "metadata": {}
  },
  {
   "cell_type": "code",
   "execution_count": 69,
   "source": [
    "def conditiongroup(fila):\r\n",
    "    r=fila['Condition Group']\r\n",
    "    if r=='Sepsis':\r\n",
    "        re=1\r\n",
    "        return re\r\n",
    "    else:\r\n",
    "        re=0\r\n",
    "        return re\r\n",
    "df_comorbidity['SepsisGroup']=df_comorbidity.apply(conditiongroup,axis=1)"
   ],
   "outputs": [],
   "metadata": {}
  },
  {
   "cell_type": "code",
   "execution_count": 70,
   "source": [
    "def conditiongroup(fila):\r\n",
    "    r=fila['Condition Group']\r\n",
    "    if r=='Vascular and unspecified dementia':\r\n",
    "        re=1\r\n",
    "        return re\r\n",
    "    else:\r\n",
    "        re=0\r\n",
    "        return re\r\n",
    "df_comorbidity['Vascular_DementiaGroup']=df_comorbidity.apply(conditiongroup,axis=1)"
   ],
   "outputs": [],
   "metadata": {}
  },
  {
   "cell_type": "markdown",
   "source": [
    "## NORMALIZACION DE LAS FRECUENCIAS\r\n",
    "dado que necesitamos identificar variables ordinales para incluir en el **STATSMODEL** procederemos a identificar la frecuencia de la muerte, por las enfermedades presentadas. "
   ],
   "metadata": {}
  },
  {
   "cell_type": "code",
   "execution_count": 71,
   "source": [
    "def group(fila):\r\n",
    "    r=fila['Group']\r\n",
    "    if r=='By Month':\r\n",
    "        re=1\r\n",
    "        return re\r\n",
    "    else:\r\n",
    "        re=0\r\n",
    "        return re\r\n",
    "df_comorbidity['ByMonth']=df_comorbidity.apply(group,axis=1)"
   ],
   "outputs": [],
   "metadata": {}
  },
  {
   "cell_type": "code",
   "execution_count": 72,
   "source": [
    "def group(fila):\r\n",
    "    r=fila['Group']\r\n",
    "    if r=='By Total':\r\n",
    "        re=1\r\n",
    "        return re\r\n",
    "    else:\r\n",
    "        re=0\r\n",
    "        return re\r\n",
    "df_comorbidity['ByTotal']=df_comorbidity.apply(group,axis=1)"
   ],
   "outputs": [],
   "metadata": {}
  },
  {
   "cell_type": "code",
   "execution_count": 73,
   "source": [
    "def group(fila):\r\n",
    "    r=fila['Group']\r\n",
    "    if r=='By Year':\r\n",
    "        re=1\r\n",
    "        return re\r\n",
    "    else:\r\n",
    "        re=0\r\n",
    "        return re\r\n",
    "df_comorbidity['ByYear']=df_comorbidity.apply(group,axis=1)"
   ],
   "outputs": [],
   "metadata": {}
  },
  {
   "cell_type": "markdown",
   "source": [
    "## NORMALIZACION ENFERMEDADES\r\n",
    "dado que contamos con las enfermedades especificas procedemos a realizar la misma normalizacion para las enfermedades especificas.\r\n"
   ],
   "metadata": {}
  },
  {
   "cell_type": "code",
   "execution_count": 74,
   "source": [
    "def conditional(fila):\r\n",
    "    r=fila['Condition']\r\n",
    "    if r=='Adult respiratory distress syndrome':\r\n",
    "        re=1\r\n",
    "        return re\r\n",
    "    else:\r\n",
    "        re=0\r\n",
    "        return re\r\n",
    "df_comorbidity['AdultRespiratoryDistressSyndrome']=df_comorbidity.apply(conditional,axis=1)"
   ],
   "outputs": [],
   "metadata": {}
  },
  {
   "cell_type": "code",
   "execution_count": 75,
   "source": [
    "def conditional(fila):\r\n",
    "    r=fila['Condition']\r\n",
    "    if r=='All other conditions and causes (residual)':\r\n",
    "        re=1\r\n",
    "        return re\r\n",
    "    else:\r\n",
    "        re=0\r\n",
    "        return re\r\n",
    "df_comorbidity['OtherConditionsResidual']=df_comorbidity.apply(conditional,axis=1)#OtherConditions_residualGroup"
   ],
   "outputs": [],
   "metadata": {}
  },
  {
   "cell_type": "code",
   "execution_count": 76,
   "source": [
    "def conditional(fila):\r\n",
    "    r=fila['Condition']\r\n",
    "    if r=='Alzheimer disease':\r\n",
    "        re=1\r\n",
    "        return re\r\n",
    "    else:\r\n",
    "        re=0\r\n",
    "        return re\r\n",
    "df_comorbidity['AlzheimerDisease']=df_comorbidity.apply(conditional,axis=1)"
   ],
   "outputs": [],
   "metadata": {}
  },
  {
   "cell_type": "code",
   "execution_count": 77,
   "source": [
    "def conditional(fila):\r\n",
    "    r=fila['Condition']\r\n",
    "    if r=='Cardiac arrest':\r\n",
    "        re=1\r\n",
    "        return re\r\n",
    "    else:\r\n",
    "        re=0\r\n",
    "        return re\r\n",
    "df_comorbidity['CardiacArrest']=df_comorbidity.apply(conditional,axis=1)"
   ],
   "outputs": [],
   "metadata": {}
  },
  {
   "cell_type": "code",
   "execution_count": 78,
   "source": [
    "def conditional(fila):\r\n",
    "    r=fila['Condition']\r\n",
    "    if r=='Cardiac arrhythmia':\r\n",
    "        re=1\r\n",
    "        return re\r\n",
    "    else:\r\n",
    "        re=0\r\n",
    "        return re\r\n",
    "df_comorbidity['CardiacArrhythmia']=df_comorbidity.apply(conditional,axis=1)"
   ],
   "outputs": [],
   "metadata": {}
  },
  {
   "cell_type": "code",
   "execution_count": 79,
   "source": [
    "def conditional(fila):\r\n",
    "    r=fila['Condition']\r\n",
    "    if r=='Cerebrovascular diseases':\r\n",
    "        re=1\r\n",
    "        return re\r\n",
    "    else:\r\n",
    "        re=0\r\n",
    "        return re\r\n",
    "df_comorbidity['CerebrovascularDiseases']=df_comorbidity.apply(conditional,axis=1)"
   ],
   "outputs": [],
   "metadata": {}
  },
  {
   "cell_type": "code",
   "execution_count": 80,
   "source": [
    "def conditional(fila):\r\n",
    "    r=fila['Condition']\r\n",
    "    if r=='Chronic lower respiratory diseases':\r\n",
    "        re=1\r\n",
    "        return re\r\n",
    "    else:\r\n",
    "        re=0\r\n",
    "        return re\r\n",
    "df_comorbidity['ChronicLowerRespiratoryDiseases']=df_comorbidity.apply(conditional,axis=1)"
   ],
   "outputs": [],
   "metadata": {}
  },
  {
   "cell_type": "code",
   "execution_count": 81,
   "source": [
    "def conditional(fila):\r\n",
    "    r=fila['Condition']\r\n",
    "    if r=='COVID-19':\r\n",
    "        re=1\r\n",
    "        return re\r\n",
    "    else:\r\n",
    "        re=0\r\n",
    "        return re\r\n",
    "df_comorbidity['SarsCov19']=df_comorbidity.apply(conditional,axis=1)"
   ],
   "outputs": [],
   "metadata": {}
  },
  {
   "cell_type": "markdown",
   "source": [
    "df_comorbidity.drop(['COVID-19'],axis=1)"
   ],
   "metadata": {}
  },
  {
   "cell_type": "code",
   "execution_count": 82,
   "source": [
    "def conditional(fila):\r\n",
    "    r=fila['Condition']\r\n",
    "    if r=='Diabetes':\r\n",
    "        re=1\r\n",
    "        return re\r\n",
    "    else:\r\n",
    "        re=0\r\n",
    "        return re\r\n",
    "df_comorbidity['Diabetes']=df_comorbidity.apply(conditional,axis=1)"
   ],
   "outputs": [],
   "metadata": {}
  },
  {
   "cell_type": "code",
   "execution_count": 83,
   "source": [
    "def group(fila):\r\n",
    "    r=fila['Condition']\r\n",
    "    if r=='Heart failure':\r\n",
    "        re=1\r\n",
    "        return re\r\n",
    "    else:\r\n",
    "        re=0\r\n",
    "        return re\r\n",
    "df_comorbidity['HeartFailure']=df_comorbidity.apply(conditional,axis=1)"
   ],
   "outputs": [],
   "metadata": {}
  },
  {
   "cell_type": "code",
   "execution_count": 84,
   "source": [
    "def conditional(fila):\r\n",
    "    r=fila['Condition']\r\n",
    "    if r=='Hypertensive diseases':\r\n",
    "        re=1\r\n",
    "        return re\r\n",
    "    else:\r\n",
    "        re=0\r\n",
    "        return re\r\n",
    "df_comorbidity['HypertensiveDiseases']=df_comorbidity.apply(conditional,axis=1)"
   ],
   "outputs": [],
   "metadata": {}
  },
  {
   "cell_type": "code",
   "execution_count": 85,
   "source": [
    "def conditional(fila):\r\n",
    "    r=fila['Condition']\r\n",
    "    if r=='Influenza and pneumonia':\r\n",
    "        re=1\r\n",
    "        return re\r\n",
    "    else:\r\n",
    "        re=0\r\n",
    "        return re\r\n",
    "df_comorbidity['InfluenzaAndPneumonia']=df_comorbidity.apply(conditional,axis=1)"
   ],
   "outputs": [],
   "metadata": {}
  },
  {
   "cell_type": "code",
   "execution_count": 86,
   "source": [
    "def conditional(fila):\r\n",
    "    r=fila['Condition']\r\n",
    "    if r=='Intentional and unintentional injury, poisoning, and other adverse events':\r\n",
    "        re=1\r\n",
    "        return re\r\n",
    "    else:\r\n",
    "        re=0\r\n",
    "        return re\r\n",
    "df_comorbidity['IntUnintInjuryPoisoningAdver']=df_comorbidity.apply(conditional,axis=1)"
   ],
   "outputs": [],
   "metadata": {}
  },
  {
   "cell_type": "code",
   "execution_count": 87,
   "source": [
    "def conditional(fila):\r\n",
    "    r=fila['Condition']\r\n",
    "    if r=='Ischemic heart disease':\r\n",
    "        re=1\r\n",
    "        return re\r\n",
    "    else:\r\n",
    "        re=0\r\n",
    "        return re\r\n",
    "df_comorbidity['IschemicHeartDisease']=df_comorbidity.apply(conditional,axis=1)"
   ],
   "outputs": [],
   "metadata": {}
  },
  {
   "cell_type": "code",
   "execution_count": 88,
   "source": [
    "def conditional(fila):\r\n",
    "    r=fila['Condition']\r\n",
    "    if r=='Malignant neoplasms':\r\n",
    "        re=1\r\n",
    "        return re\r\n",
    "    else:\r\n",
    "        re=0\r\n",
    "        return re\r\n",
    "df_comorbidity['MalignantNeoplasms']=df_comorbidity.apply(conditional,axis=1)"
   ],
   "outputs": [],
   "metadata": {}
  },
  {
   "cell_type": "code",
   "execution_count": 89,
   "source": [
    "def conditional(fila):\r\n",
    "    r=fila['Condition']\r\n",
    "    if r=='Obesity':\r\n",
    "        re=1\r\n",
    "        return re\r\n",
    "    else:\r\n",
    "        re=0\r\n",
    "        return re\r\n",
    "df_comorbidity['Obesity']=df_comorbidity.apply(conditional,axis=1)"
   ],
   "outputs": [],
   "metadata": {}
  },
  {
   "cell_type": "code",
   "execution_count": 90,
   "source": [
    "def conditional(fila):\r\n",
    "    r=fila['Condition']\r\n",
    "    if r=='Other diseases of the circulatory system':\r\n",
    "        re=1\r\n",
    "        return re\r\n",
    "    else:\r\n",
    "        re=0\r\n",
    "        return re\r\n",
    "df_comorbidity['OtherDiseasesCirculatorySystem']=df_comorbidity.apply(conditional,axis=1)"
   ],
   "outputs": [],
   "metadata": {}
  },
  {
   "cell_type": "code",
   "execution_count": 91,
   "source": [
    "def conditional(fila):\r\n",
    "    r=fila['Condition']\r\n",
    "    if r=='Other diseases of the respiratory system':\r\n",
    "        re=1\r\n",
    "        return re\r\n",
    "    else:\r\n",
    "        re=0\r\n",
    "        return re\r\n",
    "df_comorbidity['OtherdiseasesRespiratorySystem']=df_comorbidity.apply(conditional,axis=1)"
   ],
   "outputs": [],
   "metadata": {}
  },
  {
   "cell_type": "code",
   "execution_count": 92,
   "source": [
    "def conditional(fila):\r\n",
    "    r=fila['Condition']\r\n",
    "    if r=='Renal failure':\r\n",
    "        re=1\r\n",
    "        return re\r\n",
    "    else:\r\n",
    "        re=0\r\n",
    "        return re\r\n",
    "df_comorbidity['RenalFailure']=df_comorbidity.apply(conditional,axis=1)"
   ],
   "outputs": [],
   "metadata": {}
  },
  {
   "cell_type": "code",
   "execution_count": 93,
   "source": [
    "def conditional(fila):\r\n",
    "    r=fila['Condition']\r\n",
    "    if r=='Respiratory arrest':\r\n",
    "        re=1\r\n",
    "        return re\r\n",
    "    else:\r\n",
    "        re=0\r\n",
    "        return re\r\n",
    "df_comorbidity['RespiratoryArrest']=df_comorbidity.apply(conditional,axis=1)"
   ],
   "outputs": [],
   "metadata": {}
  },
  {
   "cell_type": "code",
   "execution_count": 94,
   "source": [
    "def conditional(fila):\r\n",
    "    r=fila['Condition']\r\n",
    "    if r=='Respiratory failure':\r\n",
    "        re=1\r\n",
    "        return re\r\n",
    "    else:\r\n",
    "        re=0\r\n",
    "        return re\r\n",
    "df_comorbidity['RespiratoryFailure']=df_comorbidity.apply(conditional,axis=1)"
   ],
   "outputs": [],
   "metadata": {}
  },
  {
   "cell_type": "code",
   "execution_count": 95,
   "source": [
    "def conditional(fila):\r\n",
    "    r=fila['Condition']\r\n",
    "    if r=='Sepsis':\r\n",
    "        re=1\r\n",
    "        return re\r\n",
    "    else:\r\n",
    "        re=0\r\n",
    "        return re\r\n",
    "df_comorbidity['Sepsis']=df_comorbidity.apply(conditional,axis=1)"
   ],
   "outputs": [],
   "metadata": {}
  },
  {
   "cell_type": "code",
   "execution_count": 96,
   "source": [
    "def conditional(fila):\r\n",
    "    r=fila['Condition']\r\n",
    "    if r=='Vascular and unspecified dementia':\r\n",
    "        re=1\r\n",
    "        return re\r\n",
    "    else:\r\n",
    "        re=0\r\n",
    "        return re\r\n",
    "df_comorbidity['VascularAndUnspecifiedDementia']=df_comorbidity.apply(conditional,axis=1)"
   ],
   "outputs": [],
   "metadata": {}
  },
  {
   "cell_type": "markdown",
   "source": [
    "NORMALIZACION \r\n",
    "Rangos Edad"
   ],
   "metadata": {}
  },
  {
   "cell_type": "code",
   "execution_count": 97,
   "source": [
    "def agerange(fila):\r\n",
    "    r=fila['Age Group']\r\n",
    "    if r=='0-24':\r\n",
    "        re=1\r\n",
    "        return re\r\n",
    "    else:\r\n",
    "        re=0\r\n",
    "        return re\r\n",
    "df_comorbidity['0-24']=df_comorbidity.apply(agerange,axis=1)"
   ],
   "outputs": [],
   "metadata": {}
  },
  {
   "cell_type": "code",
   "execution_count": 98,
   "source": [
    "def agerange(fila):\r\n",
    "    r=fila['Age Group']\r\n",
    "    if r=='25-34':\r\n",
    "        re=1\r\n",
    "        return re\r\n",
    "    else:\r\n",
    "        re=0\r\n",
    "        return re\r\n",
    "df_comorbidity['25-34']=df_comorbidity.apply(agerange,axis=1)"
   ],
   "outputs": [],
   "metadata": {}
  },
  {
   "cell_type": "code",
   "execution_count": 99,
   "source": [
    "def agerange(fila):\r\n",
    "    r=fila['Age Group']\r\n",
    "    if r=='35-44':\r\n",
    "        re=1\r\n",
    "        return re\r\n",
    "    else:\r\n",
    "        re=0\r\n",
    "        return re\r\n",
    "df_comorbidity['35-44']=df_comorbidity.apply(agerange,axis=1)"
   ],
   "outputs": [],
   "metadata": {}
  },
  {
   "cell_type": "code",
   "execution_count": 100,
   "source": [
    "def agerange(fila):\r\n",
    "    r=fila['Age Group']\r\n",
    "    if r=='45-54':\r\n",
    "        re=1\r\n",
    "        return re\r\n",
    "    else:\r\n",
    "        re=0\r\n",
    "        return re\r\n",
    "df_comorbidity['45-54']=df_comorbidity.apply(agerange,axis=1)"
   ],
   "outputs": [],
   "metadata": {}
  },
  {
   "cell_type": "code",
   "execution_count": 101,
   "source": [
    "def agerange(fila):\r\n",
    "    r=fila['Age Group']\r\n",
    "    if r=='55-64':\r\n",
    "        re=1\r\n",
    "        return re\r\n",
    "    else:\r\n",
    "        re=0\r\n",
    "        return re\r\n",
    "df_comorbidity['55-64']=df_comorbidity.apply(agerange,axis=1)"
   ],
   "outputs": [],
   "metadata": {}
  },
  {
   "cell_type": "code",
   "execution_count": 102,
   "source": [
    "def agerange(fila):\r\n",
    "    r=fila['Age Group']\r\n",
    "    if r=='65-74':\r\n",
    "        re=1\r\n",
    "        return re\r\n",
    "    else:\r\n",
    "        re=0\r\n",
    "        return re\r\n",
    "df_comorbidity['65-74']=df_comorbidity.apply(agerange,axis=1)"
   ],
   "outputs": [],
   "metadata": {}
  },
  {
   "cell_type": "code",
   "execution_count": 103,
   "source": [
    "def agerange(fila):\r\n",
    "    r=fila['Age Group']\r\n",
    "    if r=='75-84':\r\n",
    "        re=1\r\n",
    "        return re\r\n",
    "    else:\r\n",
    "        re=0\r\n",
    "        return re\r\n",
    "df_comorbidity['75-84']=df_comorbidity.apply(agerange,axis=1)"
   ],
   "outputs": [],
   "metadata": {}
  },
  {
   "cell_type": "code",
   "execution_count": 104,
   "source": [
    "def agerange(fila):\r\n",
    "    r=fila['Age Group']\r\n",
    "    if r=='85+':\r\n",
    "        re=1\r\n",
    "        return re\r\n",
    "    else:\r\n",
    "        re=0\r\n",
    "        return re\r\n",
    "df_comorbidity['85+']=df_comorbidity.apply(agerange,axis=1)"
   ],
   "outputs": [],
   "metadata": {}
  },
  {
   "cell_type": "code",
   "execution_count": 105,
   "source": [
    "def agerange(fila):\r\n",
    "    r=fila['Age Group']\r\n",
    "    if r=='All Ages':\r\n",
    "        re=1\r\n",
    "        return re\r\n",
    "    else:\r\n",
    "        re=0\r\n",
    "        return re\r\n",
    "df_comorbidity['AllAges']=df_comorbidity.apply(agerange,axis=1)"
   ],
   "outputs": [],
   "metadata": {}
  },
  {
   "cell_type": "code",
   "execution_count": 106,
   "source": [
    "def agerange(fila):\r\n",
    "    r=fila['Age Group']\r\n",
    "    if r=='Not stated':\r\n",
    "        re=1\r\n",
    "        return re\r\n",
    "    else:\r\n",
    "        re=0\r\n",
    "        return re\r\n",
    "df_comorbidity['NotStated']=df_comorbidity.apply(agerange,axis=1)"
   ],
   "outputs": [],
   "metadata": {}
  },
  {
   "cell_type": "markdown",
   "source": [
    "## RENOMBRAR COLUMNAS\r\n",
    "dado que necesitamos estandarizar las variables para el resto del estudio, procedemos a renombrar las mismas para hacerlas mas fácil de entender por el sistema, pues para el mismo es más fácil trabajar con nombres sin espacios entre los caracteres."
   ],
   "metadata": {}
  },
  {
   "cell_type": "code",
   "execution_count": 107,
   "source": [
    "df_comorbidity=df_comorbidity.rename(columns={'Data As Of':'DataAsOf',\r\n",
    "    'Start Date':'StartDate',\r\n",
    "    'End Date':'EndDate',\r\n",
    "    'Condition Group':'ConditionGroup',\r\n",
    "    'Age Group':'AgeGroup',\r\n",
    "    'COVID-19 Deaths':'Cov19Deaths',\r\n",
    "    'Number of Mentions':'NumberOfMentions'\r\n",
    "    })"
   ],
   "outputs": [],
   "metadata": {}
  },
  {
   "cell_type": "code",
   "execution_count": 108,
   "source": [
    "df_encabezados=df_comorbidity.head()"
   ],
   "outputs": [],
   "metadata": {}
  },
  {
   "cell_type": "markdown",
   "source": [
    "## IMPORTACION DE PAQUETES\r\n",
    "procedemos a cargar las librerias que necesitaremos para realizar el estudio."
   ],
   "metadata": {}
  },
  {
   "cell_type": "code",
   "execution_count": 116,
   "source": [
    "from __future__ import print_function # libreria imporesora de las funciones especificas del modelo.\r\n",
    "import statsmodels.api as sm # importador de metodos.\r\n",
    "from patsy import dmatrices # paquete que crea las matrices con las cuales se integran las variables categoricas. "
   ],
   "outputs": [],
   "metadata": {}
  },
  {
   "cell_type": "code",
   "execution_count": 117,
   "source": [
    "%matplotlib inline # paquete en linea para crear graficos \r\n",
    "import numpy as np # libreria para crear matrices numericas\r\n",
    "import matplotlib.pyplot as plt # paquete interno data visualization \r\n",
    "from statsmodels.sandbox.regression.predstd import wls_prediction_std # paquete predictor \r\n",
    "from statsmodels.iolib.table import (SimpleTable, default_txt_fmt) # paquete lector y creador de archivos planos."
   ],
   "outputs": [
    {
     "output_type": "stream",
     "name": "stderr",
     "text": [
      "UsageError: unrecognized arguments: # paquete en linea para crear graficos\n"
     ]
    }
   ],
   "metadata": {}
  },
  {
   "cell_type": "markdown",
   "source": [
    "## DEFINICION DE DATAFRAMES\r\n",
    "procecedemos a creaar nuevos dataframes con base en el dataframe df_comorbidity para aislar las columnas que creamos anteriormente iniciando de la misma forma, crando los dataframes de las clases de enfermedades, y con la funcion dropna() eliminamos las filas inconsistentes que se hayan creado."
   ],
   "metadata": {}
  },
  {
   "cell_type": "code",
   "execution_count": 118,
   "source": [
    "#IntUnintInjury_PoisoningAdverGroup\r\n",
    "df_InjuryPoisonGroup=df_comorbidity[['Cov19Deaths','IntUnintInjury_PoisoningAdverGroup','NumberOfMentions','AgeGroup',]].dropna()\r\n",
    "df_InjuryPoisonGroup"
   ],
   "outputs": [
    {
     "output_type": "execute_result",
     "data": {
      "text/html": [
       "<div>\n",
       "<style scoped>\n",
       "    .dataframe tbody tr th:only-of-type {\n",
       "        vertical-align: middle;\n",
       "    }\n",
       "\n",
       "    .dataframe tbody tr th {\n",
       "        vertical-align: top;\n",
       "    }\n",
       "\n",
       "    .dataframe thead th {\n",
       "        text-align: right;\n",
       "    }\n",
       "</style>\n",
       "<table border=\"1\" class=\"dataframe\">\n",
       "  <thead>\n",
       "    <tr style=\"text-align: right;\">\n",
       "      <th></th>\n",
       "      <th>Cov19Deaths</th>\n",
       "      <th>IntUnintInjury_PoisoningAdverGroup</th>\n",
       "      <th>NumberOfMentions</th>\n",
       "      <th>AgeGroup</th>\n",
       "    </tr>\n",
       "  </thead>\n",
       "  <tbody>\n",
       "    <tr>\n",
       "      <th>0</th>\n",
       "      <td>520.0</td>\n",
       "      <td>0</td>\n",
       "      <td>540.0</td>\n",
       "      <td>0-24</td>\n",
       "    </tr>\n",
       "    <tr>\n",
       "      <th>1</th>\n",
       "      <td>2348.0</td>\n",
       "      <td>0</td>\n",
       "      <td>2405.0</td>\n",
       "      <td>25-34</td>\n",
       "    </tr>\n",
       "    <tr>\n",
       "      <th>2</th>\n",
       "      <td>6191.0</td>\n",
       "      <td>0</td>\n",
       "      <td>6367.0</td>\n",
       "      <td>35-44</td>\n",
       "    </tr>\n",
       "    <tr>\n",
       "      <th>3</th>\n",
       "      <td>17515.0</td>\n",
       "      <td>0</td>\n",
       "      <td>18048.0</td>\n",
       "      <td>45-54</td>\n",
       "    </tr>\n",
       "    <tr>\n",
       "      <th>4</th>\n",
       "      <td>42471.0</td>\n",
       "      <td>0</td>\n",
       "      <td>43677.0</td>\n",
       "      <td>55-64</td>\n",
       "    </tr>\n",
       "    <tr>\n",
       "      <th>...</th>\n",
       "      <td>...</td>\n",
       "      <td>...</td>\n",
       "      <td>...</td>\n",
       "      <td>...</td>\n",
       "    </tr>\n",
       "    <tr>\n",
       "      <th>285655</th>\n",
       "      <td>197.0</td>\n",
       "      <td>0</td>\n",
       "      <td>197.0</td>\n",
       "      <td>All Ages</td>\n",
       "    </tr>\n",
       "    <tr>\n",
       "      <th>285656</th>\n",
       "      <td>184.0</td>\n",
       "      <td>0</td>\n",
       "      <td>184.0</td>\n",
       "      <td>All Ages</td>\n",
       "    </tr>\n",
       "    <tr>\n",
       "      <th>285657</th>\n",
       "      <td>35.0</td>\n",
       "      <td>0</td>\n",
       "      <td>35.0</td>\n",
       "      <td>All Ages</td>\n",
       "    </tr>\n",
       "    <tr>\n",
       "      <th>285658</th>\n",
       "      <td>29.0</td>\n",
       "      <td>0</td>\n",
       "      <td>29.0</td>\n",
       "      <td>All Ages</td>\n",
       "    </tr>\n",
       "    <tr>\n",
       "      <th>285659</th>\n",
       "      <td>190.0</td>\n",
       "      <td>0</td>\n",
       "      <td>190.0</td>\n",
       "      <td>All Ages</td>\n",
       "    </tr>\n",
       "  </tbody>\n",
       "</table>\n",
       "<p>207365 rows × 4 columns</p>\n",
       "</div>"
      ],
      "text/plain": [
       "        Cov19Deaths  IntUnintInjury_PoisoningAdverGroup  NumberOfMentions  \\\n",
       "0             520.0                                   0             540.0   \n",
       "1            2348.0                                   0            2405.0   \n",
       "2            6191.0                                   0            6367.0   \n",
       "3           17515.0                                   0           18048.0   \n",
       "4           42471.0                                   0           43677.0   \n",
       "...             ...                                 ...               ...   \n",
       "285655        197.0                                   0             197.0   \n",
       "285656        184.0                                   0             184.0   \n",
       "285657         35.0                                   0              35.0   \n",
       "285658         29.0                                   0              29.0   \n",
       "285659        190.0                                   0             190.0   \n",
       "\n",
       "        AgeGroup  \n",
       "0           0-24  \n",
       "1          25-34  \n",
       "2          35-44  \n",
       "3          45-54  \n",
       "4          55-64  \n",
       "...          ...  \n",
       "285655  All Ages  \n",
       "285656  All Ages  \n",
       "285657  All Ages  \n",
       "285658  All Ages  \n",
       "285659  All Ages  \n",
       "\n",
       "[207365 rows x 4 columns]"
      ]
     },
     "metadata": {},
     "execution_count": 118
    }
   ],
   "metadata": {}
  },
  {
   "cell_type": "markdown",
   "source": [
    "##   REVISAMOS LAS COLUMNAS CREADAS EN EL DATAFRAME PARA SABER DE QUE TIPO VARIABLE FUERON CREADAS.\r\n",
    " en este caso nos dice que la columna de lesiones y envenenamiento fueron creadas como numeros enteros."
   ],
   "metadata": {}
  },
  {
   "cell_type": "code",
   "execution_count": 119,
   "source": [
    "df_InjuryPoisonGroup['IntUnintInjury_PoisoningAdverGroup'].dtype"
   ],
   "outputs": [
    {
     "output_type": "execute_result",
     "data": {
      "text/plain": [
       "dtype('int64')"
      ]
     },
     "metadata": {},
     "execution_count": 119
    }
   ],
   "metadata": {}
  },
  {
   "cell_type": "markdown",
   "source": [
    "## AGRUPANDO LAS VARIABLES DEL DATAFRAME\r\n",
    "Procederemos a agrupar las variables del dataframe por medio de una variable ordinal en este caso el grupo de edad, esto para consolidar y hacerle más fácil al sistema identificar y crear la matriz, ademas de que simplifica la visualizacion del dataframe.\r\n"
   ],
   "metadata": {}
  },
  {
   "cell_type": "code",
   "execution_count": 120,
   "source": [
    "\r\n",
    "df_InjuryPoisonGroup1=df_comorbidity.groupby(by=['AgeGroup']).agg({'IntUnintInjury_PoisoningAdverGroup':'sum',\r\n",
    "                                                                   'Cov19Deaths':'sum',\r\n",
    "                                                                   'NumberOfMentions':'sum'\r\n",
    "                                                                    }).reset_index().dropna()\r\n",
    "df_InjuryPoisonGroup1['InjuryPoisonNorm']=df_InjuryPoisonGroup1['IntUnintInjury_PoisoningAdverGroup']/1000\r\n",
    "#df_InjuryPoisonGroup1['NumberOfMentionsNorm']=minmax_norm(df_InjuryPoisonGroup1['NumberOfMentions'])\r\n",
    "# (df_InjuryPoisonGroup1['IntUnintInjury_PoisoningAdverGroup']-df_InjuryPoisonGroup1['IntUnintInjury_PoisoningAdverGroup'].min())\r\n",
    "#/(df_InjuryPoisonGroup1['IntUnintInjury_PoisoningAdverGroup'].max()-df_InjuryPoisonGroup1['IntUnintInjury_PoisoningAdverGroup'].min())\r\n",
    "#df_InjuryPoisonGroup1['NumberOfMentions']\r\n",
    "df_InjuryPoisonGroup1                                                                    "
   ],
   "outputs": [
    {
     "output_type": "execute_result",
     "data": {
      "text/html": [
       "<div>\n",
       "<style scoped>\n",
       "    .dataframe tbody tr th:only-of-type {\n",
       "        vertical-align: middle;\n",
       "    }\n",
       "\n",
       "    .dataframe tbody tr th {\n",
       "        vertical-align: top;\n",
       "    }\n",
       "\n",
       "    .dataframe thead th {\n",
       "        text-align: right;\n",
       "    }\n",
       "</style>\n",
       "<table border=\"1\" class=\"dataframe\">\n",
       "  <thead>\n",
       "    <tr style=\"text-align: right;\">\n",
       "      <th></th>\n",
       "      <th>AgeGroup</th>\n",
       "      <th>IntUnintInjury_PoisoningAdverGroup</th>\n",
       "      <th>Cov19Deaths</th>\n",
       "      <th>NumberOfMentions</th>\n",
       "      <th>InjuryPoisonNorm</th>\n",
       "    </tr>\n",
       "  </thead>\n",
       "  <tbody>\n",
       "    <tr>\n",
       "      <th>0</th>\n",
       "      <td>0-24</td>\n",
       "      <td>1242</td>\n",
       "      <td>21051.0</td>\n",
       "      <td>25566.0</td>\n",
       "      <td>1.242</td>\n",
       "    </tr>\n",
       "    <tr>\n",
       "      <th>1</th>\n",
       "      <td>25-34</td>\n",
       "      <td>1242</td>\n",
       "      <td>89515.0</td>\n",
       "      <td>100440.0</td>\n",
       "      <td>1.242</td>\n",
       "    </tr>\n",
       "    <tr>\n",
       "      <th>2</th>\n",
       "      <td>35-44</td>\n",
       "      <td>1242</td>\n",
       "      <td>253515.0</td>\n",
       "      <td>278052.0</td>\n",
       "      <td>1.242</td>\n",
       "    </tr>\n",
       "    <tr>\n",
       "      <th>3</th>\n",
       "      <td>45-54</td>\n",
       "      <td>1242</td>\n",
       "      <td>737651.0</td>\n",
       "      <td>797729.0</td>\n",
       "      <td>1.242</td>\n",
       "    </tr>\n",
       "    <tr>\n",
       "      <th>4</th>\n",
       "      <td>55-64</td>\n",
       "      <td>1242</td>\n",
       "      <td>1865184.0</td>\n",
       "      <td>2015089.0</td>\n",
       "      <td>1.242</td>\n",
       "    </tr>\n",
       "    <tr>\n",
       "      <th>5</th>\n",
       "      <td>65-74</td>\n",
       "      <td>1242</td>\n",
       "      <td>3270081.0</td>\n",
       "      <td>3525462.0</td>\n",
       "      <td>1.242</td>\n",
       "    </tr>\n",
       "    <tr>\n",
       "      <th>6</th>\n",
       "      <td>75-84</td>\n",
       "      <td>1242</td>\n",
       "      <td>3900050.0</td>\n",
       "      <td>4185734.0</td>\n",
       "      <td>1.242</td>\n",
       "    </tr>\n",
       "    <tr>\n",
       "      <th>7</th>\n",
       "      <td>85+</td>\n",
       "      <td>1242</td>\n",
       "      <td>3927935.0</td>\n",
       "      <td>4204355.0</td>\n",
       "      <td>1.242</td>\n",
       "    </tr>\n",
       "    <tr>\n",
       "      <th>8</th>\n",
       "      <td>All Ages</td>\n",
       "      <td>1242</td>\n",
       "      <td>14273890.0</td>\n",
       "      <td>15342413.0</td>\n",
       "      <td>1.242</td>\n",
       "    </tr>\n",
       "    <tr>\n",
       "      <th>9</th>\n",
       "      <td>Not stated</td>\n",
       "      <td>1242</td>\n",
       "      <td>144.0</td>\n",
       "      <td>162.0</td>\n",
       "      <td>1.242</td>\n",
       "    </tr>\n",
       "  </tbody>\n",
       "</table>\n",
       "</div>"
      ],
      "text/plain": [
       "     AgeGroup  IntUnintInjury_PoisoningAdverGroup  Cov19Deaths  \\\n",
       "0        0-24                                1242      21051.0   \n",
       "1       25-34                                1242      89515.0   \n",
       "2       35-44                                1242     253515.0   \n",
       "3       45-54                                1242     737651.0   \n",
       "4       55-64                                1242    1865184.0   \n",
       "5       65-74                                1242    3270081.0   \n",
       "6       75-84                                1242    3900050.0   \n",
       "7         85+                                1242    3927935.0   \n",
       "8    All Ages                                1242   14273890.0   \n",
       "9  Not stated                                1242        144.0   \n",
       "\n",
       "   NumberOfMentions  InjuryPoisonNorm  \n",
       "0           25566.0             1.242  \n",
       "1          100440.0             1.242  \n",
       "2          278052.0             1.242  \n",
       "3          797729.0             1.242  \n",
       "4         2015089.0             1.242  \n",
       "5         3525462.0             1.242  \n",
       "6         4185734.0             1.242  \n",
       "7         4204355.0             1.242  \n",
       "8        15342413.0             1.242  \n",
       "9             162.0             1.242  "
      ]
     },
     "metadata": {},
     "execution_count": 120
    }
   ],
   "metadata": {}
  },
  {
   "cell_type": "markdown",
   "source": [
    "## NORMALIZACION DE LA VARIABLE PRINCIPAL\r\n",
    "como podemos ver el numero de menciones es el numero total de veces que se encontró la enfermedad en los pacientes, es decir, es el mismo numero de pacientes, los cuales fueron clasificados por la edad, las semanas en las que fueron encontradas las comorbilidades, la periodicidad y los distitos estados de la union americana en las que se repitió dicha enfermedad en los pacientes.\r\n",
    "dado que son numeros extremadamente grandes, procedemos a realizar la normalizacion por el metodo de maximos y minimos, por medio de la función def, con lo cual buscamos reducir los errores que se presentan cuando los numeros grandes dominan a los más pequeños haciendolos desaparecer, en este caso definimos que lo haremos en la escala de entre 0 hasta 1 siendo 0 nada y 1 el más grande, y lo guardaremos en la columna NumberOfMentions2."
   ],
   "metadata": {}
  },
  {
   "cell_type": "code",
   "execution_count": 121,
   "source": [
    "\r\n",
    "def normalize_series(s):\r\n",
    "    s=df_InjuryPoisonGroup1['NumberOfMentions']\r\n",
    "    return (s - s.min()) / (s.max() - s.min())\r\n",
    "\r\n",
    "\r\n",
    "df_InjuryPoisonGroup1['NumberOfMentions2'] = normalize_series(df_InjuryPoisonGroup1['NumberOfMentions'])\r\n",
    "df_InjuryPoisonGroup1 #Resultado de la normalizaion de maximos y minimos en la columna NumberOfMentions2"
   ],
   "outputs": [
    {
     "output_type": "execute_result",
     "data": {
      "text/html": [
       "<div>\n",
       "<style scoped>\n",
       "    .dataframe tbody tr th:only-of-type {\n",
       "        vertical-align: middle;\n",
       "    }\n",
       "\n",
       "    .dataframe tbody tr th {\n",
       "        vertical-align: top;\n",
       "    }\n",
       "\n",
       "    .dataframe thead th {\n",
       "        text-align: right;\n",
       "    }\n",
       "</style>\n",
       "<table border=\"1\" class=\"dataframe\">\n",
       "  <thead>\n",
       "    <tr style=\"text-align: right;\">\n",
       "      <th></th>\n",
       "      <th>AgeGroup</th>\n",
       "      <th>IntUnintInjury_PoisoningAdverGroup</th>\n",
       "      <th>Cov19Deaths</th>\n",
       "      <th>NumberOfMentions</th>\n",
       "      <th>InjuryPoisonNorm</th>\n",
       "      <th>NumberOfMentions2</th>\n",
       "    </tr>\n",
       "  </thead>\n",
       "  <tbody>\n",
       "    <tr>\n",
       "      <th>0</th>\n",
       "      <td>0-24</td>\n",
       "      <td>1242</td>\n",
       "      <td>21051.0</td>\n",
       "      <td>25566.0</td>\n",
       "      <td>1.242</td>\n",
       "      <td>0.001656</td>\n",
       "    </tr>\n",
       "    <tr>\n",
       "      <th>1</th>\n",
       "      <td>25-34</td>\n",
       "      <td>1242</td>\n",
       "      <td>89515.0</td>\n",
       "      <td>100440.0</td>\n",
       "      <td>1.242</td>\n",
       "      <td>0.006536</td>\n",
       "    </tr>\n",
       "    <tr>\n",
       "      <th>2</th>\n",
       "      <td>35-44</td>\n",
       "      <td>1242</td>\n",
       "      <td>253515.0</td>\n",
       "      <td>278052.0</td>\n",
       "      <td>1.242</td>\n",
       "      <td>0.018113</td>\n",
       "    </tr>\n",
       "    <tr>\n",
       "      <th>3</th>\n",
       "      <td>45-54</td>\n",
       "      <td>1242</td>\n",
       "      <td>737651.0</td>\n",
       "      <td>797729.0</td>\n",
       "      <td>1.242</td>\n",
       "      <td>0.051985</td>\n",
       "    </tr>\n",
       "    <tr>\n",
       "      <th>4</th>\n",
       "      <td>55-64</td>\n",
       "      <td>1242</td>\n",
       "      <td>1865184.0</td>\n",
       "      <td>2015089.0</td>\n",
       "      <td>1.242</td>\n",
       "      <td>0.131332</td>\n",
       "    </tr>\n",
       "    <tr>\n",
       "      <th>5</th>\n",
       "      <td>65-74</td>\n",
       "      <td>1242</td>\n",
       "      <td>3270081.0</td>\n",
       "      <td>3525462.0</td>\n",
       "      <td>1.242</td>\n",
       "      <td>0.229777</td>\n",
       "    </tr>\n",
       "    <tr>\n",
       "      <th>6</th>\n",
       "      <td>75-84</td>\n",
       "      <td>1242</td>\n",
       "      <td>3900050.0</td>\n",
       "      <td>4185734.0</td>\n",
       "      <td>1.242</td>\n",
       "      <td>0.272813</td>\n",
       "    </tr>\n",
       "    <tr>\n",
       "      <th>7</th>\n",
       "      <td>85+</td>\n",
       "      <td>1242</td>\n",
       "      <td>3927935.0</td>\n",
       "      <td>4204355.0</td>\n",
       "      <td>1.242</td>\n",
       "      <td>0.274027</td>\n",
       "    </tr>\n",
       "    <tr>\n",
       "      <th>8</th>\n",
       "      <td>All Ages</td>\n",
       "      <td>1242</td>\n",
       "      <td>14273890.0</td>\n",
       "      <td>15342413.0</td>\n",
       "      <td>1.242</td>\n",
       "      <td>1.000000</td>\n",
       "    </tr>\n",
       "    <tr>\n",
       "      <th>9</th>\n",
       "      <td>Not stated</td>\n",
       "      <td>1242</td>\n",
       "      <td>144.0</td>\n",
       "      <td>162.0</td>\n",
       "      <td>1.242</td>\n",
       "      <td>0.000000</td>\n",
       "    </tr>\n",
       "  </tbody>\n",
       "</table>\n",
       "</div>"
      ],
      "text/plain": [
       "     AgeGroup  IntUnintInjury_PoisoningAdverGroup  Cov19Deaths  \\\n",
       "0        0-24                                1242      21051.0   \n",
       "1       25-34                                1242      89515.0   \n",
       "2       35-44                                1242     253515.0   \n",
       "3       45-54                                1242     737651.0   \n",
       "4       55-64                                1242    1865184.0   \n",
       "5       65-74                                1242    3270081.0   \n",
       "6       75-84                                1242    3900050.0   \n",
       "7         85+                                1242    3927935.0   \n",
       "8    All Ages                                1242   14273890.0   \n",
       "9  Not stated                                1242        144.0   \n",
       "\n",
       "   NumberOfMentions  InjuryPoisonNorm  NumberOfMentions2  \n",
       "0           25566.0             1.242           0.001656  \n",
       "1          100440.0             1.242           0.006536  \n",
       "2          278052.0             1.242           0.018113  \n",
       "3          797729.0             1.242           0.051985  \n",
       "4         2015089.0             1.242           0.131332  \n",
       "5         3525462.0             1.242           0.229777  \n",
       "6         4185734.0             1.242           0.272813  \n",
       "7         4204355.0             1.242           0.274027  \n",
       "8        15342413.0             1.242           1.000000  \n",
       "9             162.0             1.242           0.000000  "
      ]
     },
     "metadata": {},
     "execution_count": 121
    }
   ],
   "metadata": {}
  },
  {
   "cell_type": "markdown",
   "source": [
    "## Grafica de los intoxicados que murieron por covid\r\n",
    "En el siguiente grafico de barras podemos ver las personas que el numero de personas por edad, que ademas de presentar las lesiones y envenamiento como comorbilidades murieron por covid, de acuerdo a su edad."
   ],
   "metadata": {}
  },
  {
   "cell_type": "code",
   "execution_count": 123,
   "source": [
    "import matplotlib.pyplot as plt # paquete interno data visualization \r\n",
    "\r\n",
    "df_InjuryPoisonGroup1.plot(kind='bar',x='AgeGroup',y='Cov19Deaths')\r\n",
    "plt.title('Grupo de edades de personas que presentaron de lesiones y envenenamiento con Covid')\r\n",
    "plt.xlabel('enveneados y lesionados ')\r\n",
    "plt.ylabel('Numero de Muertos')\r\n",
    "plt.title('')\r\n",
    "#plt.annotate(text='%',xy=(x,y))\r\n",
    "plt.show()\r\n"
   ],
   "outputs": [
    {
     "output_type": "display_data",
     "data": {
      "image/png": "[encoded data removed]",
      "text/plain": [
       "<Figure size 432x288 with 1 Axes>"
      ]
     },
     "metadata": {
      "needs_background": "light"
     }
    }
   ],
   "metadata": {}
  },
  {
   "cell_type": "markdown",
   "source": [
    "# CREANDO LA MATRIZ\r\n",
    "por medio de la siguiente instruccion de la libreria patsy, procedemos a crear la matriz con la función dmatrices, de acuerdo a los lineamientos exigidos por el **STATS MODEL**, en la cual definimos:\r\n",
    "\r\n",
    "Variable dependiente y ==> Ho ==> Cov19Deaths\r\n",
    "Variable independiente X ==> Ha ==> NumberOfMentions, \r\n",
    "Variable ubicadora de grupo==> IntUnintInjury_PoisoningAdverGroup\r\n",
    "Variable Ordinal ==> AgeGroup # Con la cual se crea la matriz\r\n",
    "data = df_InjuryPoisonGroup # de donde debe tomar los datos\r\n",
    "return_type dataframe # que tipo de objeto debe retornar"
   ],
   "metadata": {}
  },
  {
   "cell_type": "code",
   "execution_count": 124,
   "source": [
    "y, X = dmatrices('Cov19Deaths ~ IntUnintInjury_PoisoningAdverGroup + NumberOfMentions + AgeGroup',data=df_InjuryPoisonGroup, return_type='dataframe')"
   ],
   "outputs": [],
   "metadata": {}
  },
  {
   "cell_type": "markdown",
   "source": [
    "# SOLICITANDO LOS RESULTADOS\r\n",
    "por medio de la variable **mod** le decimos que nos traiga los metodos integrados en la **API** **del STATS MODEL** en este **Ordinary Least Squares(OLS)**\r\n",
    "con la variable **res** le decimos que nos muestre en la respuesta con el mod fit() que es la tabla de resultados que podemos apreciar.\r\n",
    "con **print** imprimimos la tabla resumida. \r\n",
    " "
   ],
   "metadata": {}
  },
  {
   "cell_type": "code",
   "execution_count": 125,
   "source": [
    "mod = sm.OLS(y, X)\r\n",
    "res = mod.fit()\r\n",
    "print(res.summary())"
   ],
   "outputs": [
    {
     "output_type": "stream",
     "name": "stdout",
     "text": [
      "                            OLS Regression Results                            \n",
      "==============================================================================\n",
      "Dep. Variable:            Cov19Deaths   R-squared:                       0.980\n",
      "Model:                            OLS   Adj. R-squared:                  0.980\n",
      "Method:                 Least Squares   F-statistic:                 9.127e+05\n",
      "Date:                Wed, 15 Sep 2021   Prob (F-statistic):               0.00\n",
      "Time:                        20:28:02   Log-Likelihood:            -1.5185e+06\n",
      "No. Observations:              207365   AIC:                         3.037e+06\n",
      "Df Residuals:                  207353   BIC:                         3.037e+06\n",
      "Df Model:                          11                                         \n",
      "Covariance Type:            nonrobust                                         \n",
      "======================================================================================================\n",
      "                                         coef    std err          t      P>|t|      [0.025      0.975]\n",
      "------------------------------------------------------------------------------------------------------\n",
      "Intercept                              0.5405      2.347      0.230      0.818      -4.060       5.142\n",
      "AgeGroup[T.25-34]                     -0.0310      3.418     -0.009      0.993      -6.730       6.668\n",
      "AgeGroup[T.35-44]                     -0.0072      3.527     -0.002      0.998      -6.920       6.906\n",
      "AgeGroup[T.45-54]                      0.0570      3.615      0.016      0.987      -7.029       7.143\n",
      "AgeGroup[T.55-64]                     -0.2235      3.618     -0.062      0.951      -7.314       6.867\n",
      "AgeGroup[T.65-74]                     -0.2043      3.583     -0.057      0.955      -7.227       6.819\n",
      "AgeGroup[T.75-84]                      0.6658      3.561      0.187      0.852      -6.314       7.646\n",
      "AgeGroup[T.85+]                        1.2625      3.556      0.355      0.723      -5.708       8.233\n",
      "AgeGroup[T.All Ages]                   0.7264      3.391      0.214      0.830      -5.920       7.373\n",
      "AgeGroup[T.Not stated]                 0.0768      3.194      0.024      0.981      -6.184       6.337\n",
      "IntUnintInjury_PoisoningAdverGroup   -14.1725      4.084     -3.470      0.001     -22.177      -6.168\n",
      "NumberOfMentions                       0.9294      0.000   3159.388      0.000       0.929       0.930\n",
      "==============================================================================\n",
      "Omnibus:                   912641.349   Durbin-Watson:                   1.368\n",
      "Prob(Omnibus):                  0.000   Jarque-Bera (JB):   12751358178050.102\n",
      "Skew:                        -138.934   Prob(JB):                         0.00\n",
      "Kurtosis:                   38418.346   Cond. No.                     2.67e+04\n",
      "==============================================================================\n",
      "\n",
      "Notes:\n",
      "[1] Standard Errors assume that the covariance matrix of the errors is correctly specified.\n",
      "[2] The condition number is large, 2.67e+04. This might indicate that there are\n",
      "strong multicollinearity or other numerical problems.\n"
     ]
    }
   ],
   "metadata": {}
  },
  {
   "cell_type": "markdown",
   "source": [
    "## ANALIZANDO LOS RESULTADOS.\r\n",
    "\r\n",
    "Como podemos visualizar en la tabla de resultados para la relación existente entre Cov19Deaths ~ IntUnintInjury_PoisoningAdverGroup + NumberOfMentions obtuvimos un minimo cuadrado R-squared del 98.0% por lo que si se cumple la condicion H0: B1=0, que exige el modelo, de modo que hemos podido comporobar que si hay ciertos envenamientos y lesiones que influyeron en la muerte por covid de los pacientes, es decir están altamente relacionadas.\r\n",
    "\r\n",
    "## OBSERVACIONES.\r\n",
    "\r\n",
    "Una vez definido que esta comorbilidad si es una de las variables que influyeron en la muerte por covid de los pacientes de la muestra, podemos integrar esta variable en el modelo de **MACHINE LEARNING**"
   ],
   "metadata": {}
  },
  {
   "cell_type": "markdown",
   "source": [
    "## GRAFICA DE LA REGRESION\r\n",
    "como lo mencionamos anteriormente, con la variable numero de menciones normalizada procedemos a realizar la grafica de la regresión OLS.\r\n"
   ],
   "metadata": {}
  },
  {
   "cell_type": "code",
   "execution_count": 126,
   "source": [
    "sm.graphics.plot_partregress('Cov19Deaths','NumberOfMentions2','AgeGroup',data=df_InjuryPoisonGroup1, obs_labels=True)"
   ],
   "outputs": [
    {
     "output_type": "execute_result",
     "data": {
      "image/png": "[encoded data removed]",
      "text/plain": [
       "<Figure size 432x288 with 1 Axes>"
      ]
     },
     "metadata": {},
     "execution_count": 126
    },
    {
     "output_type": "display_data",
     "data": {
      "image/png": "[encoded data removed]",
      "text/plain": [
       "<Figure size 432x288 with 1 Axes>"
      ]
     },
     "metadata": {
      "needs_background": "light"
     }
    }
   ],
   "metadata": {}
  },
  {
   "cell_type": "markdown",
   "source": [
    "## VISUALIZACION DE LA REGRESION\r\n",
    "Como podemos ver en este caso B1 está muy cercano a 0, y los puntos hacen parte de la regresión, por lo que solamente un punto no está especificado en el mismo, por lo que la regresión, quedó bien realizada. \r\n"
   ],
   "metadata": {}
  },
  {
   "cell_type": "markdown",
   "source": [
    "## SIMULACION\r\n",
    "Procedemos a realizarle difentes test con los cuales buscamos saber si en el proceso de entrenamiento **MACHINE LEARNING**  la maquina se encuentre en dificultades para encontrar la regresion."
   ],
   "metadata": {}
  },
  {
   "cell_type": "code",
   "execution_count": 128,
   "source": [
    "import numpy as np # libreria para crear matrices numericas\r\n",
    "\r\n",
    "nsample = 207365 # numero n de muestras que debe tener y para generar la matrix\r\n",
    "sig = 0.5 # Escala de aumento o decremento \r\n",
    "x = np.linspace(0, 20, nsample) ## variable en x de la matrix\r\n",
    "X = np.column_stack((x, np.cosh(x), (x-5)**2, np.ones(nsample))) # imagen de la verdadera variable X de matriz dmatrices\r\n",
    "#X = np.column_stack((x, np.tan(x), (x-0)**2, np.ones(nsample)))\r\n",
    "beta = [0.5, 0.5, -0.02, 5.] # movimientos escalares y dimensionales\r\n",
    "y_true = np.dot(X, beta) # comportamiento esperado de la varialble Ficticia Y\r\n",
    "y = y_true + sig * np.random.normal(size=nsample) # compoartamiento esperado de la variable y real.\r\n"
   ],
   "outputs": [],
   "metadata": {}
  },
  {
   "cell_type": "code",
   "execution_count": 130,
   "source": [
    "from statsmodels.sandbox.regression.predstd import wls_prediction_std\r\n",
    "\r\n",
    "prstd, iv_l, iv_u = wls_prediction_std(res) # predictores\r\n",
    "\r\n",
    "fig, ax = plt.subplots(figsize=(8,6)) # tamaño del plot\r\n",
    "\r\n",
    "ax.plot(x, y, 'o', label=\"data\") # datos de la data real\r\n",
    "ax.plot(x, y_true, 'g-', label=\"True\") # comportamiento esperado\r\n",
    "ax.plot(x, res.fittedvalues, 'r--.', label=\"OLS\") # predictor ols\r\n",
    "ax.plot(x, iv_u, 'r--') # generamos un rango visible coloreando en rojo la variable x por debajo de la variable real\r\n",
    "ax.plot(x, iv_l, 'r--') # generamos un rango visible coloreando en rojo la variable x  por encima de la variable real \r\n",
    "ax.legend(loc='best'); # le solicitamos que nuestre la ubicacion optima.\r\n"
   ],
   "outputs": [
    {
     "output_type": "execute_result",
     "data": {
      "text/plain": [
       "<matplotlib.legend.Legend at 0x2470928d7c0>"
      ]
     },
     "metadata": {},
     "execution_count": 130
    },
    {
     "output_type": "display_data",
     "data": {
      "image/png": "[encoded data removed]",
      "text/plain": [
       "<Figure size 576x432 with 1 Axes>"
      ]
     },
     "metadata": {
      "needs_background": "light"
     }
    }
   ],
   "metadata": {}
  },
  {
   "cell_type": "markdown",
   "source": [
    "## LA ESTIMACION OLS \r\n",
    "no tuvo en cuenta el punto AllAge, y estimó que seguiria derecho, por lo que realizaremos una predicción, para saber si es posible retome el punto pendiente. "
   ],
   "metadata": {}
  },
  {
   "cell_type": "code",
   "execution_count": 131,
   "source": [
    "res2 = sm.OLS(y, X).fit()\r\n",
    "prstd, iv_l, iv_u = wls_prediction_std(res2)\r\n",
    "\r\n",
    "fig, ax = plt.subplots(figsize=(8,6))\r\n",
    "\r\n",
    "ax.plot(x, y, 'o', label=\"Data\")\r\n",
    "ax.plot(x, y_true, 'b-', label=\"True\")\r\n",
    "ax.plot(x, res2.fittedvalues, 'r--.', label=\"Predicted\")\r\n",
    "ax.plot(x, iv_u, 'r--')\r\n",
    "ax.plot(x, iv_l, 'r--')\r\n",
    "legend = ax.legend(loc=\"best\")"
   ],
   "outputs": [
    {
     "output_type": "display_data",
     "data": {
      "image/png": "[encoded data removed]",
      "text/plain": [
       "<Figure size 576x432 with 1 Axes>"
      ]
     },
     "metadata": {
      "needs_background": "light"
     }
    }
   ],
   "metadata": {}
  },
  {
   "cell_type": "markdown",
   "source": [
    "## LA PREDICCION COMPARATIVA\r\n",
    "al realizar la prediccion comparativa entre OLS Y WLS podemos ver que la parte de heterodasticidad si fue encontrada por el simulador, por lo que tendremos en cuenta este dato, en las pruebas de  **MACHINE LEARNING** "
   ],
   "metadata": {}
  },
  {
   "cell_type": "markdown",
   "source": [
    "## HOMOGENEIDAD DEL SISTEMA\r\n",
    "sabremos que tan homogeneo es el sistema en general si alguna de las otras variables presenta R-squared diferente del primero que fué 98%, o si alguna de las otras variables o comorbilidades presenta variaciaciones con respecto de la primera"
   ],
   "metadata": {}
  },
  {
   "cell_type": "markdown",
   "source": [
    "sm.graphics.plot_partregress('Cov19Deaths','IntUnintInjury_PoisoningAdverGroup','AgeGroup',data=df_InjuryPoisonGroup1, obs_labels=True)\r\n"
   ],
   "metadata": {}
  },
  {
   "cell_type": "code",
   "execution_count": 132,
   "source": [
    "df_Alzheimergroup=df_comorbidity[['Cov19Deaths','Alzheimer_DiseaseGroup','NumberOfMentions','AgeGroup']].dropna()"
   ],
   "outputs": [],
   "metadata": {}
  },
  {
   "cell_type": "code",
   "execution_count": 133,
   "source": [
    "y, X = dmatrices('Cov19Deaths ~ Alzheimer_DiseaseGroup + NumberOfMentions + AgeGroup',data=df_Alzheimergroup, return_type='dataframe')"
   ],
   "outputs": [],
   "metadata": {}
  },
  {
   "cell_type": "code",
   "execution_count": 134,
   "source": [
    "y"
   ],
   "outputs": [
    {
     "output_type": "execute_result",
     "data": {
      "text/html": [
       "<div>\n",
       "<style scoped>\n",
       "    .dataframe tbody tr th:only-of-type {\n",
       "        vertical-align: middle;\n",
       "    }\n",
       "\n",
       "    .dataframe tbody tr th {\n",
       "        vertical-align: top;\n",
       "    }\n",
       "\n",
       "    .dataframe thead th {\n",
       "        text-align: right;\n",
       "    }\n",
       "</style>\n",
       "<table border=\"1\" class=\"dataframe\">\n",
       "  <thead>\n",
       "    <tr style=\"text-align: right;\">\n",
       "      <th></th>\n",
       "      <th>Cov19Deaths</th>\n",
       "    </tr>\n",
       "  </thead>\n",
       "  <tbody>\n",
       "    <tr>\n",
       "      <th>0</th>\n",
       "      <td>520.0</td>\n",
       "    </tr>\n",
       "    <tr>\n",
       "      <th>1</th>\n",
       "      <td>2348.0</td>\n",
       "    </tr>\n",
       "    <tr>\n",
       "      <th>2</th>\n",
       "      <td>6191.0</td>\n",
       "    </tr>\n",
       "    <tr>\n",
       "      <th>3</th>\n",
       "      <td>17515.0</td>\n",
       "    </tr>\n",
       "    <tr>\n",
       "      <th>4</th>\n",
       "      <td>42471.0</td>\n",
       "    </tr>\n",
       "    <tr>\n",
       "      <th>...</th>\n",
       "      <td>...</td>\n",
       "    </tr>\n",
       "    <tr>\n",
       "      <th>285655</th>\n",
       "      <td>197.0</td>\n",
       "    </tr>\n",
       "    <tr>\n",
       "      <th>285656</th>\n",
       "      <td>184.0</td>\n",
       "    </tr>\n",
       "    <tr>\n",
       "      <th>285657</th>\n",
       "      <td>35.0</td>\n",
       "    </tr>\n",
       "    <tr>\n",
       "      <th>285658</th>\n",
       "      <td>29.0</td>\n",
       "    </tr>\n",
       "    <tr>\n",
       "      <th>285659</th>\n",
       "      <td>190.0</td>\n",
       "    </tr>\n",
       "  </tbody>\n",
       "</table>\n",
       "<p>207365 rows × 1 columns</p>\n",
       "</div>"
      ],
      "text/plain": [
       "        Cov19Deaths\n",
       "0             520.0\n",
       "1            2348.0\n",
       "2            6191.0\n",
       "3           17515.0\n",
       "4           42471.0\n",
       "...             ...\n",
       "285655        197.0\n",
       "285656        184.0\n",
       "285657         35.0\n",
       "285658         29.0\n",
       "285659        190.0\n",
       "\n",
       "[207365 rows x 1 columns]"
      ]
     },
     "metadata": {},
     "execution_count": 134
    }
   ],
   "metadata": {}
  },
  {
   "cell_type": "code",
   "execution_count": 135,
   "source": [
    "X"
   ],
   "outputs": [
    {
     "output_type": "execute_result",
     "data": {
      "text/html": [
       "<div>\n",
       "<style scoped>\n",
       "    .dataframe tbody tr th:only-of-type {\n",
       "        vertical-align: middle;\n",
       "    }\n",
       "\n",
       "    .dataframe tbody tr th {\n",
       "        vertical-align: top;\n",
       "    }\n",
       "\n",
       "    .dataframe thead th {\n",
       "        text-align: right;\n",
       "    }\n",
       "</style>\n",
       "<table border=\"1\" class=\"dataframe\">\n",
       "  <thead>\n",
       "    <tr style=\"text-align: right;\">\n",
       "      <th></th>\n",
       "      <th>Intercept</th>\n",
       "      <th>AgeGroup[T.25-34]</th>\n",
       "      <th>AgeGroup[T.35-44]</th>\n",
       "      <th>AgeGroup[T.45-54]</th>\n",
       "      <th>AgeGroup[T.55-64]</th>\n",
       "      <th>AgeGroup[T.65-74]</th>\n",
       "      <th>AgeGroup[T.75-84]</th>\n",
       "      <th>AgeGroup[T.85+]</th>\n",
       "      <th>AgeGroup[T.All Ages]</th>\n",
       "      <th>AgeGroup[T.Not stated]</th>\n",
       "      <th>Alzheimer_DiseaseGroup</th>\n",
       "      <th>NumberOfMentions</th>\n",
       "    </tr>\n",
       "  </thead>\n",
       "  <tbody>\n",
       "    <tr>\n",
       "      <th>0</th>\n",
       "      <td>1.0</td>\n",
       "      <td>0.0</td>\n",
       "      <td>0.0</td>\n",
       "      <td>0.0</td>\n",
       "      <td>0.0</td>\n",
       "      <td>0.0</td>\n",
       "      <td>0.0</td>\n",
       "      <td>0.0</td>\n",
       "      <td>0.0</td>\n",
       "      <td>0.0</td>\n",
       "      <td>0.0</td>\n",
       "      <td>540.0</td>\n",
       "    </tr>\n",
       "    <tr>\n",
       "      <th>1</th>\n",
       "      <td>1.0</td>\n",
       "      <td>1.0</td>\n",
       "      <td>0.0</td>\n",
       "      <td>0.0</td>\n",
       "      <td>0.0</td>\n",
       "      <td>0.0</td>\n",
       "      <td>0.0</td>\n",
       "      <td>0.0</td>\n",
       "      <td>0.0</td>\n",
       "      <td>0.0</td>\n",
       "      <td>0.0</td>\n",
       "      <td>2405.0</td>\n",
       "    </tr>\n",
       "    <tr>\n",
       "      <th>2</th>\n",
       "      <td>1.0</td>\n",
       "      <td>0.0</td>\n",
       "      <td>1.0</td>\n",
       "      <td>0.0</td>\n",
       "      <td>0.0</td>\n",
       "      <td>0.0</td>\n",
       "      <td>0.0</td>\n",
       "      <td>0.0</td>\n",
       "      <td>0.0</td>\n",
       "      <td>0.0</td>\n",
       "      <td>0.0</td>\n",
       "      <td>6367.0</td>\n",
       "    </tr>\n",
       "    <tr>\n",
       "      <th>3</th>\n",
       "      <td>1.0</td>\n",
       "      <td>0.0</td>\n",
       "      <td>0.0</td>\n",
       "      <td>1.0</td>\n",
       "      <td>0.0</td>\n",
       "      <td>0.0</td>\n",
       "      <td>0.0</td>\n",
       "      <td>0.0</td>\n",
       "      <td>0.0</td>\n",
       "      <td>0.0</td>\n",
       "      <td>0.0</td>\n",
       "      <td>18048.0</td>\n",
       "    </tr>\n",
       "    <tr>\n",
       "      <th>4</th>\n",
       "      <td>1.0</td>\n",
       "      <td>0.0</td>\n",
       "      <td>0.0</td>\n",
       "      <td>0.0</td>\n",
       "      <td>1.0</td>\n",
       "      <td>0.0</td>\n",
       "      <td>0.0</td>\n",
       "      <td>0.0</td>\n",
       "      <td>0.0</td>\n",
       "      <td>0.0</td>\n",
       "      <td>0.0</td>\n",
       "      <td>43677.0</td>\n",
       "    </tr>\n",
       "    <tr>\n",
       "      <th>...</th>\n",
       "      <td>...</td>\n",
       "      <td>...</td>\n",
       "      <td>...</td>\n",
       "      <td>...</td>\n",
       "      <td>...</td>\n",
       "      <td>...</td>\n",
       "      <td>...</td>\n",
       "      <td>...</td>\n",
       "      <td>...</td>\n",
       "      <td>...</td>\n",
       "      <td>...</td>\n",
       "      <td>...</td>\n",
       "    </tr>\n",
       "    <tr>\n",
       "      <th>285655</th>\n",
       "      <td>1.0</td>\n",
       "      <td>0.0</td>\n",
       "      <td>0.0</td>\n",
       "      <td>0.0</td>\n",
       "      <td>0.0</td>\n",
       "      <td>0.0</td>\n",
       "      <td>0.0</td>\n",
       "      <td>0.0</td>\n",
       "      <td>1.0</td>\n",
       "      <td>0.0</td>\n",
       "      <td>0.0</td>\n",
       "      <td>197.0</td>\n",
       "    </tr>\n",
       "    <tr>\n",
       "      <th>285656</th>\n",
       "      <td>1.0</td>\n",
       "      <td>0.0</td>\n",
       "      <td>0.0</td>\n",
       "      <td>0.0</td>\n",
       "      <td>0.0</td>\n",
       "      <td>0.0</td>\n",
       "      <td>0.0</td>\n",
       "      <td>0.0</td>\n",
       "      <td>1.0</td>\n",
       "      <td>0.0</td>\n",
       "      <td>0.0</td>\n",
       "      <td>184.0</td>\n",
       "    </tr>\n",
       "    <tr>\n",
       "      <th>285657</th>\n",
       "      <td>1.0</td>\n",
       "      <td>0.0</td>\n",
       "      <td>0.0</td>\n",
       "      <td>0.0</td>\n",
       "      <td>0.0</td>\n",
       "      <td>0.0</td>\n",
       "      <td>0.0</td>\n",
       "      <td>0.0</td>\n",
       "      <td>1.0</td>\n",
       "      <td>0.0</td>\n",
       "      <td>0.0</td>\n",
       "      <td>35.0</td>\n",
       "    </tr>\n",
       "    <tr>\n",
       "      <th>285658</th>\n",
       "      <td>1.0</td>\n",
       "      <td>0.0</td>\n",
       "      <td>0.0</td>\n",
       "      <td>0.0</td>\n",
       "      <td>0.0</td>\n",
       "      <td>0.0</td>\n",
       "      <td>0.0</td>\n",
       "      <td>0.0</td>\n",
       "      <td>1.0</td>\n",
       "      <td>0.0</td>\n",
       "      <td>0.0</td>\n",
       "      <td>29.0</td>\n",
       "    </tr>\n",
       "    <tr>\n",
       "      <th>285659</th>\n",
       "      <td>1.0</td>\n",
       "      <td>0.0</td>\n",
       "      <td>0.0</td>\n",
       "      <td>0.0</td>\n",
       "      <td>0.0</td>\n",
       "      <td>0.0</td>\n",
       "      <td>0.0</td>\n",
       "      <td>0.0</td>\n",
       "      <td>1.0</td>\n",
       "      <td>0.0</td>\n",
       "      <td>0.0</td>\n",
       "      <td>190.0</td>\n",
       "    </tr>\n",
       "  </tbody>\n",
       "</table>\n",
       "<p>207365 rows × 12 columns</p>\n",
       "</div>"
      ],
      "text/plain": [
       "        Intercept  AgeGroup[T.25-34]  AgeGroup[T.35-44]  AgeGroup[T.45-54]  \\\n",
       "0             1.0                0.0                0.0                0.0   \n",
       "1             1.0                1.0                0.0                0.0   \n",
       "2             1.0                0.0                1.0                0.0   \n",
       "3             1.0                0.0                0.0                1.0   \n",
       "4             1.0                0.0                0.0                0.0   \n",
       "...           ...                ...                ...                ...   \n",
       "285655        1.0                0.0                0.0                0.0   \n",
       "285656        1.0                0.0                0.0                0.0   \n",
       "285657        1.0                0.0                0.0                0.0   \n",
       "285658        1.0                0.0                0.0                0.0   \n",
       "285659        1.0                0.0                0.0                0.0   \n",
       "\n",
       "        AgeGroup[T.55-64]  AgeGroup[T.65-74]  AgeGroup[T.75-84]  \\\n",
       "0                     0.0                0.0                0.0   \n",
       "1                     0.0                0.0                0.0   \n",
       "2                     0.0                0.0                0.0   \n",
       "3                     0.0                0.0                0.0   \n",
       "4                     1.0                0.0                0.0   \n",
       "...                   ...                ...                ...   \n",
       "285655                0.0                0.0                0.0   \n",
       "285656                0.0                0.0                0.0   \n",
       "285657                0.0                0.0                0.0   \n",
       "285658                0.0                0.0                0.0   \n",
       "285659                0.0                0.0                0.0   \n",
       "\n",
       "        AgeGroup[T.85+]  AgeGroup[T.All Ages]  AgeGroup[T.Not stated]  \\\n",
       "0                   0.0                   0.0                     0.0   \n",
       "1                   0.0                   0.0                     0.0   \n",
       "2                   0.0                   0.0                     0.0   \n",
       "3                   0.0                   0.0                     0.0   \n",
       "4                   0.0                   0.0                     0.0   \n",
       "...                 ...                   ...                     ...   \n",
       "285655              0.0                   1.0                     0.0   \n",
       "285656              0.0                   1.0                     0.0   \n",
       "285657              0.0                   1.0                     0.0   \n",
       "285658              0.0                   1.0                     0.0   \n",
       "285659              0.0                   1.0                     0.0   \n",
       "\n",
       "        Alzheimer_DiseaseGroup  NumberOfMentions  \n",
       "0                          0.0             540.0  \n",
       "1                          0.0            2405.0  \n",
       "2                          0.0            6367.0  \n",
       "3                          0.0           18048.0  \n",
       "4                          0.0           43677.0  \n",
       "...                        ...               ...  \n",
       "285655                     0.0             197.0  \n",
       "285656                     0.0             184.0  \n",
       "285657                     0.0              35.0  \n",
       "285658                     0.0              29.0  \n",
       "285659                     0.0             190.0  \n",
       "\n",
       "[207365 rows x 12 columns]"
      ]
     },
     "metadata": {},
     "execution_count": 135
    }
   ],
   "metadata": {}
  },
  {
   "cell_type": "code",
   "execution_count": 136,
   "source": [
    "mod = sm.OLS(y, X)\r\n",
    "res = mod.fit()\r\n",
    "print(res.summary())"
   ],
   "outputs": [
    {
     "output_type": "stream",
     "name": "stdout",
     "text": [
      "                            OLS Regression Results                            \n",
      "==============================================================================\n",
      "Dep. Variable:            Cov19Deaths   R-squared:                       0.980\n",
      "Model:                            OLS   Adj. R-squared:                  0.980\n",
      "Method:                 Least Squares   F-statistic:                 9.126e+05\n",
      "Date:                Wed, 15 Sep 2021   Prob (F-statistic):               0.00\n",
      "Time:                        20:31:33   Log-Likelihood:            -1.5185e+06\n",
      "No. Observations:              207365   AIC:                         3.037e+06\n",
      "Df Residuals:                  207353   BIC:                         3.037e+06\n",
      "Df Model:                          11                                         \n",
      "Covariance Type:            nonrobust                                         \n",
      "==========================================================================================\n",
      "                             coef    std err          t      P>|t|      [0.025      0.975]\n",
      "------------------------------------------------------------------------------------------\n",
      "Intercept                 -0.1631      2.348     -0.069      0.945      -4.766       4.439\n",
      "AgeGroup[T.25-34]         -0.0417      3.418     -0.012      0.990      -6.741       6.658\n",
      "AgeGroup[T.35-44]         -0.0603      3.528     -0.017      0.986      -6.974       6.854\n",
      "AgeGroup[T.45-54]          0.0233      3.616      0.006      0.995      -7.064       7.111\n",
      "AgeGroup[T.55-64]         -0.1810      3.618     -0.050      0.960      -7.272       6.910\n",
      "AgeGroup[T.65-74]         -0.0835      3.583     -0.023      0.981      -7.107       6.940\n",
      "AgeGroup[T.75-84]          0.7938      3.561      0.223      0.824      -6.187       7.774\n",
      "AgeGroup[T.85+]            1.3642      3.557      0.384      0.701      -5.607       8.335\n",
      "AgeGroup[T.All Ages]       0.8932      3.391      0.263      0.792      -5.754       7.540\n",
      "AgeGroup[T.Not stated]     0.0901      3.194      0.028      0.978      -6.171       6.351\n",
      "Alzheimer_DiseaseGroup     1.6677      3.714      0.449      0.653      -5.612       8.947\n",
      "NumberOfMentions           0.9294      0.000   3159.304      0.000       0.929       0.930\n",
      "==============================================================================\n",
      "Omnibus:                   912646.544   Durbin-Watson:                   1.368\n",
      "Prob(Omnibus):                  0.000   Jarque-Bera (JB):   12750477648855.025\n",
      "Skew:                        -138.937   Prob(JB):                         0.00\n",
      "Kurtosis:                   38417.020   Cond. No.                     2.67e+04\n",
      "==============================================================================\n",
      "\n",
      "Notes:\n",
      "[1] Standard Errors assume that the covariance matrix of the errors is correctly specified.\n",
      "[2] The condition number is large, 2.67e+04. This might indicate that there are\n",
      "strong multicollinearity or other numerical problems.\n"
     ]
    }
   ],
   "metadata": {}
  },
  {
   "cell_type": "markdown",
   "source": [
    "Statsmodel Relacion de fallecimientos por lugar"
   ],
   "metadata": {}
  },
  {
   "cell_type": "code",
   "execution_count": 137,
   "source": [
    "print(res.rsquared)\r\n",
    "#print('R2: ', results.rsquared)"
   ],
   "outputs": [
    {
     "output_type": "stream",
     "name": "stdout",
     "text": [
      "0.9797628171219214\n"
     ]
    }
   ],
   "metadata": {}
  },
  {
   "cell_type": "code",
   "execution_count": 138,
   "source": [
    "df_Circ_DiseGroup=df_comorbidity[['Cov19Deaths','Circulatory_DiseasesGroup','NumberOfMentions','AgeGroup']].dropna()"
   ],
   "outputs": [],
   "metadata": {}
  },
  {
   "cell_type": "code",
   "execution_count": 139,
   "source": [
    "y, X = dmatrices('Cov19Deaths ~ Circulatory_DiseasesGroup + NumberOfMentions + AgeGroup',data=df_Circ_DiseGroup, return_type='dataframe')"
   ],
   "outputs": [],
   "metadata": {}
  },
  {
   "cell_type": "code",
   "execution_count": 140,
   "source": [
    "mod = sm.OLS(y, X)\r\n",
    "res = mod.fit()\r\n",
    "print(res.summary())"
   ],
   "outputs": [
    {
     "output_type": "stream",
     "name": "stdout",
     "text": [
      "                            OLS Regression Results                            \n",
      "==============================================================================\n",
      "Dep. Variable:            Cov19Deaths   R-squared:                       0.980\n",
      "Model:                            OLS   Adj. R-squared:                  0.980\n",
      "Method:                 Least Squares   F-statistic:                 9.127e+05\n",
      "Date:                Wed, 15 Sep 2021   Prob (F-statistic):               0.00\n",
      "Time:                        20:31:42   Log-Likelihood:            -1.5185e+06\n",
      "No. Observations:              207365   AIC:                         3.037e+06\n",
      "Df Residuals:                  207353   BIC:                         3.037e+06\n",
      "Df Model:                          11                                         \n",
      "Covariance Type:            nonrobust                                         \n",
      "=============================================================================================\n",
      "                                coef    std err          t      P>|t|      [0.025      0.975]\n",
      "---------------------------------------------------------------------------------------------\n",
      "Intercept                    -1.7741      2.408     -0.737      0.461      -6.494       2.946\n",
      "AgeGroup[T.25-34]            -0.0306      3.418     -0.009      0.993      -6.730       6.669\n",
      "AgeGroup[T.35-44]             0.0361      3.527      0.010      0.992      -6.877       6.949\n",
      "AgeGroup[T.45-54]             0.2662      3.616      0.074      0.941      -6.821       7.354\n",
      "AgeGroup[T.55-64]             0.0728      3.619      0.020      0.984      -7.019       7.165\n",
      "AgeGroup[T.65-74]             0.0957      3.584      0.027      0.979      -6.929       7.120\n",
      "AgeGroup[T.75-84]             0.9232      3.561      0.259      0.795      -6.057       7.904\n",
      "AgeGroup[T.85+]               1.4882      3.557      0.418      0.676      -5.483       8.459\n",
      "AgeGroup[T.All Ages]          0.9693      3.391      0.286      0.775      -5.677       7.615\n",
      "AgeGroup[T.Not stated]        0.1736      3.194      0.054      0.957      -6.087       6.434\n",
      "Circulatory_DiseasesGroup     5.2485      1.755      2.990      0.003       1.808       8.689\n",
      "NumberOfMentions              0.9294      0.000   3159.182      0.000       0.929       0.930\n",
      "==============================================================================\n",
      "Omnibus:                   912689.896   Durbin-Watson:                   1.368\n",
      "Prob(Omnibus):                  0.000   Jarque-Bera (JB):   12754659398530.119\n",
      "Skew:                        -138.959   Prob(JB):                         0.00\n",
      "Kurtosis:                   38423.319   Cond. No.                     2.67e+04\n",
      "==============================================================================\n",
      "\n",
      "Notes:\n",
      "[1] Standard Errors assume that the covariance matrix of the errors is correctly specified.\n",
      "[2] The condition number is large, 2.67e+04. This might indicate that there are\n",
      "strong multicollinearity or other numerical problems.\n"
     ]
    }
   ],
   "metadata": {}
  },
  {
   "cell_type": "code",
   "execution_count": 141,
   "source": [
    "df_SarsCOv19Group=df_comorbidity[['Cov19Deaths','SarsCOv19Group','NumberOfMentions','AgeGroup']].dropna()"
   ],
   "outputs": [],
   "metadata": {}
  },
  {
   "cell_type": "code",
   "execution_count": 142,
   "source": [
    "y, X = dmatrices('Cov19Deaths ~ SarsCOv19Group + NumberOfMentions + AgeGroup',data=df_SarsCOv19Group, return_type='dataframe')"
   ],
   "outputs": [],
   "metadata": {}
  },
  {
   "cell_type": "code",
   "execution_count": 143,
   "source": [
    "mod = sm.OLS(y, X)\r\n",
    "res = mod.fit()\r\n",
    "print(res.summary())"
   ],
   "outputs": [
    {
     "output_type": "stream",
     "name": "stdout",
     "text": [
      "                            OLS Regression Results                            \n",
      "==============================================================================\n",
      "Dep. Variable:            Cov19Deaths   R-squared:                       0.980\n",
      "Model:                            OLS   Adj. R-squared:                  0.980\n",
      "Method:                 Least Squares   F-statistic:                 9.136e+05\n",
      "Date:                Wed, 15 Sep 2021   Prob (F-statistic):               0.00\n",
      "Time:                        20:31:48   Log-Likelihood:            -1.5184e+06\n",
      "No. Observations:              207365   AIC:                         3.037e+06\n",
      "Df Residuals:                  207353   BIC:                         3.037e+06\n",
      "Df Model:                          11                                         \n",
      "Covariance Type:            nonrobust                                         \n",
      "==========================================================================================\n",
      "                             coef    std err          t      P>|t|      [0.025      0.975]\n",
      "------------------------------------------------------------------------------------------\n",
      "Intercept                 -1.7856      2.342     -0.762      0.446      -6.376       2.805\n",
      "AgeGroup[T.25-34]         -0.0125      3.416     -0.004      0.997      -6.708       6.683\n",
      "AgeGroup[T.35-44]         -0.5213      3.525     -0.148      0.882      -7.431       6.389\n",
      "AgeGroup[T.45-54]         -1.1937      3.615     -0.330      0.741      -8.278       5.891\n",
      "AgeGroup[T.55-64]         -1.8637      3.618     -0.515      0.606      -8.954       5.227\n",
      "AgeGroup[T.65-74]         -1.7873      3.583     -0.499      0.618      -8.810       5.235\n",
      "AgeGroup[T.75-84]         -0.8734      3.561     -0.245      0.806      -7.853       6.106\n",
      "AgeGroup[T.85+]           -0.2818      3.556     -0.079      0.937      -7.252       6.688\n",
      "AgeGroup[T.All Ages]      -0.3038      3.390     -0.090      0.929      -6.948       6.340\n",
      "AgeGroup[T.Not stated]    -0.6551      3.193     -0.205      0.837      -6.913       5.603\n",
      "SarsCOv19Group            57.2514      3.802     15.058      0.000      49.800      64.703\n",
      "NumberOfMentions           0.9292      0.000   3156.622      0.000       0.929       0.930\n",
      "==============================================================================\n",
      "Omnibus:                   912251.187   Durbin-Watson:                   1.368\n",
      "Prob(Omnibus):                  0.000   Jarque-Bera (JB):   12731688435896.730\n",
      "Skew:                        -138.734   Prob(JB):                         0.00\n",
      "Kurtosis:                   38388.707   Cond. No.                     2.67e+04\n",
      "==============================================================================\n",
      "\n",
      "Notes:\n",
      "[1] Standard Errors assume that the covariance matrix of the errors is correctly specified.\n",
      "[2] The condition number is large, 2.67e+04. This might indicate that there are\n",
      "strong multicollinearity or other numerical problems.\n"
     ]
    }
   ],
   "metadata": {}
  },
  {
   "cell_type": "code",
   "execution_count": 144,
   "source": [
    "#DiabetesGroup\r\n",
    "df_DiabetesGroup=df_comorbidity[['Cov19Deaths','DiabetesGroup','NumberOfMentions','AgeGroup']].dropna()"
   ],
   "outputs": [],
   "metadata": {}
  },
  {
   "cell_type": "code",
   "execution_count": 145,
   "source": [
    "y, X = dmatrices('Cov19Deaths ~ DiabetesGroup + NumberOfMentions + AgeGroup',data=df_DiabetesGroup, return_type='dataframe')"
   ],
   "outputs": [],
   "metadata": {}
  },
  {
   "cell_type": "code",
   "execution_count": 146,
   "source": [
    "mod = sm.OLS(y, X)\r\n",
    "res = mod.fit()\r\n",
    "print(res.summary())"
   ],
   "outputs": [
    {
     "output_type": "stream",
     "name": "stdout",
     "text": [
      "                            OLS Regression Results                            \n",
      "==============================================================================\n",
      "Dep. Variable:            Cov19Deaths   R-squared:                       0.980\n",
      "Model:                            OLS   Adj. R-squared:                  0.980\n",
      "Method:                 Least Squares   F-statistic:                 9.126e+05\n",
      "Date:                Wed, 15 Sep 2021   Prob (F-statistic):               0.00\n",
      "Time:                        20:31:54   Log-Likelihood:            -1.5185e+06\n",
      "No. Observations:              207365   AIC:                         3.037e+06\n",
      "Df Residuals:                  207353   BIC:                         3.037e+06\n",
      "Df Model:                          11                                         \n",
      "Covariance Type:            nonrobust                                         \n",
      "==========================================================================================\n",
      "                             coef    std err          t      P>|t|      [0.025      0.975]\n",
      "------------------------------------------------------------------------------------------\n",
      "Intercept                 -0.4628      2.347     -0.197      0.844      -5.063       4.137\n",
      "AgeGroup[T.25-34]         -0.0101      3.418     -0.003      0.998      -6.710       6.689\n",
      "AgeGroup[T.35-44]          0.0164      3.527      0.005      0.996      -6.897       6.930\n",
      "AgeGroup[T.45-54]          0.1025      3.616      0.028      0.977      -6.984       7.189\n",
      "AgeGroup[T.55-64]         -0.1681      3.618     -0.046      0.963      -7.259       6.923\n",
      "AgeGroup[T.65-74]         -0.1403      3.583     -0.039      0.969      -7.164       6.883\n",
      "AgeGroup[T.75-84]          0.7563      3.561      0.212      0.832      -6.223       7.736\n",
      "AgeGroup[T.85+]            1.3662      3.556      0.384      0.701      -5.604       8.337\n",
      "AgeGroup[T.All Ages]       0.8344      3.391      0.246      0.806      -5.812       7.480\n",
      "AgeGroup[T.Not stated]     0.0745      3.194      0.023      0.981      -6.186       6.335\n",
      "DiabetesGroup              8.9260      3.984      2.240      0.025       1.118      16.734\n",
      "NumberOfMentions           0.9294      0.000   3159.439      0.000       0.929       0.930\n",
      "==============================================================================\n",
      "Omnibus:                   912651.043   Durbin-Watson:                   1.368\n",
      "Prob(Omnibus):                  0.000   Jarque-Bera (JB):   12751313384977.572\n",
      "Skew:                        -138.939   Prob(JB):                         0.00\n",
      "Kurtosis:                   38418.279   Cond. No.                     2.67e+04\n",
      "==============================================================================\n",
      "\n",
      "Notes:\n",
      "[1] Standard Errors assume that the covariance matrix of the errors is correctly specified.\n",
      "[2] The condition number is large, 2.67e+04. This might indicate that there are\n",
      "strong multicollinearity or other numerical problems.\n"
     ]
    }
   ],
   "metadata": {}
  },
  {
   "cell_type": "code",
   "execution_count": 147,
   "source": [
    "#IntUnintInjury_PoisoningAdverGroup\r\n",
    "#Malignant_NeoplasmsGroup\r\n",
    "df_Malignant_NeoplasmsGroup=df_comorbidity[['Cov19Deaths','Malignant_NeoplasmsGroup','NumberOfMentions','AgeGroup']].dropna()"
   ],
   "outputs": [],
   "metadata": {}
  },
  {
   "cell_type": "code",
   "execution_count": 148,
   "source": [
    "y, X = dmatrices('Cov19Deaths ~ Malignant_NeoplasmsGroup + NumberOfMentions + AgeGroup',data=df_Malignant_NeoplasmsGroup, return_type='dataframe')"
   ],
   "outputs": [],
   "metadata": {}
  },
  {
   "cell_type": "code",
   "execution_count": 149,
   "source": [
    "mod = sm.OLS(y, X)\r\n",
    "res = mod.fit()\r\n",
    "print(res.summary())"
   ],
   "outputs": [
    {
     "output_type": "stream",
     "name": "stdout",
     "text": [
      "                            OLS Regression Results                            \n",
      "==============================================================================\n",
      "Dep. Variable:            Cov19Deaths   R-squared:                       0.980\n",
      "Model:                            OLS   Adj. R-squared:                  0.980\n",
      "Method:                 Least Squares   F-statistic:                 9.126e+05\n",
      "Date:                Wed, 15 Sep 2021   Prob (F-statistic):               0.00\n",
      "Time:                        20:32:01   Log-Likelihood:            -1.5185e+06\n",
      "No. Observations:              207365   AIC:                         3.037e+06\n",
      "Df Residuals:                  207353   BIC:                         3.037e+06\n",
      "Df Model:                          11                                         \n",
      "Covariance Type:            nonrobust                                         \n",
      "============================================================================================\n",
      "                               coef    std err          t      P>|t|      [0.025      0.975]\n",
      "--------------------------------------------------------------------------------------------\n",
      "Intercept                    0.0332      2.348      0.014      0.989      -4.569       4.635\n",
      "AgeGroup[T.25-34]           -0.0225      3.418     -0.007      0.995      -6.722       6.677\n",
      "AgeGroup[T.35-44]           -0.0331      3.527     -0.009      0.993      -6.947       6.880\n",
      "AgeGroup[T.45-54]            0.0422      3.616      0.012      0.991      -7.044       7.129\n",
      "AgeGroup[T.55-64]           -0.1873      3.618     -0.052      0.959      -7.278       6.904\n",
      "AgeGroup[T.65-74]           -0.1176      3.583     -0.033      0.974      -7.141       6.906\n",
      "AgeGroup[T.75-84]            0.7576      3.561      0.213      0.832      -6.222       7.738\n",
      "AgeGroup[T.85+]              1.3266      3.557      0.373      0.709      -5.644       8.297\n",
      "AgeGroup[T.All Ages]         0.8601      3.391      0.254      0.800      -5.786       7.506\n",
      "AgeGroup[T.Not stated]       0.0737      3.194      0.023      0.982      -6.187       6.334\n",
      "Malignant_NeoplasmsGroup    -2.4519      4.003     -0.612      0.540     -10.298       5.394\n",
      "NumberOfMentions             0.9294      0.000   3159.322      0.000       0.929       0.930\n",
      "==============================================================================\n",
      "Omnibus:                   912639.566   Durbin-Watson:                   1.368\n",
      "Prob(Omnibus):                  0.000   Jarque-Bera (JB):   12749971439777.016\n",
      "Skew:                        -138.933   Prob(JB):                         0.00\n",
      "Kurtosis:                   38416.257   Cond. No.                     2.67e+04\n",
      "==============================================================================\n",
      "\n",
      "Notes:\n",
      "[1] Standard Errors assume that the covariance matrix of the errors is correctly specified.\n",
      "[2] The condition number is large, 2.67e+04. This might indicate that there are\n",
      "strong multicollinearity or other numerical problems.\n"
     ]
    }
   ],
   "metadata": {}
  },
  {
   "cell_type": "markdown",
   "source": [
    "H0--> El lugar si determina una circunstancia en la muerte por covid\r\n",
    "Ha--> El lugar no determina una circunstancia en la muerte por covid"
   ],
   "metadata": {}
  },
  {
   "cell_type": "markdown",
   "source": [
    "y, X = dmatrices('COVID-19Deaths ~ Alabama + Alaska + Arizona + Arkansas + California + Colorado + Connecticut + Delaware + DistrictOfColumbia + Florida + Georgia + Hawaii + Idaho + Illinois + Indiana + Iowa + Kansas + Kentucky + Louisiana + Maine + Maryland + Massachusetts + Michigan + Minnesota + Mississippi + Missouri + Montana + Nebraska + Nevada + NewHampshire + NewJersey + NewMexico + NewYork + NewYorkCity + NorthCarolina + NorthDakota + Ohio + Oklahoma + Oregon + Pennsylvania + PuertoRico + RhodeIsland + SouthCarolina + SouthDakota + Tennessee + Texas + UnitedStates + Utah + Vermont + Virginia + Washington + WestVirginia + Wisconsin + Wyoming',data=, return_type='dataframe')\r\n",
    "Data de:\r\n",
    "https://www.cdc.gov/nchs/covid19/covid-19-mortality-data-files.htm\r\n",
    "https://data.cdc.gov/NCHS/Conditions-Contributing-to-COVID-19-Deaths-by-Stat/hk9y-quqm\r\n"
   ],
   "metadata": {}
  },
  {
   "cell_type": "code",
   "execution_count": 150,
   "source": [
    "#Obesity\r\n",
    "df_ObesityGroup=df_comorbidity[['Cov19Deaths','ObesityGroup','NumberOfMentions','AgeGroup']].dropna()"
   ],
   "outputs": [],
   "metadata": {}
  },
  {
   "cell_type": "code",
   "execution_count": 151,
   "source": [
    "y, X = dmatrices('Cov19Deaths ~ ObesityGroup + NumberOfMentions + AgeGroup',data=df_ObesityGroup, return_type='dataframe')"
   ],
   "outputs": [],
   "metadata": {}
  },
  {
   "cell_type": "code",
   "execution_count": 152,
   "source": [
    "mod = sm.OLS(y, X)\r\n",
    "res = mod.fit()\r\n",
    "print(res.summary())"
   ],
   "outputs": [
    {
     "output_type": "stream",
     "name": "stdout",
     "text": [
      "                            OLS Regression Results                            \n",
      "==============================================================================\n",
      "Dep. Variable:            Cov19Deaths   R-squared:                       0.980\n",
      "Model:                            OLS   Adj. R-squared:                  0.980\n",
      "Method:                 Least Squares   F-statistic:                 9.126e+05\n",
      "Date:                Wed, 15 Sep 2021   Prob (F-statistic):               0.00\n",
      "Time:                        20:32:07   Log-Likelihood:            -1.5185e+06\n",
      "No. Observations:              207365   AIC:                         3.037e+06\n",
      "Df Residuals:                  207353   BIC:                         3.037e+06\n",
      "Df Model:                          11                                         \n",
      "Covariance Type:            nonrobust                                         \n",
      "==========================================================================================\n",
      "                             coef    std err          t      P>|t|      [0.025      0.975]\n",
      "------------------------------------------------------------------------------------------\n",
      "Intercept                 -0.1781      2.347     -0.076      0.939      -4.778       4.421\n",
      "AgeGroup[T.25-34]         -0.0208      3.418     -0.006      0.995      -6.720       6.679\n",
      "AgeGroup[T.35-44]         -0.0249      3.527     -0.007      0.994      -6.938       6.889\n",
      "AgeGroup[T.45-54]          0.0595      3.616      0.016      0.987      -7.027       7.146\n",
      "AgeGroup[T.55-64]         -0.1609      3.618     -0.044      0.965      -7.252       6.930\n",
      "AgeGroup[T.65-74]         -0.0927      3.583     -0.026      0.979      -7.116       6.930\n",
      "AgeGroup[T.75-84]          0.7808      3.561      0.219      0.826      -6.199       7.761\n",
      "AgeGroup[T.85+]            1.3366      3.556      0.376      0.707      -5.634       8.307\n",
      "AgeGroup[T.All Ages]       0.8733      3.391      0.258      0.797      -5.773       7.519\n",
      "AgeGroup[T.Not stated]     0.0697      3.194      0.022      0.983      -6.191       6.330\n",
      "ObesityGroup               2.4838      4.162      0.597      0.551      -5.674      10.642\n",
      "NumberOfMentions           0.9294      0.000   3159.306      0.000       0.929       0.930\n",
      "==============================================================================\n",
      "Omnibus:                   912647.802   Durbin-Watson:                   1.368\n",
      "Prob(Omnibus):                  0.000   Jarque-Bera (JB):   12750587728547.234\n",
      "Skew:                        -138.937   Prob(JB):                         0.00\n",
      "Kurtosis:                   38417.186   Cond. No.                     2.67e+04\n",
      "==============================================================================\n",
      "\n",
      "Notes:\n",
      "[1] Standard Errors assume that the covariance matrix of the errors is correctly specified.\n",
      "[2] The condition number is large, 2.67e+04. This might indicate that there are\n",
      "strong multicollinearity or other numerical problems.\n"
     ]
    }
   ],
   "metadata": {}
  },
  {
   "cell_type": "code",
   "execution_count": 153,
   "source": [
    "#Renal_FailureGroup\r\n",
    "df_Renal_FailureGroup=df_comorbidity[['Cov19Deaths','Renal_FailureGroup','NumberOfMentions','AgeGroup']].dropna()"
   ],
   "outputs": [],
   "metadata": {}
  },
  {
   "cell_type": "code",
   "execution_count": 154,
   "source": [
    "y, X = dmatrices('Cov19Deaths ~ Renal_FailureGroup + NumberOfMentions + AgeGroup',data=df_Renal_FailureGroup, return_type='dataframe')"
   ],
   "outputs": [],
   "metadata": {}
  },
  {
   "cell_type": "code",
   "execution_count": 155,
   "source": [
    "mod = sm.OLS(y, X)\r\n",
    "res = mod.fit()\r\n",
    "print(res.summary())"
   ],
   "outputs": [
    {
     "output_type": "stream",
     "name": "stdout",
     "text": [
      "                            OLS Regression Results                            \n",
      "==============================================================================\n",
      "Dep. Variable:            Cov19Deaths   R-squared:                       0.980\n",
      "Model:                            OLS   Adj. R-squared:                  0.980\n",
      "Method:                 Least Squares   F-statistic:                 9.126e+05\n",
      "Date:                Wed, 15 Sep 2021   Prob (F-statistic):               0.00\n",
      "Time:                        20:32:13   Log-Likelihood:            -1.5185e+06\n",
      "No. Observations:              207365   AIC:                         3.037e+06\n",
      "Df Residuals:                  207353   BIC:                         3.037e+06\n",
      "Df Model:                          11                                         \n",
      "Covariance Type:            nonrobust                                         \n",
      "==========================================================================================\n",
      "                             coef    std err          t      P>|t|      [0.025      0.975]\n",
      "------------------------------------------------------------------------------------------\n",
      "Intercept                 -0.1924      2.348     -0.082      0.935      -4.794       4.409\n",
      "AgeGroup[T.25-34]         -0.0244      3.418     -0.007      0.994      -6.724       6.675\n",
      "AgeGroup[T.35-44]         -0.0248      3.527     -0.007      0.994      -6.938       6.889\n",
      "AgeGroup[T.45-54]          0.0699      3.616      0.019      0.985      -7.017       7.157\n",
      "AgeGroup[T.55-64]         -0.1545      3.618     -0.043      0.966      -7.245       6.936\n",
      "AgeGroup[T.65-74]         -0.0930      3.583     -0.026      0.979      -7.116       6.930\n",
      "AgeGroup[T.75-84]          0.7790      3.561      0.219      0.827      -6.201       7.759\n",
      "AgeGroup[T.85+]            1.3605      3.556      0.383      0.702      -5.610       8.331\n",
      "AgeGroup[T.All Ages]       0.8705      3.391      0.257      0.797      -5.776       7.517\n",
      "AgeGroup[T.Not stated]     0.0821      3.194      0.026      0.980      -6.179       6.343\n",
      "Renal_FailureGroup         2.5319      4.009      0.632      0.528      -5.326      10.390\n",
      "NumberOfMentions           0.9294      0.000   3159.374      0.000       0.929       0.930\n",
      "==============================================================================\n",
      "Omnibus:                   912645.273   Durbin-Watson:                   1.368\n",
      "Prob(Omnibus):                  0.000   Jarque-Bera (JB):   12750410805611.943\n",
      "Skew:                        -138.936   Prob(JB):                         0.00\n",
      "Kurtosis:                   38416.919   Cond. No.                     2.67e+04\n",
      "==============================================================================\n",
      "\n",
      "Notes:\n",
      "[1] Standard Errors assume that the covariance matrix of the errors is correctly specified.\n",
      "[2] The condition number is large, 2.67e+04. This might indicate that there are\n",
      "strong multicollinearity or other numerical problems.\n"
     ]
    }
   ],
   "metadata": {}
  },
  {
   "cell_type": "code",
   "execution_count": 156,
   "source": [
    "#Respiratory_DiseasesGroup\r\n",
    "df_Respiratory_DiseasesGroup=df_comorbidity[['Cov19Deaths','Respiratory_DiseasesGroup','NumberOfMentions','AgeGroup']].dropna()"
   ],
   "outputs": [],
   "metadata": {}
  },
  {
   "cell_type": "code",
   "execution_count": 157,
   "source": [
    "y, X = dmatrices('Cov19Deaths ~ Respiratory_DiseasesGroup + NumberOfMentions + AgeGroup',data=df_Respiratory_DiseasesGroup, return_type='dataframe')"
   ],
   "outputs": [],
   "metadata": {}
  },
  {
   "cell_type": "code",
   "execution_count": 158,
   "source": [
    "mod = sm.OLS(y, X)\r\n",
    "res = mod.fit()\r\n",
    "print(res.summary())"
   ],
   "outputs": [
    {
     "output_type": "stream",
     "name": "stdout",
     "text": [
      "                            OLS Regression Results                            \n",
      "==============================================================================\n",
      "Dep. Variable:            Cov19Deaths   R-squared:                       0.980\n",
      "Model:                            OLS   Adj. R-squared:                  0.980\n",
      "Method:                 Least Squares   F-statistic:                 9.128e+05\n",
      "Date:                Wed, 15 Sep 2021   Prob (F-statistic):               0.00\n",
      "Time:                        20:32:20   Log-Likelihood:            -1.5185e+06\n",
      "No. Observations:              207365   AIC:                         3.037e+06\n",
      "Df Residuals:                  207353   BIC:                         3.037e+06\n",
      "Df Model:                          11                                         \n",
      "Covariance Type:            nonrobust                                         \n",
      "=============================================================================================\n",
      "                                coef    std err          t      P>|t|      [0.025      0.975]\n",
      "---------------------------------------------------------------------------------------------\n",
      "Intercept                    -2.6386      2.386     -1.106      0.269      -7.316       2.039\n",
      "AgeGroup[T.25-34]             0.0250      3.418      0.007      0.994      -6.674       6.724\n",
      "AgeGroup[T.35-44]             0.0049      3.527      0.001      0.999      -6.908       6.918\n",
      "AgeGroup[T.45-54]             0.0226      3.615      0.006      0.995      -7.063       7.109\n",
      "AgeGroup[T.55-64]            -0.2896      3.618     -0.080      0.936      -7.380       6.801\n",
      "AgeGroup[T.65-74]            -0.2815      3.583     -0.079      0.937      -7.304       6.741\n",
      "AgeGroup[T.75-84]             0.6305      3.561      0.177      0.859      -6.349       7.610\n",
      "AgeGroup[T.85+]               1.2684      3.556      0.357      0.721      -5.702       8.238\n",
      "AgeGroup[T.All Ages]          0.7669      3.391      0.226      0.821      -5.879       7.413\n",
      "AgeGroup[T.Not stated]        0.0055      3.194      0.002      0.999      -6.255       6.266\n",
      "Respiratory_DiseasesGroup    10.0944      1.836      5.499      0.000       6.496      13.693\n",
      "NumberOfMentions              0.9294      0.000   3159.618      0.000       0.929       0.930\n",
      "==============================================================================\n",
      "Omnibus:                   912652.939   Durbin-Watson:                   1.368\n",
      "Prob(Omnibus):                  0.000   Jarque-Bera (JB):   12754054960502.555\n",
      "Skew:                        -138.940   Prob(JB):                         0.00\n",
      "Kurtosis:                   38422.409   Cond. No.                     2.67e+04\n",
      "==============================================================================\n",
      "\n",
      "Notes:\n",
      "[1] Standard Errors assume that the covariance matrix of the errors is correctly specified.\n",
      "[2] The condition number is large, 2.67e+04. This might indicate that there are\n",
      "strong multicollinearity or other numerical problems.\n"
     ]
    }
   ],
   "metadata": {}
  },
  {
   "cell_type": "code",
   "execution_count": 159,
   "source": [
    "#SepsisGroup\r\n",
    "df_SepsisGroup=df_comorbidity[['Cov19Deaths','SepsisGroup','NumberOfMentions','AgeGroup']].dropna()"
   ],
   "outputs": [],
   "metadata": {}
  },
  {
   "cell_type": "code",
   "execution_count": 160,
   "source": [
    "y, X = dmatrices('Cov19Deaths ~ SepsisGroup + NumberOfMentions + AgeGroup',data=df_SepsisGroup, return_type='dataframe')\r\n"
   ],
   "outputs": [],
   "metadata": {}
  },
  {
   "cell_type": "code",
   "execution_count": 161,
   "source": [
    "mod = sm.OLS(y, X)\r\n",
    "res = mod.fit()\r\n",
    "print(res.summary())"
   ],
   "outputs": [
    {
     "output_type": "stream",
     "name": "stdout",
     "text": [
      "                            OLS Regression Results                            \n",
      "==============================================================================\n",
      "Dep. Variable:            Cov19Deaths   R-squared:                       0.980\n",
      "Model:                            OLS   Adj. R-squared:                  0.980\n",
      "Method:                 Least Squares   F-statistic:                 9.126e+05\n",
      "Date:                Wed, 15 Sep 2021   Prob (F-statistic):               0.00\n",
      "Time:                        20:32:26   Log-Likelihood:            -1.5185e+06\n",
      "No. Observations:              207365   AIC:                         3.037e+06\n",
      "Df Residuals:                  207353   BIC:                         3.037e+06\n",
      "Df Model:                          11                                         \n",
      "Covariance Type:            nonrobust                                         \n",
      "==========================================================================================\n",
      "                             coef    std err          t      P>|t|      [0.025      0.975]\n",
      "------------------------------------------------------------------------------------------\n",
      "Intercept                 -0.3285      2.347     -0.140      0.889      -4.928       4.272\n",
      "AgeGroup[T.25-34]         -0.0268      3.418     -0.008      0.994      -6.726       6.673\n",
      "AgeGroup[T.35-44]         -0.0153      3.527     -0.004      0.997      -6.929       6.898\n",
      "AgeGroup[T.45-54]          0.0719      3.616      0.020      0.984      -7.015       7.158\n",
      "AgeGroup[T.55-64]         -0.1635      3.618     -0.045      0.964      -7.254       6.927\n",
      "AgeGroup[T.65-74]         -0.1101      3.583     -0.031      0.975      -7.133       6.913\n",
      "AgeGroup[T.75-84]          0.7744      3.561      0.217      0.828      -6.205       7.754\n",
      "AgeGroup[T.85+]            1.3612      3.556      0.383      0.702      -5.609       8.332\n",
      "AgeGroup[T.All Ages]       0.8585      3.391      0.253      0.800      -5.788       7.504\n",
      "AgeGroup[T.Not stated]     0.0726      3.194      0.023      0.982      -6.188       6.333\n",
      "SepsisGroup                5.8663      4.009      1.463      0.143      -1.991      13.724\n",
      "NumberOfMentions           0.9294      0.000   3159.382      0.000       0.929       0.930\n",
      "==============================================================================\n",
      "Omnibus:                   912652.416   Durbin-Watson:                   1.368\n",
      "Prob(Omnibus):                  0.000   Jarque-Bera (JB):   12751117489219.014\n",
      "Skew:                        -138.940   Prob(JB):                         0.00\n",
      "Kurtosis:                   38417.984   Cond. No.                     2.67e+04\n",
      "==============================================================================\n",
      "\n",
      "Notes:\n",
      "[1] Standard Errors assume that the covariance matrix of the errors is correctly specified.\n",
      "[2] The condition number is large, 2.67e+04. This might indicate that there are\n",
      "strong multicollinearity or other numerical problems.\n"
     ]
    }
   ],
   "metadata": {}
  },
  {
   "cell_type": "markdown",
   "source": [
    "Dado que todos los datos de los grupos son homocedasticos, puesto que su varianza se mantiene constante para todas las observaciones de la muestra, E(u2) = σ2, con las variables grupales procederemos a realizar las pruebas de regresion cuantilica."
   ],
   "metadata": {}
  },
  {
   "cell_type": "markdown",
   "source": [
    "PRUEBAS OLS PARA CONDICIONES(ENFERMEDADES SIMPLIFICADAS) "
   ],
   "metadata": {}
  },
  {
   "cell_type": "code",
   "execution_count": 162,
   "source": [
    "df_AdultRespiratoryDistressSyndrome=df_comorbidity[['Cov19Deaths','AdultRespiratoryDistressSyndrome','NumberOfMentions','AgeGroup']].dropna()"
   ],
   "outputs": [],
   "metadata": {}
  },
  {
   "cell_type": "code",
   "execution_count": 163,
   "source": [
    "y, X = dmatrices('Cov19Deaths ~ AdultRespiratoryDistressSyndrome + NumberOfMentions + AgeGroup',data=df_AdultRespiratoryDistressSyndrome, return_type='dataframe')"
   ],
   "outputs": [],
   "metadata": {}
  },
  {
   "cell_type": "code",
   "execution_count": 164,
   "source": [
    "mod = sm.OLS(y, X)\r\n",
    "res = mod.fit()\r\n",
    "print(res.summary())"
   ],
   "outputs": [
    {
     "output_type": "stream",
     "name": "stdout",
     "text": [
      "                            OLS Regression Results                            \n",
      "==============================================================================\n",
      "Dep. Variable:            Cov19Deaths   R-squared:                       0.980\n",
      "Model:                            OLS   Adj. R-squared:                  0.980\n",
      "Method:                 Least Squares   F-statistic:                 9.126e+05\n",
      "Date:                Wed, 15 Sep 2021   Prob (F-statistic):               0.00\n",
      "Time:                        20:32:35   Log-Likelihood:            -1.5185e+06\n",
      "No. Observations:              207365   AIC:                         3.037e+06\n",
      "Df Residuals:                  207353   BIC:                         3.037e+06\n",
      "Df Model:                          11                                         \n",
      "Covariance Type:            nonrobust                                         \n",
      "====================================================================================================\n",
      "                                       coef    std err          t      P>|t|      [0.025      0.975]\n",
      "----------------------------------------------------------------------------------------------------\n",
      "Intercept                           -0.3485      2.347     -0.149      0.882      -4.948       4.251\n",
      "AgeGroup[T.25-34]                   -0.0068      3.418     -0.002      0.998      -6.706       6.693\n",
      "AgeGroup[T.35-44]                   -0.0104      3.527     -0.003      0.998      -6.924       6.903\n",
      "AgeGroup[T.45-54]                    0.0731      3.616      0.020      0.984      -7.013       7.160\n",
      "AgeGroup[T.55-64]                   -0.1774      3.618     -0.049      0.961      -7.268       6.913\n",
      "AgeGroup[T.65-74]                   -0.1216      3.583     -0.034      0.973      -7.145       6.902\n",
      "AgeGroup[T.75-84]                    0.7702      3.561      0.216      0.829      -6.210       7.750\n",
      "AgeGroup[T.85+]                      1.3603      3.556      0.383      0.702      -5.610       8.331\n",
      "AgeGroup[T.All Ages]                 0.8455      3.391      0.249      0.803      -5.801       7.492\n",
      "AgeGroup[T.Not stated]               0.0641      3.194      0.020      0.984      -6.197       6.325\n",
      "AdultRespiratoryDistressSyndrome     6.5368      4.049      1.615      0.106      -1.399      14.472\n",
      "NumberOfMentions                     0.9294      0.000   3159.393      0.000       0.929       0.930\n",
      "==============================================================================\n",
      "Omnibus:                   912652.912   Durbin-Watson:                   1.368\n",
      "Prob(Omnibus):                  0.000   Jarque-Bera (JB):   12751202066016.678\n",
      "Skew:                        -138.940   Prob(JB):                         0.00\n",
      "Kurtosis:                   38418.111   Cond. No.                     2.67e+04\n",
      "==============================================================================\n",
      "\n",
      "Notes:\n",
      "[1] Standard Errors assume that the covariance matrix of the errors is correctly specified.\n",
      "[2] The condition number is large, 2.67e+04. This might indicate that there are\n",
      "strong multicollinearity or other numerical problems.\n"
     ]
    }
   ],
   "metadata": {}
  },
  {
   "cell_type": "code",
   "execution_count": 165,
   "source": [
    "df_OtherConditionsResidual=df_comorbidity[['Cov19Deaths','OtherConditionsResidual','NumberOfMentions','AgeGroup']].dropna()"
   ],
   "outputs": [],
   "metadata": {}
  },
  {
   "cell_type": "code",
   "execution_count": 166,
   "source": [
    "y, X = dmatrices('Cov19Deaths ~ OtherConditionsResidual + NumberOfMentions + AgeGroup',data=df_OtherConditionsResidual, return_type='dataframe')"
   ],
   "outputs": [],
   "metadata": {}
  },
  {
   "cell_type": "code",
   "execution_count": 167,
   "source": [
    "mod = sm.OLS(y, X)\r\n",
    "res = mod.fit()\r\n",
    "print(res.summary())\r\n"
   ],
   "outputs": [
    {
     "output_type": "stream",
     "name": "stdout",
     "text": [
      "                            OLS Regression Results                            \n",
      "==============================================================================\n",
      "Dep. Variable:            Cov19Deaths   R-squared:                       0.980\n",
      "Model:                            OLS   Adj. R-squared:                  0.980\n",
      "Method:                 Least Squares   F-statistic:                 9.187e+05\n",
      "Date:                Wed, 15 Sep 2021   Prob (F-statistic):               0.00\n",
      "Time:                        20:32:42   Log-Likelihood:            -1.5178e+06\n",
      "No. Observations:              207365   AIC:                         3.036e+06\n",
      "Df Residuals:                  207353   BIC:                         3.036e+06\n",
      "Df Model:                          11                                         \n",
      "Covariance Type:            nonrobust                                         \n",
      "===========================================================================================\n",
      "                              coef    std err          t      P>|t|      [0.025      0.975]\n",
      "-------------------------------------------------------------------------------------------\n",
      "Intercept                   4.5614      2.337      1.952      0.051      -0.018       9.141\n",
      "AgeGroup[T.25-34]          -0.2386      3.407     -0.070      0.944      -6.916       6.439\n",
      "AgeGroup[T.35-44]           0.0322      3.516      0.009      0.993      -6.859       6.923\n",
      "AgeGroup[T.45-54]           1.5051      3.604      0.418      0.676      -5.559       8.569\n",
      "AgeGroup[T.55-64]           2.6444      3.607      0.733      0.463      -4.425       9.714\n",
      "AgeGroup[T.65-74]           3.1455      3.573      0.880      0.379      -3.857      10.148\n",
      "AgeGroup[T.75-84]           3.9301      3.551      1.107      0.268      -3.029      10.889\n",
      "AgeGroup[T.85+]             4.3541      3.546      1.228      0.219      -2.596      11.304\n",
      "AgeGroup[T.All Ages]        3.3902      3.381      1.003      0.316      -3.236      10.016\n",
      "AgeGroup[T.Not stated]      1.6138      3.184      0.507      0.612      -4.627       7.855\n",
      "OtherConditionsResidual  -143.4525      3.905    -36.738      0.000    -151.106    -135.799\n",
      "NumberOfMentions            0.9297      0.000   3169.595      0.000       0.929       0.930\n",
      "==============================================================================\n",
      "Omnibus:                   914727.369   Durbin-Watson:                   1.374\n",
      "Prob(Omnibus):                  0.000   Jarque-Bera (JB):   13016364963760.641\n",
      "Skew:                        -140.001   Prob(JB):                         0.00\n",
      "Kurtosis:                   38815.485   Cond. No.                     2.67e+04\n",
      "==============================================================================\n",
      "\n",
      "Notes:\n",
      "[1] Standard Errors assume that the covariance matrix of the errors is correctly specified.\n",
      "[2] The condition number is large, 2.67e+04. This might indicate that there are\n",
      "strong multicollinearity or other numerical problems.\n"
     ]
    }
   ],
   "metadata": {}
  },
  {
   "cell_type": "code",
   "execution_count": 168,
   "source": [
    "df_AlzheimerDisease=df_comorbidity[['Cov19Deaths','AlzheimerDisease','NumberOfMentions','AgeGroup']].dropna()"
   ],
   "outputs": [],
   "metadata": {}
  },
  {
   "cell_type": "code",
   "execution_count": 169,
   "source": [
    "y, X = dmatrices('Cov19Deaths ~ AlzheimerDisease + NumberOfMentions + AgeGroup',data=df_AlzheimerDisease, return_type='dataframe')\r\n"
   ],
   "outputs": [],
   "metadata": {}
  },
  {
   "cell_type": "code",
   "execution_count": 170,
   "source": [
    "mod = sm.OLS(y, X)\r\n",
    "res = mod.fit()\r\n",
    "print(res.summary())\r\n"
   ],
   "outputs": [
    {
     "output_type": "stream",
     "name": "stdout",
     "text": [
      "                            OLS Regression Results                            \n",
      "==============================================================================\n",
      "Dep. Variable:            Cov19Deaths   R-squared:                       0.980\n",
      "Model:                            OLS   Adj. R-squared:                  0.980\n",
      "Method:                 Least Squares   F-statistic:                 9.126e+05\n",
      "Date:                Wed, 15 Sep 2021   Prob (F-statistic):               0.00\n",
      "Time:                        20:32:48   Log-Likelihood:            -1.5185e+06\n",
      "No. Observations:              207365   AIC:                         3.037e+06\n",
      "Df Residuals:                  207353   BIC:                         3.037e+06\n",
      "Df Model:                          11                                         \n",
      "Covariance Type:            nonrobust                                         \n",
      "==========================================================================================\n",
      "                             coef    std err          t      P>|t|      [0.025      0.975]\n",
      "------------------------------------------------------------------------------------------\n",
      "Intercept                 -0.1631      2.348     -0.069      0.945      -4.766       4.439\n",
      "AgeGroup[T.25-34]         -0.0417      3.418     -0.012      0.990      -6.741       6.658\n",
      "AgeGroup[T.35-44]         -0.0603      3.528     -0.017      0.986      -6.974       6.854\n",
      "AgeGroup[T.45-54]          0.0233      3.616      0.006      0.995      -7.064       7.111\n",
      "AgeGroup[T.55-64]         -0.1810      3.618     -0.050      0.960      -7.272       6.910\n",
      "AgeGroup[T.65-74]         -0.0835      3.583     -0.023      0.981      -7.107       6.940\n",
      "AgeGroup[T.75-84]          0.7938      3.561      0.223      0.824      -6.187       7.774\n",
      "AgeGroup[T.85+]            1.3642      3.557      0.384      0.701      -5.607       8.335\n",
      "AgeGroup[T.All Ages]       0.8932      3.391      0.263      0.792      -5.754       7.540\n",
      "AgeGroup[T.Not stated]     0.0901      3.194      0.028      0.978      -6.171       6.351\n",
      "AlzheimerDisease           1.6677      3.714      0.449      0.653      -5.612       8.947\n",
      "NumberOfMentions           0.9294      0.000   3159.304      0.000       0.929       0.930\n",
      "==============================================================================\n",
      "Omnibus:                   912646.544   Durbin-Watson:                   1.368\n",
      "Prob(Omnibus):                  0.000   Jarque-Bera (JB):   12750477648855.025\n",
      "Skew:                        -138.937   Prob(JB):                         0.00\n",
      "Kurtosis:                   38417.020   Cond. No.                     2.67e+04\n",
      "==============================================================================\n",
      "\n",
      "Notes:\n",
      "[1] Standard Errors assume that the covariance matrix of the errors is correctly specified.\n",
      "[2] The condition number is large, 2.67e+04. This might indicate that there are\n",
      "strong multicollinearity or other numerical problems.\n"
     ]
    }
   ],
   "metadata": {}
  },
  {
   "cell_type": "code",
   "execution_count": 171,
   "source": [
    "df_CardiacArrest=df_comorbidity[['Cov19Deaths','CardiacArrest','NumberOfMentions','AgeGroup']].dropna()"
   ],
   "outputs": [],
   "metadata": {}
  },
  {
   "cell_type": "code",
   "execution_count": 172,
   "source": [
    "y, X = dmatrices('Cov19Deaths ~ CardiacArrest + NumberOfMentions + AgeGroup',data=df_CardiacArrest, return_type='dataframe')"
   ],
   "outputs": [],
   "metadata": {}
  },
  {
   "cell_type": "code",
   "execution_count": 173,
   "source": [
    "df_CardiacArrhythmia=df_comorbidity[['Cov19Deaths','CardiacArrhythmia','NumberOfMentions','AgeGroup']].dropna()"
   ],
   "outputs": [],
   "metadata": {}
  },
  {
   "cell_type": "code",
   "execution_count": 174,
   "source": [
    "y, X = dmatrices('Cov19Deaths ~ CardiacArrhythmia + NumberOfMentions + AgeGroup',data=df_CardiacArrhythmia, return_type='dataframe')"
   ],
   "outputs": [],
   "metadata": {}
  },
  {
   "cell_type": "code",
   "execution_count": 175,
   "source": [
    "mod = sm.OLS(y, X)\r\n",
    "res = mod.fit()\r\n",
    "print(res.summary())"
   ],
   "outputs": [
    {
     "output_type": "stream",
     "name": "stdout",
     "text": [
      "                            OLS Regression Results                            \n",
      "==============================================================================\n",
      "Dep. Variable:            Cov19Deaths   R-squared:                       0.980\n",
      "Model:                            OLS   Adj. R-squared:                  0.980\n",
      "Method:                 Least Squares   F-statistic:                 9.126e+05\n",
      "Date:                Wed, 15 Sep 2021   Prob (F-statistic):               0.00\n",
      "Time:                        20:32:59   Log-Likelihood:            -1.5185e+06\n",
      "No. Observations:              207365   AIC:                         3.037e+06\n",
      "Df Residuals:                  207353   BIC:                         3.037e+06\n",
      "Df Model:                          11                                         \n",
      "Covariance Type:            nonrobust                                         \n",
      "==========================================================================================\n",
      "                             coef    std err          t      P>|t|      [0.025      0.975]\n",
      "------------------------------------------------------------------------------------------\n",
      "Intercept                 -0.2219      2.348     -0.094      0.925      -4.824       4.381\n",
      "AgeGroup[T.25-34]         -0.0402      3.418     -0.012      0.991      -6.740       6.659\n",
      "AgeGroup[T.35-44]         -0.0442      3.527     -0.013      0.990      -6.958       6.869\n",
      "AgeGroup[T.45-54]          0.0659      3.616      0.018      0.985      -7.021       7.152\n",
      "AgeGroup[T.55-64]         -0.1401      3.618     -0.039      0.969      -7.231       6.951\n",
      "AgeGroup[T.65-74]         -0.0721      3.583     -0.020      0.984      -7.096       6.951\n",
      "AgeGroup[T.75-84]          0.7908      3.561      0.222      0.824      -6.189       7.771\n",
      "AgeGroup[T.85+]            1.3670      3.556      0.384      0.701      -5.604       8.338\n",
      "AgeGroup[T.All Ages]       0.8869      3.391      0.262      0.794      -5.759       7.533\n",
      "AgeGroup[T.Not stated]     0.0904      3.194      0.028      0.977      -6.170       6.351\n",
      "CardiacArrhythmia          3.0031      3.925      0.765      0.444      -4.691      10.697\n",
      "NumberOfMentions           0.9294      0.000   3159.352      0.000       0.929       0.930\n",
      "==============================================================================\n",
      "Omnibus:                   912647.586   Durbin-Watson:                   1.368\n",
      "Prob(Omnibus):                  0.000   Jarque-Bera (JB):   12750598400386.062\n",
      "Skew:                        -138.937   Prob(JB):                         0.00\n",
      "Kurtosis:                   38417.202   Cond. No.                     2.67e+04\n",
      "==============================================================================\n",
      "\n",
      "Notes:\n",
      "[1] Standard Errors assume that the covariance matrix of the errors is correctly specified.\n",
      "[2] The condition number is large, 2.67e+04. This might indicate that there are\n",
      "strong multicollinearity or other numerical problems.\n"
     ]
    }
   ],
   "metadata": {}
  },
  {
   "cell_type": "code",
   "execution_count": 176,
   "source": [
    "df_CerebrovascularDiseases=df_comorbidity[['Cov19Deaths','CerebrovascularDiseases','NumberOfMentions','AgeGroup']].dropna()   "
   ],
   "outputs": [],
   "metadata": {}
  },
  {
   "cell_type": "code",
   "execution_count": 177,
   "source": [
    "y, X = dmatrices('Cov19Deaths ~ CerebrovascularDiseases + NumberOfMentions + AgeGroup',data=df_CerebrovascularDiseases, return_type='dataframe')\r\n"
   ],
   "outputs": [],
   "metadata": {}
  },
  {
   "cell_type": "code",
   "execution_count": 178,
   "source": [
    "mod = sm.OLS(y, X)\r\n",
    "res = mod.fit()\r\n",
    "print(res.summary())"
   ],
   "outputs": [
    {
     "output_type": "stream",
     "name": "stdout",
     "text": [
      "                            OLS Regression Results                            \n",
      "==============================================================================\n",
      "Dep. Variable:            Cov19Deaths   R-squared:                       0.980\n",
      "Model:                            OLS   Adj. R-squared:                  0.980\n",
      "Method:                 Least Squares   F-statistic:                 9.126e+05\n",
      "Date:                Wed, 15 Sep 2021   Prob (F-statistic):               0.00\n",
      "Time:                        20:33:05   Log-Likelihood:            -1.5185e+06\n",
      "No. Observations:              207365   AIC:                         3.037e+06\n",
      "Df Residuals:                  207353   BIC:                         3.037e+06\n",
      "Df Model:                          11                                         \n",
      "Covariance Type:            nonrobust                                         \n",
      "===========================================================================================\n",
      "                              coef    std err          t      P>|t|      [0.025      0.975]\n",
      "-------------------------------------------------------------------------------------------\n",
      "Intercept                  -0.1607      2.348     -0.068      0.945      -4.763       4.442\n",
      "AgeGroup[T.25-34]          -0.0341      3.418     -0.010      0.992      -6.734       6.665\n",
      "AgeGroup[T.35-44]          -0.0387      3.527     -0.011      0.991      -6.952       6.875\n",
      "AgeGroup[T.45-54]           0.0590      3.616      0.016      0.987      -7.027       7.146\n",
      "AgeGroup[T.55-64]          -0.1555      3.618     -0.043      0.966      -7.246       6.935\n",
      "AgeGroup[T.65-74]          -0.0837      3.583     -0.023      0.981      -7.107       6.940\n",
      "AgeGroup[T.75-84]           0.7891      3.561      0.222      0.825      -6.191       7.769\n",
      "AgeGroup[T.85+]             1.3645      3.557      0.384      0.701      -5.606       8.335\n",
      "AgeGroup[T.All Ages]        0.8832      3.391      0.260      0.795      -5.763       7.529\n",
      "AgeGroup[T.Not stated]      0.0848      3.194      0.027      0.979      -6.176       6.346\n",
      "CerebrovascularDiseases     1.7377      3.977      0.437      0.662      -6.058       9.533\n",
      "NumberOfMentions            0.9294      0.000   3159.323      0.000       0.929       0.930\n",
      "==============================================================================\n",
      "Omnibus:                   912645.863   Durbin-Watson:                   1.368\n",
      "Prob(Omnibus):                  0.000   Jarque-Bera (JB):   12750426821073.148\n",
      "Skew:                        -138.936   Prob(JB):                         0.00\n",
      "Kurtosis:                   38416.943   Cond. No.                     2.67e+04\n",
      "==============================================================================\n",
      "\n",
      "Notes:\n",
      "[1] Standard Errors assume that the covariance matrix of the errors is correctly specified.\n",
      "[2] The condition number is large, 2.67e+04. This might indicate that there are\n",
      "strong multicollinearity or other numerical problems.\n"
     ]
    }
   ],
   "metadata": {}
  },
  {
   "cell_type": "code",
   "execution_count": 179,
   "source": [
    "df_ChronicLowerRespiratoryDiseases=df_comorbidity[['Cov19Deaths','ChronicLowerRespiratoryDiseases','NumberOfMentions','AgeGroup']].dropna()"
   ],
   "outputs": [],
   "metadata": {}
  },
  {
   "cell_type": "code",
   "execution_count": 180,
   "source": [
    "y, X = dmatrices('Cov19Deaths ~ ChronicLowerRespiratoryDiseases + NumberOfMentions + AgeGroup',data=df_ChronicLowerRespiratoryDiseases, return_type='dataframe')"
   ],
   "outputs": [],
   "metadata": {}
  },
  {
   "cell_type": "code",
   "execution_count": 181,
   "source": [
    "mod = sm.OLS(y, X)\r\n",
    "res = mod.fit()\r\n",
    "print(res.summary())"
   ],
   "outputs": [
    {
     "output_type": "stream",
     "name": "stdout",
     "text": [
      "                            OLS Regression Results                            \n",
      "==============================================================================\n",
      "Dep. Variable:            Cov19Deaths   R-squared:                       0.980\n",
      "Model:                            OLS   Adj. R-squared:                  0.980\n",
      "Method:                 Least Squares   F-statistic:                 9.126e+05\n",
      "Date:                Wed, 15 Sep 2021   Prob (F-statistic):               0.00\n",
      "Time:                        20:33:14   Log-Likelihood:            -1.5185e+06\n",
      "No. Observations:              207365   AIC:                         3.037e+06\n",
      "Df Residuals:                  207353   BIC:                         3.037e+06\n",
      "Df Model:                          11                                         \n",
      "Covariance Type:            nonrobust                                         \n",
      "===================================================================================================\n",
      "                                      coef    std err          t      P>|t|      [0.025      0.975]\n",
      "---------------------------------------------------------------------------------------------------\n",
      "Intercept                          -0.1905      2.348     -0.081      0.935      -4.792       4.411\n",
      "AgeGroup[T.25-34]                  -0.0331      3.418     -0.010      0.992      -6.733       6.666\n",
      "AgeGroup[T.35-44]                  -0.0391      3.527     -0.011      0.991      -6.952       6.874\n",
      "AgeGroup[T.45-54]                   0.0633      3.616      0.018      0.986      -7.023       7.150\n",
      "AgeGroup[T.55-64]                  -0.1483      3.618     -0.041      0.967      -7.239       6.943\n",
      "AgeGroup[T.65-74]                  -0.0890      3.583     -0.025      0.980      -7.112       6.934\n",
      "AgeGroup[T.75-84]                   0.7814      3.561      0.219      0.826      -6.198       7.761\n",
      "AgeGroup[T.85+]                     1.3619      3.556      0.383      0.702      -5.609       8.333\n",
      "AgeGroup[T.All Ages]                0.8740      3.391      0.258      0.797      -5.772       7.520\n",
      "AgeGroup[T.Not stated]              0.0835      3.194      0.026      0.979      -6.177       6.344\n",
      "ChronicLowerRespiratoryDiseases     2.4501      3.963      0.618      0.536      -5.317      10.217\n",
      "NumberOfMentions                    0.9294      0.000   3159.362      0.000       0.929       0.930\n",
      "==============================================================================\n",
      "Omnibus:                   912645.834   Durbin-Watson:                   1.368\n",
      "Prob(Omnibus):                  0.000   Jarque-Bera (JB):   12750448767665.873\n",
      "Skew:                        -138.936   Prob(JB):                         0.00\n",
      "Kurtosis:                   38416.976   Cond. No.                     2.67e+04\n",
      "==============================================================================\n",
      "\n",
      "Notes:\n",
      "[1] Standard Errors assume that the covariance matrix of the errors is correctly specified.\n",
      "[2] The condition number is large, 2.67e+04. This might indicate that there are\n",
      "strong multicollinearity or other numerical problems.\n"
     ]
    }
   ],
   "metadata": {}
  },
  {
   "cell_type": "markdown",
   "source": [],
   "metadata": {}
  },
  {
   "cell_type": "code",
   "execution_count": 182,
   "source": [
    "df_SarsCov19=df_comorbidity[['Cov19Deaths','SarsCov19','NumberOfMentions','AgeGroup']].dropna()"
   ],
   "outputs": [],
   "metadata": {}
  },
  {
   "cell_type": "code",
   "execution_count": 183,
   "source": [
    "y, X = dmatrices('Cov19Deaths ~ SarsCov19 + NumberOfMentions + AgeGroup',data=df_SarsCov19, return_type='dataframe')"
   ],
   "outputs": [],
   "metadata": {}
  },
  {
   "cell_type": "code",
   "execution_count": 184,
   "source": [
    "mod = sm.OLS(y, X)\r\n",
    "res = mod.fit()\r\n",
    "print(res.summary())\r\n"
   ],
   "outputs": [
    {
     "output_type": "stream",
     "name": "stdout",
     "text": [
      "                            OLS Regression Results                            \n",
      "==============================================================================\n",
      "Dep. Variable:            Cov19Deaths   R-squared:                       0.980\n",
      "Model:                            OLS   Adj. R-squared:                  0.980\n",
      "Method:                 Least Squares   F-statistic:                 9.136e+05\n",
      "Date:                Wed, 15 Sep 2021   Prob (F-statistic):               0.00\n",
      "Time:                        20:33:22   Log-Likelihood:            -1.5184e+06\n",
      "No. Observations:              207365   AIC:                         3.037e+06\n",
      "Df Residuals:                  207353   BIC:                         3.037e+06\n",
      "Df Model:                          11                                         \n",
      "Covariance Type:            nonrobust                                         \n",
      "==========================================================================================\n",
      "                             coef    std err          t      P>|t|      [0.025      0.975]\n",
      "------------------------------------------------------------------------------------------\n",
      "Intercept                 -1.7856      2.342     -0.762      0.446      -6.376       2.805\n",
      "AgeGroup[T.25-34]         -0.0125      3.416     -0.004      0.997      -6.708       6.683\n",
      "AgeGroup[T.35-44]         -0.5213      3.525     -0.148      0.882      -7.431       6.389\n",
      "AgeGroup[T.45-54]         -1.1937      3.615     -0.330      0.741      -8.278       5.891\n",
      "AgeGroup[T.55-64]         -1.8637      3.618     -0.515      0.606      -8.954       5.227\n",
      "AgeGroup[T.65-74]         -1.7873      3.583     -0.499      0.618      -8.810       5.235\n",
      "AgeGroup[T.75-84]         -0.8734      3.561     -0.245      0.806      -7.853       6.106\n",
      "AgeGroup[T.85+]           -0.2818      3.556     -0.079      0.937      -7.252       6.688\n",
      "AgeGroup[T.All Ages]      -0.3038      3.390     -0.090      0.929      -6.948       6.340\n",
      "AgeGroup[T.Not stated]    -0.6551      3.193     -0.205      0.837      -6.913       5.603\n",
      "SarsCov19                 57.2514      3.802     15.058      0.000      49.800      64.703\n",
      "NumberOfMentions           0.9292      0.000   3156.622      0.000       0.929       0.930\n",
      "==============================================================================\n",
      "Omnibus:                   912251.187   Durbin-Watson:                   1.368\n",
      "Prob(Omnibus):                  0.000   Jarque-Bera (JB):   12731688435896.730\n",
      "Skew:                        -138.734   Prob(JB):                         0.00\n",
      "Kurtosis:                   38388.707   Cond. No.                     2.67e+04\n",
      "==============================================================================\n",
      "\n",
      "Notes:\n",
      "[1] Standard Errors assume that the covariance matrix of the errors is correctly specified.\n",
      "[2] The condition number is large, 2.67e+04. This might indicate that there are\n",
      "strong multicollinearity or other numerical problems.\n"
     ]
    }
   ],
   "metadata": {}
  },
  {
   "cell_type": "code",
   "execution_count": 185,
   "source": [
    "#Diabetes\r\n",
    "df_Diabetes=df_comorbidity[['Cov19Deaths','Diabetes','NumberOfMentions','AgeGroup']].dropna()\r\n"
   ],
   "outputs": [],
   "metadata": {}
  },
  {
   "cell_type": "code",
   "execution_count": 186,
   "source": [
    "y, X = dmatrices('Cov19Deaths ~ Diabetes + NumberOfMentions + AgeGroup',data=df_Diabetes, return_type='dataframe')"
   ],
   "outputs": [],
   "metadata": {}
  },
  {
   "cell_type": "code",
   "execution_count": 187,
   "source": [
    "mod = sm.OLS(y, X)\r\n",
    "res = mod.fit()\r\n",
    "print(res.summary())\r\n"
   ],
   "outputs": [
    {
     "output_type": "stream",
     "name": "stdout",
     "text": [
      "                            OLS Regression Results                            \n",
      "==============================================================================\n",
      "Dep. Variable:            Cov19Deaths   R-squared:                       0.980\n",
      "Model:                            OLS   Adj. R-squared:                  0.980\n",
      "Method:                 Least Squares   F-statistic:                 9.126e+05\n",
      "Date:                Wed, 15 Sep 2021   Prob (F-statistic):               0.00\n",
      "Time:                        20:33:30   Log-Likelihood:            -1.5185e+06\n",
      "No. Observations:              207365   AIC:                         3.037e+06\n",
      "Df Residuals:                  207353   BIC:                         3.037e+06\n",
      "Df Model:                          11                                         \n",
      "Covariance Type:            nonrobust                                         \n",
      "==========================================================================================\n",
      "                             coef    std err          t      P>|t|      [0.025      0.975]\n",
      "------------------------------------------------------------------------------------------\n",
      "Intercept                 -0.4628      2.347     -0.197      0.844      -5.063       4.137\n",
      "AgeGroup[T.25-34]         -0.0101      3.418     -0.003      0.998      -6.710       6.689\n",
      "AgeGroup[T.35-44]          0.0164      3.527      0.005      0.996      -6.897       6.930\n",
      "AgeGroup[T.45-54]          0.1025      3.616      0.028      0.977      -6.984       7.189\n",
      "AgeGroup[T.55-64]         -0.1681      3.618     -0.046      0.963      -7.259       6.923\n",
      "AgeGroup[T.65-74]         -0.1403      3.583     -0.039      0.969      -7.164       6.883\n",
      "AgeGroup[T.75-84]          0.7563      3.561      0.212      0.832      -6.223       7.736\n",
      "AgeGroup[T.85+]            1.3662      3.556      0.384      0.701      -5.604       8.337\n",
      "AgeGroup[T.All Ages]       0.8344      3.391      0.246      0.806      -5.812       7.480\n",
      "AgeGroup[T.Not stated]     0.0745      3.194      0.023      0.981      -6.186       6.335\n",
      "Diabetes                   8.9260      3.984      2.240      0.025       1.118      16.734\n",
      "NumberOfMentions           0.9294      0.000   3159.439      0.000       0.929       0.930\n",
      "==============================================================================\n",
      "Omnibus:                   912651.043   Durbin-Watson:                   1.368\n",
      "Prob(Omnibus):                  0.000   Jarque-Bera (JB):   12751313384977.572\n",
      "Skew:                        -138.939   Prob(JB):                         0.00\n",
      "Kurtosis:                   38418.279   Cond. No.                     2.67e+04\n",
      "==============================================================================\n",
      "\n",
      "Notes:\n",
      "[1] Standard Errors assume that the covariance matrix of the errors is correctly specified.\n",
      "[2] The condition number is large, 2.67e+04. This might indicate that there are\n",
      "strong multicollinearity or other numerical problems.\n"
     ]
    }
   ],
   "metadata": {}
  },
  {
   "cell_type": "code",
   "execution_count": 188,
   "source": [
    "#HeartFailure\r\n",
    "df_HeartFailure=df_comorbidity[['Cov19Deaths','HeartFailure','NumberOfMentions','AgeGroup']].dropna()"
   ],
   "outputs": [],
   "metadata": {}
  },
  {
   "cell_type": "code",
   "execution_count": 189,
   "source": [
    "y, X = dmatrices('Cov19Deaths ~ HeartFailure + NumberOfMentions + AgeGroup',data=df_HeartFailure, return_type='dataframe')"
   ],
   "outputs": [],
   "metadata": {}
  },
  {
   "cell_type": "code",
   "execution_count": 190,
   "source": [
    "mod = sm.OLS(y, X)\r\n",
    "res = mod.fit()\r\n",
    "print(res.summary())\r\n"
   ],
   "outputs": [
    {
     "output_type": "stream",
     "name": "stdout",
     "text": [
      "                            OLS Regression Results                            \n",
      "==============================================================================\n",
      "Dep. Variable:            Cov19Deaths   R-squared:                       0.980\n",
      "Model:                            OLS   Adj. R-squared:                  0.980\n",
      "Method:                 Least Squares   F-statistic:                 9.126e+05\n",
      "Date:                Wed, 15 Sep 2021   Prob (F-statistic):               0.00\n",
      "Time:                        20:33:36   Log-Likelihood:            -1.5185e+06\n",
      "No. Observations:              207365   AIC:                         3.037e+06\n",
      "Df Residuals:                  207353   BIC:                         3.037e+06\n",
      "Df Model:                          11                                         \n",
      "Covariance Type:            nonrobust                                         \n",
      "==========================================================================================\n",
      "                             coef    std err          t      P>|t|      [0.025      0.975]\n",
      "------------------------------------------------------------------------------------------\n",
      "Intercept                 -0.4628      2.347     -0.197      0.844      -5.063       4.137\n",
      "AgeGroup[T.25-34]         -0.0101      3.418     -0.003      0.998      -6.710       6.689\n",
      "AgeGroup[T.35-44]          0.0164      3.527      0.005      0.996      -6.897       6.930\n",
      "AgeGroup[T.45-54]          0.1025      3.616      0.028      0.977      -6.984       7.189\n",
      "AgeGroup[T.55-64]         -0.1681      3.618     -0.046      0.963      -7.259       6.923\n",
      "AgeGroup[T.65-74]         -0.1403      3.583     -0.039      0.969      -7.164       6.883\n",
      "AgeGroup[T.75-84]          0.7563      3.561      0.212      0.832      -6.223       7.736\n",
      "AgeGroup[T.85+]            1.3662      3.556      0.384      0.701      -5.604       8.337\n",
      "AgeGroup[T.All Ages]       0.8344      3.391      0.246      0.806      -5.812       7.480\n",
      "AgeGroup[T.Not stated]     0.0745      3.194      0.023      0.981      -6.186       6.335\n",
      "HeartFailure               8.9260      3.984      2.240      0.025       1.118      16.734\n",
      "NumberOfMentions           0.9294      0.000   3159.439      0.000       0.929       0.930\n",
      "==============================================================================\n",
      "Omnibus:                   912651.043   Durbin-Watson:                   1.368\n",
      "Prob(Omnibus):                  0.000   Jarque-Bera (JB):   12751313384977.572\n",
      "Skew:                        -138.939   Prob(JB):                         0.00\n",
      "Kurtosis:                   38418.279   Cond. No.                     2.67e+04\n",
      "==============================================================================\n",
      "\n",
      "Notes:\n",
      "[1] Standard Errors assume that the covariance matrix of the errors is correctly specified.\n",
      "[2] The condition number is large, 2.67e+04. This might indicate that there are\n",
      "strong multicollinearity or other numerical problems.\n"
     ]
    }
   ],
   "metadata": {}
  },
  {
   "cell_type": "code",
   "execution_count": 191,
   "source": [
    "df_HypertensiveDiseases=df_comorbidity[['Cov19Deaths','HypertensiveDiseases','NumberOfMentions','AgeGroup']].dropna()"
   ],
   "outputs": [],
   "metadata": {}
  },
  {
   "cell_type": "code",
   "execution_count": 192,
   "source": [
    "y, X = dmatrices('Cov19Deaths ~ HypertensiveDiseases + NumberOfMentions + AgeGroup',data=df_HypertensiveDiseases, return_type='dataframe')"
   ],
   "outputs": [],
   "metadata": {}
  },
  {
   "cell_type": "code",
   "execution_count": 193,
   "source": [
    "mod = sm.OLS(y, X)\r\n",
    "res = mod.fit()\r\n",
    "print(res.summary())\r\n"
   ],
   "outputs": [
    {
     "output_type": "stream",
     "name": "stdout",
     "text": [
      "                            OLS Regression Results                            \n",
      "==============================================================================\n",
      "Dep. Variable:            Cov19Deaths   R-squared:                       0.980\n",
      "Model:                            OLS   Adj. R-squared:                  0.980\n",
      "Method:                 Least Squares   F-statistic:                 9.126e+05\n",
      "Date:                Wed, 15 Sep 2021   Prob (F-statistic):               0.00\n",
      "Time:                        20:33:42   Log-Likelihood:            -1.5185e+06\n",
      "No. Observations:              207365   AIC:                         3.037e+06\n",
      "Df Residuals:                  207353   BIC:                         3.037e+06\n",
      "Df Model:                          11                                         \n",
      "Covariance Type:            nonrobust                                         \n",
      "==========================================================================================\n",
      "                             coef    std err          t      P>|t|      [0.025      0.975]\n",
      "------------------------------------------------------------------------------------------\n",
      "Intercept                 -0.5507      2.348     -0.235      0.815      -5.153       4.051\n",
      "AgeGroup[T.25-34]          0.0096      3.418      0.003      0.998      -6.690       6.709\n",
      "AgeGroup[T.35-44]          0.0407      3.527      0.012      0.991      -6.873       6.954\n",
      "AgeGroup[T.45-54]          0.1360      3.616      0.038      0.970      -6.951       7.223\n",
      "AgeGroup[T.55-64]         -0.1338      3.618     -0.037      0.970      -7.224       6.957\n",
      "AgeGroup[T.65-74]         -0.0947      3.583     -0.026      0.979      -7.118       6.928\n",
      "AgeGroup[T.75-84]          0.7761      3.561      0.218      0.827      -6.204       7.756\n",
      "AgeGroup[T.85+]            1.3497      3.556      0.380      0.704      -5.621       8.320\n",
      "AgeGroup[T.All Ages]       0.8672      3.391      0.256      0.798      -5.779       7.513\n",
      "AgeGroup[T.Not stated]     0.1119      3.194      0.035      0.972      -6.149       6.372\n",
      "HypertensiveDiseases      10.0984      3.919      2.577      0.010       2.418      17.779\n",
      "NumberOfMentions           0.9294      0.000   3159.450      0.000       0.929       0.930\n",
      "==============================================================================\n",
      "Omnibus:                   912647.253   Durbin-Watson:                   1.368\n",
      "Prob(Omnibus):                  0.000   Jarque-Bera (JB):   12751199248105.828\n",
      "Skew:                        -138.937   Prob(JB):                         0.00\n",
      "Kurtosis:                   38418.107   Cond. No.                     2.67e+04\n",
      "==============================================================================\n",
      "\n",
      "Notes:\n",
      "[1] Standard Errors assume that the covariance matrix of the errors is correctly specified.\n",
      "[2] The condition number is large, 2.67e+04. This might indicate that there are\n",
      "strong multicollinearity or other numerical problems.\n"
     ]
    }
   ],
   "metadata": {}
  },
  {
   "cell_type": "code",
   "execution_count": 194,
   "source": [
    "df_InfluenzaAndPneumonia=df_comorbidity[['Cov19Deaths','InfluenzaAndPneumonia','NumberOfMentions','AgeGroup']].dropna()"
   ],
   "outputs": [],
   "metadata": {}
  },
  {
   "cell_type": "code",
   "execution_count": 195,
   "source": [
    "y, X = dmatrices('Cov19Deaths ~ InfluenzaAndPneumonia + NumberOfMentions + AgeGroup',data=df_InfluenzaAndPneumonia, return_type='dataframe')"
   ],
   "outputs": [],
   "metadata": {}
  },
  {
   "cell_type": "code",
   "execution_count": 196,
   "source": [
    "mod = sm.OLS(y, X)\r\n",
    "res = mod.fit()\r\n",
    "print(res.summary())\r\n"
   ],
   "outputs": [
    {
     "output_type": "stream",
     "name": "stdout",
     "text": [
      "                            OLS Regression Results                            \n",
      "==============================================================================\n",
      "Dep. Variable:            Cov19Deaths   R-squared:                       0.980\n",
      "Model:                            OLS   Adj. R-squared:                  0.980\n",
      "Method:                 Least Squares   F-statistic:                 9.127e+05\n",
      "Date:                Wed, 15 Sep 2021   Prob (F-statistic):               0.00\n",
      "Time:                        20:33:48   Log-Likelihood:            -1.5185e+06\n",
      "No. Observations:              207365   AIC:                         3.037e+06\n",
      "Df Residuals:                  207353   BIC:                         3.037e+06\n",
      "Df Model:                          11                                         \n",
      "Covariance Type:            nonrobust                                         \n",
      "==========================================================================================\n",
      "                             coef    std err          t      P>|t|      [0.025      0.975]\n",
      "------------------------------------------------------------------------------------------\n",
      "Intercept                 -0.7995      2.345     -0.341      0.733      -5.395       3.796\n",
      "AgeGroup[T.25-34]          0.0359      3.418      0.010      0.992      -6.663       6.735\n",
      "AgeGroup[T.35-44]         -0.0067      3.527     -0.002      0.998      -6.920       6.906\n",
      "AgeGroup[T.45-54]         -0.1293      3.616     -0.036      0.971      -7.216       6.957\n",
      "AgeGroup[T.55-64]         -0.5247      3.618     -0.145      0.885      -7.616       6.567\n",
      "AgeGroup[T.65-74]         -0.4766      3.584     -0.133      0.894      -7.501       6.548\n",
      "AgeGroup[T.75-84]          0.4120      3.562      0.116      0.908      -6.569       7.393\n",
      "AgeGroup[T.85+]            1.0186      3.557      0.286      0.775      -5.953       7.990\n",
      "AgeGroup[T.All Ages]       0.5815      3.391      0.171      0.864      -6.065       7.228\n",
      "AgeGroup[T.Not stated]    -0.0686      3.194     -0.021      0.983      -6.329       6.192\n",
      "InfluenzaAndPneumonia     20.1279      3.882      5.186      0.000      12.520      27.736\n",
      "NumberOfMentions           0.9294      0.000   3159.056      0.000       0.929       0.930\n",
      "==============================================================================\n",
      "Omnibus:                   912573.680   Durbin-Watson:                   1.368\n",
      "Prob(Omnibus):                  0.000   Jarque-Bera (JB):   12747694292099.541\n",
      "Skew:                        -138.899   Prob(JB):                         0.00\n",
      "Kurtosis:                   38412.827   Cond. No.                     2.67e+04\n",
      "==============================================================================\n",
      "\n",
      "Notes:\n",
      "[1] Standard Errors assume that the covariance matrix of the errors is correctly specified.\n",
      "[2] The condition number is large, 2.67e+04. This might indicate that there are\n",
      "strong multicollinearity or other numerical problems.\n"
     ]
    }
   ],
   "metadata": {}
  },
  {
   "cell_type": "code",
   "execution_count": 197,
   "source": [
    "df_IntUnintInjuryPoisoningAdver=df_comorbidity[['Cov19Deaths','IntUnintInjuryPoisoningAdver','NumberOfMentions','AgeGroup']].dropna()"
   ],
   "outputs": [],
   "metadata": {}
  },
  {
   "cell_type": "code",
   "execution_count": 198,
   "source": [
    "y, X = dmatrices('Cov19Deaths ~ IntUnintInjuryPoisoningAdver + NumberOfMentions + AgeGroup',data=df_IntUnintInjuryPoisoningAdver, return_type='dataframe')"
   ],
   "outputs": [],
   "metadata": {}
  },
  {
   "cell_type": "code",
   "execution_count": 199,
   "source": [
    "mod = sm.OLS(y, X)\r\n",
    "res = mod.fit()\r\n",
    "print(res.summary())\r\n"
   ],
   "outputs": [
    {
     "output_type": "stream",
     "name": "stdout",
     "text": [
      "                            OLS Regression Results                            \n",
      "==============================================================================\n",
      "Dep. Variable:            Cov19Deaths   R-squared:                       0.980\n",
      "Model:                            OLS   Adj. R-squared:                  0.980\n",
      "Method:                 Least Squares   F-statistic:                 9.127e+05\n",
      "Date:                Wed, 15 Sep 2021   Prob (F-statistic):               0.00\n",
      "Time:                        20:33:54   Log-Likelihood:            -1.5185e+06\n",
      "No. Observations:              207365   AIC:                         3.037e+06\n",
      "Df Residuals:                  207353   BIC:                         3.037e+06\n",
      "Df Model:                          11                                         \n",
      "Covariance Type:            nonrobust                                         \n",
      "================================================================================================\n",
      "                                   coef    std err          t      P>|t|      [0.025      0.975]\n",
      "------------------------------------------------------------------------------------------------\n",
      "Intercept                        0.5405      2.347      0.230      0.818      -4.060       5.142\n",
      "AgeGroup[T.25-34]               -0.0310      3.418     -0.009      0.993      -6.730       6.668\n",
      "AgeGroup[T.35-44]               -0.0072      3.527     -0.002      0.998      -6.920       6.906\n",
      "AgeGroup[T.45-54]                0.0570      3.615      0.016      0.987      -7.029       7.143\n",
      "AgeGroup[T.55-64]               -0.2235      3.618     -0.062      0.951      -7.314       6.867\n",
      "AgeGroup[T.65-74]               -0.2043      3.583     -0.057      0.955      -7.227       6.819\n",
      "AgeGroup[T.75-84]                0.6658      3.561      0.187      0.852      -6.314       7.646\n",
      "AgeGroup[T.85+]                  1.2625      3.556      0.355      0.723      -5.708       8.233\n",
      "AgeGroup[T.All Ages]             0.7264      3.391      0.214      0.830      -5.920       7.373\n",
      "AgeGroup[T.Not stated]           0.0768      3.194      0.024      0.981      -6.184       6.337\n",
      "IntUnintInjuryPoisoningAdver   -14.1725      4.084     -3.470      0.001     -22.177      -6.168\n",
      "NumberOfMentions                 0.9294      0.000   3159.388      0.000       0.929       0.930\n",
      "==============================================================================\n",
      "Omnibus:                   912641.349   Durbin-Watson:                   1.368\n",
      "Prob(Omnibus):                  0.000   Jarque-Bera (JB):   12751358178050.102\n",
      "Skew:                        -138.934   Prob(JB):                         0.00\n",
      "Kurtosis:                   38418.346   Cond. No.                     2.67e+04\n",
      "==============================================================================\n",
      "\n",
      "Notes:\n",
      "[1] Standard Errors assume that the covariance matrix of the errors is correctly specified.\n",
      "[2] The condition number is large, 2.67e+04. This might indicate that there are\n",
      "strong multicollinearity or other numerical problems.\n"
     ]
    }
   ],
   "metadata": {}
  },
  {
   "cell_type": "code",
   "execution_count": 200,
   "source": [
    "df_IschemicHeartDisease=df_comorbidity[['Cov19Deaths','IschemicHeartDisease','NumberOfMentions','AgeGroup']].dropna()"
   ],
   "outputs": [],
   "metadata": {}
  },
  {
   "cell_type": "code",
   "execution_count": 201,
   "source": [
    "y, X = dmatrices('Cov19Deaths ~ IschemicHeartDisease + NumberOfMentions + AgeGroup',data=df_IschemicHeartDisease, return_type='dataframe')\r\n"
   ],
   "outputs": [],
   "metadata": {}
  },
  {
   "cell_type": "code",
   "execution_count": 202,
   "source": [
    "mod = sm.OLS(y, X)\r\n",
    "res = mod.fit()\r\n",
    "print(res.summary())\r\n"
   ],
   "outputs": [
    {
     "output_type": "stream",
     "name": "stdout",
     "text": [
      "                            OLS Regression Results                            \n",
      "==============================================================================\n",
      "Dep. Variable:            Cov19Deaths   R-squared:                       0.980\n",
      "Model:                            OLS   Adj. R-squared:                  0.980\n",
      "Method:                 Least Squares   F-statistic:                 9.126e+05\n",
      "Date:                Wed, 15 Sep 2021   Prob (F-statistic):               0.00\n",
      "Time:                        20:34:00   Log-Likelihood:            -1.5185e+06\n",
      "No. Observations:              207365   AIC:                         3.037e+06\n",
      "Df Residuals:                  207353   BIC:                         3.037e+06\n",
      "Df Model:                          11                                         \n",
      "Covariance Type:            nonrobust                                         \n",
      "==========================================================================================\n",
      "                             coef    std err          t      P>|t|      [0.025      0.975]\n",
      "------------------------------------------------------------------------------------------\n",
      "Intercept                 -0.1268      2.349     -0.054      0.957      -4.730       4.477\n",
      "AgeGroup[T.25-34]         -0.0313      3.418     -0.009      0.993      -6.731       6.668\n",
      "AgeGroup[T.35-44]         -0.0354      3.527     -0.010      0.992      -6.949       6.878\n",
      "AgeGroup[T.45-54]          0.0607      3.616      0.017      0.987      -7.026       7.148\n",
      "AgeGroup[T.55-64]         -0.1577      3.618     -0.044      0.965      -7.249       6.933\n",
      "AgeGroup[T.65-74]         -0.0917      3.583     -0.026      0.980      -7.115       6.932\n",
      "AgeGroup[T.75-84]          0.7797      3.561      0.219      0.827      -6.200       7.760\n",
      "AgeGroup[T.85+]            1.3550      3.556      0.381      0.703      -5.616       8.326\n",
      "AgeGroup[T.All Ages]       0.8757      3.391      0.258      0.796      -5.770       7.522\n",
      "AgeGroup[T.Not stated]     0.0840      3.194      0.026      0.979      -6.177       6.345\n",
      "IschemicHeartDisease       0.9786      3.914      0.250      0.803      -6.692       8.649\n",
      "NumberOfMentions           0.9294      0.000   3159.378      0.000       0.929       0.930\n",
      "==============================================================================\n",
      "Omnibus:                   912643.301   Durbin-Watson:                   1.368\n",
      "Prob(Omnibus):                  0.000   Jarque-Bera (JB):   12750225702400.873\n",
      "Skew:                        -138.935   Prob(JB):                         0.00\n",
      "Kurtosis:                   38416.640   Cond. No.                     2.67e+04\n",
      "==============================================================================\n",
      "\n",
      "Notes:\n",
      "[1] Standard Errors assume that the covariance matrix of the errors is correctly specified.\n",
      "[2] The condition number is large, 2.67e+04. This might indicate that there are\n",
      "strong multicollinearity or other numerical problems.\n"
     ]
    }
   ],
   "metadata": {}
  },
  {
   "cell_type": "code",
   "execution_count": 203,
   "source": [
    "df_MalignantNeoplasms=df_comorbidity[['Cov19Deaths','MalignantNeoplasms','NumberOfMentions','AgeGroup']].dropna()"
   ],
   "outputs": [],
   "metadata": {}
  },
  {
   "cell_type": "code",
   "execution_count": 204,
   "source": [
    "y, X = dmatrices('Cov19Deaths ~ MalignantNeoplasms + NumberOfMentions + AgeGroup',data=df_MalignantNeoplasms, return_type='dataframe')  "
   ],
   "outputs": [],
   "metadata": {}
  },
  {
   "cell_type": "code",
   "execution_count": 205,
   "source": [
    "mod = sm.OLS(y, X)\r\n",
    "res = mod.fit()\r\n",
    "print(res.summary())\r\n"
   ],
   "outputs": [
    {
     "output_type": "stream",
     "name": "stdout",
     "text": [
      "                            OLS Regression Results                            \n",
      "==============================================================================\n",
      "Dep. Variable:            Cov19Deaths   R-squared:                       0.980\n",
      "Model:                            OLS   Adj. R-squared:                  0.980\n",
      "Method:                 Least Squares   F-statistic:                 9.126e+05\n",
      "Date:                Wed, 15 Sep 2021   Prob (F-statistic):               0.00\n",
      "Time:                        20:34:06   Log-Likelihood:            -1.5185e+06\n",
      "No. Observations:              207365   AIC:                         3.037e+06\n",
      "Df Residuals:                  207353   BIC:                         3.037e+06\n",
      "Df Model:                          11                                         \n",
      "Covariance Type:            nonrobust                                         \n",
      "==========================================================================================\n",
      "                             coef    std err          t      P>|t|      [0.025      0.975]\n",
      "------------------------------------------------------------------------------------------\n",
      "Intercept                  0.0332      2.348      0.014      0.989      -4.569       4.635\n",
      "AgeGroup[T.25-34]         -0.0225      3.418     -0.007      0.995      -6.722       6.677\n",
      "AgeGroup[T.35-44]         -0.0331      3.527     -0.009      0.993      -6.947       6.880\n",
      "AgeGroup[T.45-54]          0.0422      3.616      0.012      0.991      -7.044       7.129\n",
      "AgeGroup[T.55-64]         -0.1873      3.618     -0.052      0.959      -7.278       6.904\n",
      "AgeGroup[T.65-74]         -0.1176      3.583     -0.033      0.974      -7.141       6.906\n",
      "AgeGroup[T.75-84]          0.7576      3.561      0.213      0.832      -6.222       7.738\n",
      "AgeGroup[T.85+]            1.3266      3.557      0.373      0.709      -5.644       8.297\n",
      "AgeGroup[T.All Ages]       0.8601      3.391      0.254      0.800      -5.786       7.506\n",
      "AgeGroup[T.Not stated]     0.0737      3.194      0.023      0.982      -6.187       6.334\n",
      "MalignantNeoplasms        -2.4519      4.003     -0.612      0.540     -10.298       5.394\n",
      "NumberOfMentions           0.9294      0.000   3159.322      0.000       0.929       0.930\n",
      "==============================================================================\n",
      "Omnibus:                   912639.566   Durbin-Watson:                   1.368\n",
      "Prob(Omnibus):                  0.000   Jarque-Bera (JB):   12749971439777.016\n",
      "Skew:                        -138.933   Prob(JB):                         0.00\n",
      "Kurtosis:                   38416.257   Cond. No.                     2.67e+04\n",
      "==============================================================================\n",
      "\n",
      "Notes:\n",
      "[1] Standard Errors assume that the covariance matrix of the errors is correctly specified.\n",
      "[2] The condition number is large, 2.67e+04. This might indicate that there are\n",
      "strong multicollinearity or other numerical problems.\n"
     ]
    }
   ],
   "metadata": {}
  },
  {
   "cell_type": "code",
   "execution_count": 206,
   "source": [
    "df_Obesity=df_comorbidity[['Cov19Deaths','Obesity','NumberOfMentions','AgeGroup']].dropna()"
   ],
   "outputs": [],
   "metadata": {}
  },
  {
   "cell_type": "code",
   "execution_count": 207,
   "source": [
    "y, X = dmatrices('Cov19Deaths ~ Obesity + NumberOfMentions + AgeGroup',data=df_Obesity, return_type='dataframe')\r\n"
   ],
   "outputs": [],
   "metadata": {}
  },
  {
   "cell_type": "code",
   "execution_count": 208,
   "source": [
    "mod = sm.OLS(y, X)\r\n",
    "res = mod.fit()\r\n",
    "print(res.summary())\r\n"
   ],
   "outputs": [
    {
     "output_type": "stream",
     "name": "stdout",
     "text": [
      "                            OLS Regression Results                            \n",
      "==============================================================================\n",
      "Dep. Variable:            Cov19Deaths   R-squared:                       0.980\n",
      "Model:                            OLS   Adj. R-squared:                  0.980\n",
      "Method:                 Least Squares   F-statistic:                 9.126e+05\n",
      "Date:                Wed, 15 Sep 2021   Prob (F-statistic):               0.00\n",
      "Time:                        20:34:14   Log-Likelihood:            -1.5185e+06\n",
      "No. Observations:              207365   AIC:                         3.037e+06\n",
      "Df Residuals:                  207353   BIC:                         3.037e+06\n",
      "Df Model:                          11                                         \n",
      "Covariance Type:            nonrobust                                         \n",
      "==========================================================================================\n",
      "                             coef    std err          t      P>|t|      [0.025      0.975]\n",
      "------------------------------------------------------------------------------------------\n",
      "Intercept                 -0.1781      2.347     -0.076      0.939      -4.778       4.421\n",
      "AgeGroup[T.25-34]         -0.0208      3.418     -0.006      0.995      -6.720       6.679\n",
      "AgeGroup[T.35-44]         -0.0249      3.527     -0.007      0.994      -6.938       6.889\n",
      "AgeGroup[T.45-54]          0.0595      3.616      0.016      0.987      -7.027       7.146\n",
      "AgeGroup[T.55-64]         -0.1609      3.618     -0.044      0.965      -7.252       6.930\n",
      "AgeGroup[T.65-74]         -0.0927      3.583     -0.026      0.979      -7.116       6.930\n",
      "AgeGroup[T.75-84]          0.7808      3.561      0.219      0.826      -6.199       7.761\n",
      "AgeGroup[T.85+]            1.3366      3.556      0.376      0.707      -5.634       8.307\n",
      "AgeGroup[T.All Ages]       0.8733      3.391      0.258      0.797      -5.773       7.519\n",
      "AgeGroup[T.Not stated]     0.0697      3.194      0.022      0.983      -6.191       6.330\n",
      "Obesity                    2.4838      4.162      0.597      0.551      -5.674      10.642\n",
      "NumberOfMentions           0.9294      0.000   3159.306      0.000       0.929       0.930\n",
      "==============================================================================\n",
      "Omnibus:                   912647.802   Durbin-Watson:                   1.368\n",
      "Prob(Omnibus):                  0.000   Jarque-Bera (JB):   12750587728547.234\n",
      "Skew:                        -138.937   Prob(JB):                         0.00\n",
      "Kurtosis:                   38417.186   Cond. No.                     2.67e+04\n",
      "==============================================================================\n",
      "\n",
      "Notes:\n",
      "[1] Standard Errors assume that the covariance matrix of the errors is correctly specified.\n",
      "[2] The condition number is large, 2.67e+04. This might indicate that there are\n",
      "strong multicollinearity or other numerical problems.\n"
     ]
    }
   ],
   "metadata": {}
  },
  {
   "cell_type": "code",
   "execution_count": 209,
   "source": [
    "df_OtherDiseasesCirculatorySystem=df_comorbidity[['Cov19Deaths','OtherDiseasesCirculatorySystem','NumberOfMentions','AgeGroup']].dropna()"
   ],
   "outputs": [],
   "metadata": {}
  },
  {
   "cell_type": "code",
   "execution_count": 210,
   "source": [
    "y, X = dmatrices('Cov19Deaths ~ OtherDiseasesCirculatorySystem + NumberOfMentions + AgeGroup',data=df_OtherDiseasesCirculatorySystem, return_type='dataframe')"
   ],
   "outputs": [],
   "metadata": {}
  },
  {
   "cell_type": "code",
   "execution_count": 211,
   "source": [
    "mod = sm.OLS(y, X)\r\n",
    "res = mod.fit()\r\n",
    "print(res.summary())\r\n"
   ],
   "outputs": [
    {
     "output_type": "stream",
     "name": "stdout",
     "text": [
      "                            OLS Regression Results                            \n",
      "==============================================================================\n",
      "Dep. Variable:            Cov19Deaths   R-squared:                       0.980\n",
      "Model:                            OLS   Adj. R-squared:                  0.980\n",
      "Method:                 Least Squares   F-statistic:                 9.126e+05\n",
      "Date:                Wed, 15 Sep 2021   Prob (F-statistic):               0.00\n",
      "Time:                        20:34:33   Log-Likelihood:            -1.5185e+06\n",
      "No. Observations:              207365   AIC:                         3.037e+06\n",
      "Df Residuals:                  207353   BIC:                         3.037e+06\n",
      "Df Model:                          11                                         \n",
      "Covariance Type:            nonrobust                                         \n",
      "==================================================================================================\n",
      "                                     coef    std err          t      P>|t|      [0.025      0.975]\n",
      "--------------------------------------------------------------------------------------------------\n",
      "Intercept                         -0.0329      2.347     -0.014      0.989      -4.633       4.567\n",
      "AgeGroup[T.25-34]                 -0.0312      3.418     -0.009      0.993      -6.731       6.668\n",
      "AgeGroup[T.35-44]                 -0.0412      3.527     -0.012      0.991      -6.955       6.872\n",
      "AgeGroup[T.45-54]                  0.0466      3.616      0.013      0.990      -7.040       7.133\n",
      "AgeGroup[T.55-64]                 -0.1730      3.618     -0.048      0.962      -7.264       6.918\n",
      "AgeGroup[T.65-74]                 -0.1021      3.583     -0.028      0.977      -7.125       6.921\n",
      "AgeGroup[T.75-84]                  0.7712      3.561      0.217      0.829      -6.209       7.751\n",
      "AgeGroup[T.85+]                    1.3468      3.556      0.379      0.705      -5.624       8.317\n",
      "AgeGroup[T.All Ages]               0.8721      3.391      0.257      0.797      -5.774       7.518\n",
      "AgeGroup[T.Not stated]             0.0803      3.194      0.025      0.980      -6.180       6.341\n",
      "OtherDiseasesCirculatorySystem    -1.0916      4.088     -0.267      0.789      -9.105       6.921\n",
      "NumberOfMentions                   0.9294      0.000   3159.337      0.000       0.929       0.930\n",
      "==============================================================================\n",
      "Omnibus:                   912641.379   Durbin-Watson:                   1.368\n",
      "Prob(Omnibus):                  0.000   Jarque-Bera (JB):   12750076710977.799\n",
      "Skew:                        -138.934   Prob(JB):                         0.00\n",
      "Kurtosis:                   38416.416   Cond. No.                     2.67e+04\n",
      "==============================================================================\n",
      "\n",
      "Notes:\n",
      "[1] Standard Errors assume that the covariance matrix of the errors is correctly specified.\n",
      "[2] The condition number is large, 2.67e+04. This might indicate that there are\n",
      "strong multicollinearity or other numerical problems.\n"
     ]
    }
   ],
   "metadata": {}
  },
  {
   "cell_type": "code",
   "execution_count": 212,
   "source": [
    "df_OtherdiseasesRespiratorySystem=df_comorbidity[['Cov19Deaths','OtherdiseasesRespiratorySystem','NumberOfMentions','AgeGroup']].dropna()"
   ],
   "outputs": [],
   "metadata": {}
  },
  {
   "cell_type": "code",
   "execution_count": 213,
   "source": [
    "y, X = dmatrices('Cov19Deaths ~ OtherdiseasesRespiratorySystem + NumberOfMentions + AgeGroup',data=df_OtherdiseasesRespiratorySystem, return_type='dataframe')"
   ],
   "outputs": [],
   "metadata": {}
  },
  {
   "cell_type": "code",
   "execution_count": 214,
   "source": [
    "mod = sm.OLS(y, X)\r\n",
    "res = mod.fit()\r\n",
    "print(res.summary())\r\n"
   ],
   "outputs": [
    {
     "output_type": "stream",
     "name": "stdout",
     "text": [
      "                            OLS Regression Results                            \n",
      "==============================================================================\n",
      "Dep. Variable:            Cov19Deaths   R-squared:                       0.980\n",
      "Model:                            OLS   Adj. R-squared:                  0.980\n",
      "Method:                 Least Squares   F-statistic:                 9.126e+05\n",
      "Date:                Wed, 15 Sep 2021   Prob (F-statistic):               0.00\n",
      "Time:                        20:34:42   Log-Likelihood:            -1.5185e+06\n",
      "No. Observations:              207365   AIC:                         3.037e+06\n",
      "Df Residuals:                  207353   BIC:                         3.037e+06\n",
      "Df Model:                          11                                         \n",
      "Covariance Type:            nonrobust                                         \n",
      "==================================================================================================\n",
      "                                     coef    std err          t      P>|t|      [0.025      0.975]\n",
      "--------------------------------------------------------------------------------------------------\n",
      "Intercept                         -0.1166      2.348     -0.050      0.960      -4.718       4.485\n",
      "AgeGroup[T.25-34]                 -0.0308      3.418     -0.009      0.993      -6.730       6.669\n",
      "AgeGroup[T.35-44]                 -0.0377      3.527     -0.011      0.991      -6.951       6.876\n",
      "AgeGroup[T.45-54]                  0.0545      3.616      0.015      0.988      -7.032       7.141\n",
      "AgeGroup[T.55-64]                 -0.1601      3.618     -0.044      0.965      -7.251       6.931\n",
      "AgeGroup[T.65-74]                 -0.0925      3.583     -0.026      0.979      -7.116       6.931\n",
      "AgeGroup[T.75-84]                  0.7810      3.561      0.219      0.826      -6.199       7.761\n",
      "AgeGroup[T.85+]                    1.3562      3.557      0.381      0.703      -5.615       8.327\n",
      "AgeGroup[T.All Ages]               0.8750      3.391      0.258      0.796      -5.771       7.521\n",
      "AgeGroup[T.Not stated]             0.0793      3.194      0.025      0.980      -6.181       6.340\n",
      "OtherdiseasesRespiratorySystem     0.8504      4.075      0.209      0.835      -7.137       8.838\n",
      "NumberOfMentions                   0.9294      0.000   3159.315      0.000       0.929       0.930\n",
      "==============================================================================\n",
      "Omnibus:                   912644.128   Durbin-Watson:                   1.368\n",
      "Prob(Omnibus):                  0.000   Jarque-Bera (JB):   12750281819237.527\n",
      "Skew:                        -138.936   Prob(JB):                         0.00\n",
      "Kurtosis:                   38416.725   Cond. No.                     2.67e+04\n",
      "==============================================================================\n",
      "\n",
      "Notes:\n",
      "[1] Standard Errors assume that the covariance matrix of the errors is correctly specified.\n",
      "[2] The condition number is large, 2.67e+04. This might indicate that there are\n",
      "strong multicollinearity or other numerical problems.\n"
     ]
    }
   ],
   "metadata": {}
  },
  {
   "cell_type": "code",
   "execution_count": 215,
   "source": [
    "df_RenalFailure=df_comorbidity[['Cov19Deaths','RenalFailure','NumberOfMentions','AgeGroup']].dropna()"
   ],
   "outputs": [],
   "metadata": {}
  },
  {
   "cell_type": "code",
   "execution_count": 216,
   "source": [
    "y, X = dmatrices('Cov19Deaths ~ RenalFailure + NumberOfMentions + AgeGroup',data=df_RenalFailure, return_type='dataframe')\r\n"
   ],
   "outputs": [],
   "metadata": {}
  },
  {
   "cell_type": "code",
   "execution_count": 217,
   "source": [
    "mod = sm.OLS(y, X)\r\n",
    "res = mod.fit()\r\n",
    "print(res.summary())\r\n"
   ],
   "outputs": [
    {
     "output_type": "stream",
     "name": "stdout",
     "text": [
      "                            OLS Regression Results                            \n",
      "==============================================================================\n",
      "Dep. Variable:            Cov19Deaths   R-squared:                       0.980\n",
      "Model:                            OLS   Adj. R-squared:                  0.980\n",
      "Method:                 Least Squares   F-statistic:                 9.126e+05\n",
      "Date:                Wed, 15 Sep 2021   Prob (F-statistic):               0.00\n",
      "Time:                        20:34:50   Log-Likelihood:            -1.5185e+06\n",
      "No. Observations:              207365   AIC:                         3.037e+06\n",
      "Df Residuals:                  207353   BIC:                         3.037e+06\n",
      "Df Model:                          11                                         \n",
      "Covariance Type:            nonrobust                                         \n",
      "==========================================================================================\n",
      "                             coef    std err          t      P>|t|      [0.025      0.975]\n",
      "------------------------------------------------------------------------------------------\n",
      "Intercept                 -0.1924      2.348     -0.082      0.935      -4.794       4.409\n",
      "AgeGroup[T.25-34]         -0.0244      3.418     -0.007      0.994      -6.724       6.675\n",
      "AgeGroup[T.35-44]         -0.0248      3.527     -0.007      0.994      -6.938       6.889\n",
      "AgeGroup[T.45-54]          0.0699      3.616      0.019      0.985      -7.017       7.157\n",
      "AgeGroup[T.55-64]         -0.1545      3.618     -0.043      0.966      -7.245       6.936\n",
      "AgeGroup[T.65-74]         -0.0930      3.583     -0.026      0.979      -7.116       6.930\n",
      "AgeGroup[T.75-84]          0.7790      3.561      0.219      0.827      -6.201       7.759\n",
      "AgeGroup[T.85+]            1.3605      3.556      0.383      0.702      -5.610       8.331\n",
      "AgeGroup[T.All Ages]       0.8705      3.391      0.257      0.797      -5.776       7.517\n",
      "AgeGroup[T.Not stated]     0.0821      3.194      0.026      0.980      -6.179       6.343\n",
      "RenalFailure               2.5319      4.009      0.632      0.528      -5.326      10.390\n",
      "NumberOfMentions           0.9294      0.000   3159.374      0.000       0.929       0.930\n",
      "==============================================================================\n",
      "Omnibus:                   912645.273   Durbin-Watson:                   1.368\n",
      "Prob(Omnibus):                  0.000   Jarque-Bera (JB):   12750410805611.943\n",
      "Skew:                        -138.936   Prob(JB):                         0.00\n",
      "Kurtosis:                   38416.919   Cond. No.                     2.67e+04\n",
      "==============================================================================\n",
      "\n",
      "Notes:\n",
      "[1] Standard Errors assume that the covariance matrix of the errors is correctly specified.\n",
      "[2] The condition number is large, 2.67e+04. This might indicate that there are\n",
      "strong multicollinearity or other numerical problems.\n"
     ]
    }
   ],
   "metadata": {}
  },
  {
   "cell_type": "code",
   "execution_count": 218,
   "source": [
    "df_RespiratoryArrest=df_comorbidity[['Cov19Deaths','RespiratoryArrest','NumberOfMentions','AgeGroup']].dropna()"
   ],
   "outputs": [],
   "metadata": {}
  },
  {
   "cell_type": "code",
   "execution_count": 219,
   "source": [
    "y, X = dmatrices('Cov19Deaths ~ RespiratoryArrest + NumberOfMentions + AgeGroup',data=df_RespiratoryArrest, return_type='dataframe')"
   ],
   "outputs": [],
   "metadata": {}
  },
  {
   "cell_type": "code",
   "execution_count": 220,
   "source": [
    "mod = sm.OLS(y, X)\r\n",
    "res = mod.fit()\r\n",
    "print(res.summary())\r\n"
   ],
   "outputs": [
    {
     "output_type": "stream",
     "name": "stdout",
     "text": [
      "                            OLS Regression Results                            \n",
      "==============================================================================\n",
      "Dep. Variable:            Cov19Deaths   R-squared:                       0.980\n",
      "Model:                            OLS   Adj. R-squared:                  0.980\n",
      "Method:                 Least Squares   F-statistic:                 9.126e+05\n",
      "Date:                Wed, 15 Sep 2021   Prob (F-statistic):               0.00\n",
      "Time:                        20:34:55   Log-Likelihood:            -1.5185e+06\n",
      "No. Observations:              207365   AIC:                         3.037e+06\n",
      "Df Residuals:                  207353   BIC:                         3.037e+06\n",
      "Df Model:                          11                                         \n",
      "Covariance Type:            nonrobust                                         \n",
      "==========================================================================================\n",
      "                             coef    std err          t      P>|t|      [0.025      0.975]\n",
      "------------------------------------------------------------------------------------------\n",
      "Intercept                 -0.1287      2.348     -0.055      0.956      -4.731       4.474\n",
      "AgeGroup[T.25-34]         -0.0330      3.418     -0.010      0.992      -6.733       6.667\n",
      "AgeGroup[T.35-44]         -0.0432      3.527     -0.012      0.990      -6.957       6.870\n",
      "AgeGroup[T.45-54]          0.0491      3.616      0.014      0.989      -7.037       7.136\n",
      "AgeGroup[T.55-64]         -0.1641      3.618     -0.045      0.964      -7.255       6.927\n",
      "AgeGroup[T.65-74]         -0.0908      3.583     -0.025      0.980      -7.114       6.933\n",
      "AgeGroup[T.75-84]          0.7818      3.561      0.220      0.826      -6.198       7.762\n",
      "AgeGroup[T.85+]            1.3561      3.556      0.381      0.703      -5.615       8.327\n",
      "AgeGroup[T.All Ages]       0.8857      3.391      0.261      0.794      -5.761       7.533\n",
      "AgeGroup[T.Not stated]     0.0831      3.194      0.026      0.979      -6.178       6.344\n",
      "RespiratoryArrest          1.0384      3.903      0.266      0.790      -6.611       8.688\n",
      "NumberOfMentions           0.9294      0.000   3159.287      0.000       0.929       0.930\n",
      "==============================================================================\n",
      "Omnibus:                   912645.045   Durbin-Watson:                   1.368\n",
      "Prob(Omnibus):                  0.000   Jarque-Bera (JB):   12750352503706.973\n",
      "Skew:                        -138.936   Prob(JB):                         0.00\n",
      "Kurtosis:                   38416.831   Cond. No.                     2.67e+04\n",
      "==============================================================================\n",
      "\n",
      "Notes:\n",
      "[1] Standard Errors assume that the covariance matrix of the errors is correctly specified.\n",
      "[2] The condition number is large, 2.67e+04. This might indicate that there are\n",
      "strong multicollinearity or other numerical problems.\n"
     ]
    }
   ],
   "metadata": {}
  },
  {
   "cell_type": "code",
   "execution_count": 221,
   "source": [
    "df_RespiratoryFailure=df_comorbidity[['Cov19Deaths','RespiratoryFailure','NumberOfMentions','AgeGroup']].dropna()\r\n"
   ],
   "outputs": [],
   "metadata": {}
  },
  {
   "cell_type": "code",
   "execution_count": 222,
   "source": [
    "y, X = dmatrices('Cov19Deaths ~ RespiratoryFailure + NumberOfMentions + AgeGroup',data=df_RespiratoryFailure, return_type='dataframe')"
   ],
   "outputs": [],
   "metadata": {}
  },
  {
   "cell_type": "code",
   "execution_count": 223,
   "source": [
    "mod = sm.OLS(y, X)\r\n",
    "res = mod.fit()\r\n",
    "print(res.summary())\r\n"
   ],
   "outputs": [
    {
     "output_type": "stream",
     "name": "stdout",
     "text": [
      "                            OLS Regression Results                            \n",
      "==============================================================================\n",
      "Dep. Variable:            Cov19Deaths   R-squared:                       0.980\n",
      "Model:                            OLS   Adj. R-squared:                  0.980\n",
      "Method:                 Least Squares   F-statistic:                 9.127e+05\n",
      "Date:                Wed, 15 Sep 2021   Prob (F-statistic):               0.00\n",
      "Time:                        20:35:02   Log-Likelihood:            -1.5185e+06\n",
      "No. Observations:              207365   AIC:                         3.037e+06\n",
      "Df Residuals:                  207353   BIC:                         3.037e+06\n",
      "Df Model:                          11                                         \n",
      "Covariance Type:            nonrobust                                         \n",
      "==========================================================================================\n",
      "                             coef    std err          t      P>|t|      [0.025      0.975]\n",
      "------------------------------------------------------------------------------------------\n",
      "Intercept                 -0.6439      2.345     -0.275      0.784      -5.241       3.953\n",
      "AgeGroup[T.25-34]          0.0046      3.418      0.001      0.999      -6.695       6.704\n",
      "AgeGroup[T.35-44]          0.0047      3.527      0.001      0.999      -6.909       6.918\n",
      "AgeGroup[T.45-54]         -0.0186      3.615     -0.005      0.996      -7.105       7.068\n",
      "AgeGroup[T.55-64]         -0.3699      3.618     -0.102      0.919      -7.461       6.721\n",
      "AgeGroup[T.65-74]         -0.3235      3.584     -0.090      0.928      -7.347       6.700\n",
      "AgeGroup[T.75-84]          0.5491      3.562      0.154      0.877      -6.431       7.530\n",
      "AgeGroup[T.85+]            1.1578      3.557      0.326      0.745      -5.813       8.129\n",
      "AgeGroup[T.All Ages]       0.7051      3.391      0.208      0.835      -5.941       7.351\n",
      "AgeGroup[T.Not stated]  -6.03e-05      3.194  -1.89e-05      1.000      -6.261       6.261\n",
      "RespiratoryFailure        14.8686      3.885      3.827      0.000       7.253      22.484\n",
      "NumberOfMentions           0.9294      0.000   3159.245      0.000       0.929       0.930\n",
      "==============================================================================\n",
      "Omnibus:                   912605.030   Durbin-Watson:                   1.368\n",
      "Prob(Omnibus):                  0.000   Jarque-Bera (JB):   12748915254760.600\n",
      "Skew:                        -138.915   Prob(JB):                         0.00\n",
      "Kurtosis:                   38414.667   Cond. No.                     2.67e+04\n",
      "==============================================================================\n",
      "\n",
      "Notes:\n",
      "[1] Standard Errors assume that the covariance matrix of the errors is correctly specified.\n",
      "[2] The condition number is large, 2.67e+04. This might indicate that there are\n",
      "strong multicollinearity or other numerical problems.\n"
     ]
    }
   ],
   "metadata": {}
  },
  {
   "cell_type": "code",
   "execution_count": 224,
   "source": [
    "df_Sepsis=df_comorbidity[['Cov19Deaths','Sepsis','NumberOfMentions','AgeGroup']].dropna()"
   ],
   "outputs": [],
   "metadata": {}
  },
  {
   "cell_type": "code",
   "execution_count": 225,
   "source": [
    "y, X = dmatrices('Cov19Deaths ~ Sepsis + NumberOfMentions + AgeGroup',data=df_Sepsis, return_type='dataframe')"
   ],
   "outputs": [],
   "metadata": {}
  },
  {
   "cell_type": "code",
   "execution_count": 226,
   "source": [
    "mod = sm.OLS(y, X)\r\n",
    "res = mod.fit()\r\n",
    "print(res.summary())\r\n"
   ],
   "outputs": [
    {
     "output_type": "stream",
     "name": "stdout",
     "text": [
      "                            OLS Regression Results                            \n",
      "==============================================================================\n",
      "Dep. Variable:            Cov19Deaths   R-squared:                       0.980\n",
      "Model:                            OLS   Adj. R-squared:                  0.980\n",
      "Method:                 Least Squares   F-statistic:                 9.126e+05\n",
      "Date:                Wed, 15 Sep 2021   Prob (F-statistic):               0.00\n",
      "Time:                        20:35:09   Log-Likelihood:            -1.5185e+06\n",
      "No. Observations:              207365   AIC:                         3.037e+06\n",
      "Df Residuals:                  207353   BIC:                         3.037e+06\n",
      "Df Model:                          11                                         \n",
      "Covariance Type:            nonrobust                                         \n",
      "==========================================================================================\n",
      "                             coef    std err          t      P>|t|      [0.025      0.975]\n",
      "------------------------------------------------------------------------------------------\n",
      "Intercept                 -0.3285      2.347     -0.140      0.889      -4.928       4.272\n",
      "AgeGroup[T.25-34]         -0.0268      3.418     -0.008      0.994      -6.726       6.673\n",
      "AgeGroup[T.35-44]         -0.0153      3.527     -0.004      0.997      -6.929       6.898\n",
      "AgeGroup[T.45-54]          0.0719      3.616      0.020      0.984      -7.015       7.158\n",
      "AgeGroup[T.55-64]         -0.1635      3.618     -0.045      0.964      -7.254       6.927\n",
      "AgeGroup[T.65-74]         -0.1101      3.583     -0.031      0.975      -7.133       6.913\n",
      "AgeGroup[T.75-84]          0.7744      3.561      0.217      0.828      -6.205       7.754\n",
      "AgeGroup[T.85+]            1.3612      3.556      0.383      0.702      -5.609       8.332\n",
      "AgeGroup[T.All Ages]       0.8585      3.391      0.253      0.800      -5.788       7.504\n",
      "AgeGroup[T.Not stated]     0.0726      3.194      0.023      0.982      -6.188       6.333\n",
      "Sepsis                     5.8663      4.009      1.463      0.143      -1.991      13.724\n",
      "NumberOfMentions           0.9294      0.000   3159.382      0.000       0.929       0.930\n",
      "==============================================================================\n",
      "Omnibus:                   912652.416   Durbin-Watson:                   1.368\n",
      "Prob(Omnibus):                  0.000   Jarque-Bera (JB):   12751117489219.014\n",
      "Skew:                        -138.940   Prob(JB):                         0.00\n",
      "Kurtosis:                   38417.984   Cond. No.                     2.67e+04\n",
      "==============================================================================\n",
      "\n",
      "Notes:\n",
      "[1] Standard Errors assume that the covariance matrix of the errors is correctly specified.\n",
      "[2] The condition number is large, 2.67e+04. This might indicate that there are\n",
      "strong multicollinearity or other numerical problems.\n"
     ]
    }
   ],
   "metadata": {}
  },
  {
   "cell_type": "code",
   "execution_count": 227,
   "source": [
    "df_VascularAndUnspecifiedDementia=df_comorbidity[['Cov19Deaths','VascularAndUnspecifiedDementia','NumberOfMentions','AgeGroup']].dropna()"
   ],
   "outputs": [],
   "metadata": {}
  },
  {
   "cell_type": "code",
   "execution_count": 228,
   "source": [
    "y, X = dmatrices('Cov19Deaths ~ VascularAndUnspecifiedDementia + NumberOfMentions + AgeGroup',data=df_VascularAndUnspecifiedDementia, return_type='dataframe')"
   ],
   "outputs": [],
   "metadata": {}
  },
  {
   "cell_type": "code",
   "execution_count": 229,
   "source": [
    "mod = sm.OLS(y, X)\r\n",
    "res = mod.fit()\r\n",
    "print(res.summary())\r\n"
   ],
   "outputs": [
    {
     "output_type": "stream",
     "name": "stdout",
     "text": [
      "                            OLS Regression Results                            \n",
      "==============================================================================\n",
      "Dep. Variable:            Cov19Deaths   R-squared:                       0.980\n",
      "Model:                            OLS   Adj. R-squared:                  0.980\n",
      "Method:                 Least Squares   F-statistic:                 9.126e+05\n",
      "Date:                Wed, 15 Sep 2021   Prob (F-statistic):               0.00\n",
      "Time:                        20:35:16   Log-Likelihood:            -1.5185e+06\n",
      "No. Observations:              207365   AIC:                         3.037e+06\n",
      "Df Residuals:                  207353   BIC:                         3.037e+06\n",
      "Df Model:                          11                                         \n",
      "Covariance Type:            nonrobust                                         \n",
      "==================================================================================================\n",
      "                                     coef    std err          t      P>|t|      [0.025      0.975]\n",
      "--------------------------------------------------------------------------------------------------\n",
      "Intercept                         -0.3202      2.348     -0.136      0.892      -4.923       4.282\n",
      "AgeGroup[T.25-34]                 -0.0619      3.418     -0.018      0.986      -6.762       6.638\n",
      "AgeGroup[T.35-44]                 -0.0987      3.528     -0.028      0.978      -7.013       6.815\n",
      "AgeGroup[T.45-54]                 -0.0119      3.616     -0.003      0.997      -7.099       7.075\n",
      "AgeGroup[T.55-64]                 -0.1550      3.618     -0.043      0.966      -7.246       6.936\n",
      "AgeGroup[T.65-74]                 -0.0486      3.583     -0.014      0.989      -7.072       6.975\n",
      "AgeGroup[T.75-84]                  0.8079      3.561      0.227      0.821      -6.172       7.788\n",
      "AgeGroup[T.85+]                    1.3662      3.556      0.384      0.701      -5.604       8.337\n",
      "AgeGroup[T.All Ages]               0.9080      3.391      0.268      0.789      -5.738       7.554\n",
      "AgeGroup[T.Not stated]             0.1122      3.194      0.035      0.972      -6.149       6.373\n",
      "VascularAndUnspecifiedDementia     4.7676      3.707      1.286      0.198      -2.498      12.033\n",
      "NumberOfMentions                   0.9294      0.000   3159.377      0.000       0.929       0.930\n",
      "==============================================================================\n",
      "Omnibus:                   912651.202   Durbin-Watson:                   1.368\n",
      "Prob(Omnibus):                  0.000   Jarque-Bera (JB):   12750975660914.918\n",
      "Skew:                        -138.939   Prob(JB):                         0.00\n",
      "Kurtosis:                   38417.770   Cond. No.                     2.67e+04\n",
      "==============================================================================\n",
      "\n",
      "Notes:\n",
      "[1] Standard Errors assume that the covariance matrix of the errors is correctly specified.\n",
      "[2] The condition number is large, 2.67e+04. This might indicate that there are\n",
      "strong multicollinearity or other numerical problems.\n"
     ]
    }
   ],
   "metadata": {}
  },
  {
   "cell_type": "markdown",
   "source": [
    "## DADO QUE NO ENCONTRAMOS VARIABILIDAD Y TODAS LAS VARIABLES TIENER SUS MINIMOS CUADRADOS AJUSTADOS EN 98.0% \r\n",
    "### procederemos a incluir todas las comorbillidades en la **MACHINE LEARNING**"
   ],
   "metadata": {}
  },
  {
   "cell_type": "markdown",
   "source": [
    "## COMPARACION DE QUARTILES.\r\n",
    "por el metodo Least Absolute Deviation para los grupos de enfermedades en las cuales se busca el mejor fit, esta es una comparacion que se realiza entre la variable dependiente y la independiente con q=0.5"
   ],
   "metadata": {}
  },
  {
   "cell_type": "code",
   "execution_count": 230,
   "source": [
    "%matplotlib inline\r\n",
    "import matplotlib.pyplot as plt\r\n",
    "import statsmodels.formula.api as smf"
   ],
   "outputs": [],
   "metadata": {}
  },
  {
   "cell_type": "code",
   "execution_count": 231,
   "source": [
    "mod = smf.quantreg('Cov19Deaths ~ IntUnintInjury_PoisoningAdverGroup', df_InjuryPoisonGroup)\r\n",
    "res = mod.fit(q=.5)\r\n",
    "print(res.summary())\r\n"
   ],
   "outputs": [
    {
     "output_type": "stream",
     "name": "stdout",
     "text": [
      "                         QuantReg Regression Results                          \n",
      "==============================================================================\n",
      "Dep. Variable:            Cov19Deaths   Pseudo R-squared:           -2.549e-09\n",
      "Model:                       QuantReg   Bandwidth:                       1.290\n",
      "Method:                 Least Squares   Sparsity:                        2.666\n",
      "Date:                Wed, 15 Sep 2021   No. Observations:               207365\n",
      "Time:                        20:35:21   Df Residuals:                   207363\n",
      "                                        Df Model:                            1\n",
      "======================================================================================================\n",
      "                                         coef    std err          t      P>|t|      [0.025      0.975]\n",
      "------------------------------------------------------------------------------------------------------\n",
      "Intercept                           1.298e-06      0.003      0.000      1.000      -0.006       0.006\n",
      "IntUnintInjury_PoisoningAdverGroup -1.075e-06      0.015  -7.24e-05      1.000      -0.029       0.029\n",
      "======================================================================================================\n"
     ]
    }
   ],
   "metadata": {}
  },
  {
   "cell_type": "code",
   "execution_count": 232,
   "source": [
    "mod = smf.quantreg('Cov19Deaths ~ Alzheimer_DiseaseGroup', df_Alzheimergroup)\r\n",
    "res = mod.fit(q=.5)\r\n",
    "print(res.summary())"
   ],
   "outputs": [
    {
     "output_type": "stream",
     "name": "stdout",
     "text": [
      "                         QuantReg Regression Results                          \n",
      "==============================================================================\n",
      "Dep. Variable:            Cov19Deaths   Pseudo R-squared:           -2.056e-09\n",
      "Model:                       QuantReg   Bandwidth:                       1.290\n",
      "Method:                 Least Squares   Sparsity:                        2.666\n",
      "Date:                Wed, 15 Sep 2021   No. Observations:               207365\n",
      "Time:                        20:35:24   Df Residuals:                   207363\n",
      "                                        Df Model:                            1\n",
      "==========================================================================================\n",
      "                             coef    std err          t      P>|t|      [0.025      0.975]\n",
      "------------------------------------------------------------------------------------------\n",
      "Intercept               1.074e-06      0.003      0.000      1.000      -0.006       0.006\n",
      "Alzheimer_DiseaseGroup  -8.89e-07      0.013  -6.59e-05      1.000      -0.026       0.026\n",
      "==========================================================================================\n"
     ]
    }
   ],
   "metadata": {}
  },
  {
   "cell_type": "code",
   "execution_count": 233,
   "source": [
    "mod = smf.quantreg('Cov19Deaths ~ Circulatory_DiseasesGroup', df_Circ_DiseGroup)\r\n",
    "res = mod.fit(q=.5)\r\n",
    "print(res.summary())\r\n"
   ],
   "outputs": [
    {
     "output_type": "stream",
     "name": "stdout",
     "text": [
      "                         QuantReg Regression Results                          \n",
      "==============================================================================\n",
      "Dep. Variable:            Cov19Deaths   Pseudo R-squared:           -1.533e-09\n",
      "Model:                       QuantReg   Bandwidth:                       1.290\n",
      "Method:                 Least Squares   Sparsity:                        2.666\n",
      "Date:                Wed, 15 Sep 2021   No. Observations:               207365\n",
      "Time:                        20:35:27   Df Residuals:                   207363\n",
      "                                        Df Model:                            1\n",
      "=============================================================================================\n",
      "                                coef    std err          t      P>|t|      [0.025      0.975]\n",
      "---------------------------------------------------------------------------------------------\n",
      "Intercept                  8.467e-07      0.004      0.000      1.000      -0.007       0.007\n",
      "Circulatory_DiseasesGroup  -3.52e-07      0.006  -5.52e-05      1.000      -0.013       0.013\n",
      "=============================================================================================\n"
     ]
    }
   ],
   "metadata": {}
  },
  {
   "cell_type": "code",
   "execution_count": 234,
   "source": [
    "mod = smf.quantreg('Cov19Deaths ~ SarsCOv19Group', df_SarsCOv19Group)\r\n",
    "res = mod.fit(q=.5)\r\n",
    "print(res.summary())\r\n"
   ],
   "outputs": [
    {
     "output_type": "stream",
     "name": "stdout",
     "text": [
      "                         QuantReg Regression Results                          \n",
      "==============================================================================\n",
      "Dep. Variable:            Cov19Deaths   Pseudo R-squared:             0.002104\n",
      "Model:                       QuantReg   Bandwidth:                       1.229\n",
      "Method:                 Least Squares   Sparsity:                        2.600\n",
      "Date:                Wed, 15 Sep 2021   No. Observations:               207365\n",
      "Time:                        20:35:30   Df Residuals:                   207363\n",
      "                                        Df Model:                            1\n",
      "==================================================================================\n",
      "                     coef    std err          t      P>|t|      [0.025      0.975]\n",
      "----------------------------------------------------------------------------------\n",
      "Intercept       5.141e-07      0.003      0.000      1.000      -0.006       0.006\n",
      "SarsCOv19Group    31.0000      0.013   2303.665      0.000      30.974      31.026\n",
      "==================================================================================\n"
     ]
    }
   ],
   "metadata": {}
  },
  {
   "cell_type": "code",
   "execution_count": 235,
   "source": [
    "mod = smf.quantreg('Cov19Deaths ~ DiabetesGroup', df_DiabetesGroup)\r\n",
    "res = mod.fit(q=.5)\r\n",
    "print(res.summary())\r\n"
   ],
   "outputs": [
    {
     "output_type": "stream",
     "name": "stdout",
     "text": [
      "                         QuantReg Regression Results                          \n",
      "==============================================================================\n",
      "Dep. Variable:            Cov19Deaths   Pseudo R-squared:           -1.244e-09\n",
      "Model:                       QuantReg   Bandwidth:                       1.290\n",
      "Method:                 Least Squares   Sparsity:                        2.666\n",
      "Date:                Wed, 15 Sep 2021   No. Observations:               207365\n",
      "Time:                        20:35:34   Df Residuals:                   207363\n",
      "                                        Df Model:                            1\n",
      "=================================================================================\n",
      "                    coef    std err          t      P>|t|      [0.025      0.975]\n",
      "---------------------------------------------------------------------------------\n",
      "Intercept      5.428e-07      0.003      0.000      1.000      -0.006       0.006\n",
      "DiabetesGroup  2.133e-06      0.014      0.000      1.000      -0.028       0.028\n",
      "=================================================================================\n"
     ]
    }
   ],
   "metadata": {}
  },
  {
   "cell_type": "code",
   "execution_count": 236,
   "source": [
    "mod = smf.quantreg('Cov19Deaths ~ Malignant_NeoplasmsGroup', df_Malignant_NeoplasmsGroup)\r\n",
    "res = mod.fit(q=.5)\r\n",
    "print(res.summary())\r\n"
   ],
   "outputs": [
    {
     "output_type": "stream",
     "name": "stdout",
     "text": [
      "                         QuantReg Regression Results                          \n",
      "==============================================================================\n",
      "Dep. Variable:            Cov19Deaths   Pseudo R-squared:           -1.750e-09\n",
      "Model:                       QuantReg   Bandwidth:                       1.290\n",
      "Method:                 Least Squares   Sparsity:                        2.666\n",
      "Date:                Wed, 15 Sep 2021   No. Observations:               207365\n",
      "Time:                        20:35:36   Df Residuals:                   207363\n",
      "                                        Df Model:                            1\n",
      "============================================================================================\n",
      "                               coef    std err          t      P>|t|      [0.025      0.975]\n",
      "--------------------------------------------------------------------------------------------\n",
      "Intercept                 8.566e-07      0.003      0.000      1.000      -0.006       0.006\n",
      "Malignant_NeoplasmsGroup -4.742e-07      0.015  -3.26e-05      1.000      -0.029       0.029\n",
      "============================================================================================\n"
     ]
    }
   ],
   "metadata": {}
  },
  {
   "cell_type": "code",
   "execution_count": 237,
   "source": [
    "mod = smf.quantreg('Cov19Deaths ~ ObesityGroup', df_ObesityGroup)\r\n",
    "res = mod.fit(q=.5)\r\n",
    "print(res.summary())\r\n"
   ],
   "outputs": [
    {
     "output_type": "stream",
     "name": "stdout",
     "text": [
      "                         QuantReg Regression Results                          \n",
      "==============================================================================\n",
      "Dep. Variable:            Cov19Deaths   Pseudo R-squared:           -1.456e-09\n",
      "Model:                       QuantReg   Bandwidth:                       1.290\n",
      "Method:                 Least Squares   Sparsity:                        2.666\n",
      "Date:                Wed, 15 Sep 2021   No. Observations:               207365\n",
      "Time:                        20:35:38   Df Residuals:                   207363\n",
      "                                        Df Model:                            1\n",
      "================================================================================\n",
      "                   coef    std err          t      P>|t|      [0.025      0.975]\n",
      "--------------------------------------------------------------------------------\n",
      "Intercept     7.058e-07      0.003      0.000      1.000      -0.006       0.006\n",
      "ObesityGroup -3.201e-07      0.015  -2.12e-05      1.000      -0.030       0.030\n",
      "================================================================================\n"
     ]
    }
   ],
   "metadata": {}
  },
  {
   "cell_type": "code",
   "execution_count": 238,
   "source": [
    "mod = smf.quantreg('Cov19Deaths ~ Renal_FailureGroup', df_Renal_FailureGroup)\r\n",
    "res = mod.fit(q=.5)\r\n",
    "print(res.summary())\r\n"
   ],
   "outputs": [
    {
     "output_type": "stream",
     "name": "stdout",
     "text": [
      "                         QuantReg Regression Results                          \n",
      "==============================================================================\n",
      "Dep. Variable:            Cov19Deaths   Pseudo R-squared:           -1.207e-09\n",
      "Model:                       QuantReg   Bandwidth:                       1.290\n",
      "Method:                 Least Squares   Sparsity:                        2.666\n",
      "Date:                Wed, 15 Sep 2021   No. Observations:               207365\n",
      "Time:                        20:35:41   Df Residuals:                   207363\n",
      "                                        Df Model:                            1\n",
      "======================================================================================\n",
      "                         coef    std err          t      P>|t|      [0.025      0.975]\n",
      "--------------------------------------------------------------------------------------\n",
      "Intercept           5.488e-07      0.003      0.000      1.000      -0.006       0.006\n",
      "Renal_FailureGroup  5.617e-07      0.015   3.85e-05      1.000      -0.029       0.029\n",
      "======================================================================================\n"
     ]
    }
   ],
   "metadata": {}
  },
  {
   "cell_type": "markdown",
   "source": [
    "## ESTUDIO DE DESVIACIONES\r\n",
    "\r\n",
    "como nos lo muestra el reporte los quartiles R-squared tambien presentan la misma homogeneidad que los grupos y las comorbilidades especificas, por loque tenemos un sistema con unas desviaciones estandar std err supreemamente pequeñas que van en una intercepcion de 0.03 y del grupo de 0.021 por lo que comprobamos que contamos con un sistema optimo."
   ],
   "metadata": {}
  },
  {
   "cell_type": "code",
   "execution_count": 239,
   "source": [
    "import numpy as np\r\n",
    "quantiles = np.arange(.05, .96, .1)\r\n",
    "def fit_model(q):\r\n",
    "    res = mod.fit(q=q)\r\n",
    "    return [q, res.params['Intercept'], res.params['Renal_FailureGroup']] + \\\r\n",
    "            res.conf_int().loc['Renal_FailureGroup'].tolist()\r\n",
    "\r\n",
    "models = [fit_model(x) for x in quantiles]\r\n",
    "models = pd.DataFrame(models, columns=['q', 'a', 'b', 'lb', 'ub'])\r\n",
    "\r\n",
    "ols = smf.ols('Cov19Deaths ~ Renal_FailureGroup', df_Renal_FailureGroup).fit()\r\n",
    "ols_ci = ols.conf_int().loc['Renal_FailureGroup'].tolist()\r\n",
    "ols = dict(a = ols.params['Intercept'],\r\n",
    "           b = ols.params['Renal_FailureGroup'],\r\n",
    "           lb = ols_ci[0],\r\n",
    "           ub = ols_ci[1])\r\n",
    "\r\n",
    "print(models)\r\n",
    "print(ols)"
   ],
   "outputs": [
    {
     "output_type": "stream",
     "name": "stdout",
     "text": [
      "      q             a             b         lb         ub\n",
      "0  0.05  2.888684e-08  2.478388e-09  -0.036419   0.036419\n",
      "1  0.15  9.685587e-08  8.309889e-09  -0.031713   0.031713\n",
      "2  0.25  1.829500e-07  1.569645e-08  -0.030491   0.030491\n",
      "3  0.35  2.955346e-07  2.535582e-08  -0.029950   0.029950\n",
      "4  0.45  4.490590e-07  4.949587e-07  -0.029208   0.029209\n",
      "5  0.55  6.708165e-07  1.625204e-06  -0.027768   0.027772\n",
      "6  0.65  9.999995e+00  1.000004e+00   0.066850   1.933158\n",
      "7  0.75  2.100000e+01  3.872013e-06  -1.763971   1.763978\n",
      "8  0.85  5.600000e+01 -4.000000e+00  -9.758908   1.758908\n",
      "9  0.95  2.990000e+02 -5.900000e+01 -93.454561 -24.545439\n",
      "{'a': 138.85534132099093, 'b': -52.11711782525003, 'lb': -107.34844116786786, 'ub': 3.1142055173678074}\n"
     ]
    }
   ],
   "metadata": {}
  },
  {
   "cell_type": "markdown",
   "source": [
    "## IMPRESION DE LOS CUANTILES\r\n",
    "como podemos observar en la lista de los quantiles desde 0.05 hasta 0.95, la variable dependiente y la independiente si son realmente muy colineales y en los diccionarios de resumen, podemos verificar el mismo comportamiento, por lo que contamos con un sistema bastante optimo."
   ],
   "metadata": {}
  },
  {
   "cell_type": "code",
   "execution_count": 240,
   "source": [
    "mod = smf.quantreg('Cov19Deaths ~ Respiratory_DiseasesGroup', df_Respiratory_DiseasesGroup)\r\n",
    "res = mod.fit(q=.5)\r\n",
    "print(res.summary())\r\n"
   ],
   "outputs": [
    {
     "output_type": "stream",
     "name": "stdout",
     "text": [
      "                         QuantReg Regression Results                          \n",
      "==============================================================================\n",
      "Dep. Variable:            Cov19Deaths   Pseudo R-squared:           -1.588e-09\n",
      "Model:                       QuantReg   Bandwidth:                       1.290\n",
      "Method:                 Least Squares   Sparsity:                        2.666\n",
      "Date:                Wed, 15 Sep 2021   No. Observations:               207365\n",
      "Time:                        20:36:14   Df Residuals:                   207363\n",
      "                                        Df Model:                            1\n",
      "=============================================================================================\n",
      "                                coef    std err          t      P>|t|      [0.025      0.975]\n",
      "---------------------------------------------------------------------------------------------\n",
      "Intercept                  5.288e-07      0.003      0.000      1.000      -0.007       0.007\n",
      "Respiratory_DiseasesGroup  1.038e-06      0.007      0.000      1.000      -0.013       0.013\n",
      "=============================================================================================\n"
     ]
    }
   ],
   "metadata": {}
  },
  {
   "cell_type": "code",
   "execution_count": 241,
   "source": [
    "mod = smf.quantreg('Cov19Deaths ~ SepsisGroup', df_SepsisGroup)\r\n",
    "res = mod.fit(q=.5)\r\n",
    "print(res.summary())\r\n"
   ],
   "outputs": [
    {
     "output_type": "stream",
     "name": "stdout",
     "text": [
      "                         QuantReg Regression Results                          \n",
      "==============================================================================\n",
      "Dep. Variable:            Cov19Deaths   Pseudo R-squared:           -1.234e-09\n",
      "Model:                       QuantReg   Bandwidth:                       1.290\n",
      "Method:                 Least Squares   Sparsity:                        2.666\n",
      "Date:                Wed, 15 Sep 2021   No. Observations:               207365\n",
      "Time:                        20:36:16   Df Residuals:                   207363\n",
      "                                        Df Model:                            1\n",
      "===============================================================================\n",
      "                  coef    std err          t      P>|t|      [0.025      0.975]\n",
      "-------------------------------------------------------------------------------\n",
      "Intercept    5.498e-07      0.003      0.000      1.000      -0.006       0.006\n",
      "SepsisGroup    8.2e-07      0.015   5.62e-05      1.000      -0.029       0.029\n",
      "===============================================================================\n"
     ]
    }
   ],
   "metadata": {}
  },
  {
   "cell_type": "code",
   "execution_count": 242,
   "source": [
    "import numpy as np"
   ],
   "outputs": [],
   "metadata": {}
  },
  {
   "cell_type": "code",
   "execution_count": 243,
   "source": [
    "quantiles = np.arange(.05, .96, .1)\r\n",
    "def fit_model(q):\r\n",
    "    res = mod.fit(q=q)\r\n",
    "    return [q, res.params['Intercept'], res.params['SepsisGroup']] + \\\r\n",
    "            res.conf_int().loc['SepsisGroup'].tolist()\r\n",
    "\r\n",
    "models = [fit_model(x) for x in quantiles]\r\n",
    "models = pd.DataFrame(models, columns=['q', 'a', 'b', 'lb', 'ub'])\r\n",
    "\r\n",
    "ols = smf.ols('Cov19Deaths ~ SepsisGroup', df_SepsisGroup).fit()\r\n",
    "ols_ci = ols.conf_int().loc['SepsisGroup'].tolist()\r\n",
    "ols = dict(a = ols.params['Intercept'],\r\n",
    "           b = ols.params['SepsisGroup'],\r\n",
    "           lb = ols_ci[0],\r\n",
    "           ub = ols_ci[1])\r\n",
    "\r\n",
    "print(models)\r\n",
    "print(ols)"
   ],
   "outputs": [
    {
     "output_type": "stream",
     "name": "stdout",
     "text": [
      "      q             a             b          lb         ub\n",
      "0  0.05  2.893667e-08  1.241551e-09   -0.036664   0.036664\n",
      "1  0.15  9.702296e-08  4.162847e-09   -0.031917   0.031917\n",
      "2  0.25  1.832656e-07  7.863153e-09   -0.030663   0.030663\n",
      "3  0.35  2.960444e-07  1.270202e-08   -0.030072   0.030072\n",
      "4  0.45  4.498337e-07  2.173491e-07   -0.029254   0.029254\n",
      "5  0.55  1.229173e-06  2.104623e-06   -0.027717   0.027721\n",
      "6  0.65  9.999998e+00  2.446746e-06   -0.935334   0.935339\n",
      "7  0.75  2.100000e+01 -5.058902e-05   -1.764661   1.764560\n",
      "8  0.85  5.699996e+01 -6.999957e+00  -12.391146  -1.608767\n",
      "9  0.95  3.000000e+02 -7.500000e+01 -105.615841 -44.384156\n",
      "{'a': 139.03020554876238, 'b': -56.26662544336834, 'lb': -111.49484747643491, 'ub': -1.0384034103017683}\n"
     ]
    }
   ],
   "metadata": {}
  },
  {
   "cell_type": "code",
   "execution_count": 244,
   "source": [
    "x = np.arange(df_SepsisGroup.SepsisGroup.min(), df_SepsisGroup.SepsisGroup.max(), 50)\r\n",
    "get_y = lambda a, b: a + b * x\r\n",
    "\r\n",
    "fig, ax = plt.subplots(figsize=(8, 6))\r\n",
    "\r\n",
    "for i in range(models.shape[0]):\r\n",
    "    y = get_y(models.a[i], models.b[i])\r\n",
    "    ax.plot(x, y, linestyle='dotted', color='grey')\r\n",
    "\r\n",
    "y = get_y(ols['a'], ols['b'])\r\n",
    "\r\n",
    "ax.plot(x, y, color='red', label='OLS')\r\n",
    "ax.scatter(df_SepsisGroup.SepsisGroup, df_SepsisGroup.Cov19Deaths, alpha=.2)\r\n",
    "ax.set_xlim((1,-1))\r\n",
    "ax.set_ylim((0,1000))\r\n",
    "legend = ax.legend()\r\n",
    "ax.set_xlabel('SepsisGroup', fontsize=16)\r\n",
    "ax.set_ylabel('Cov19Deaths', fontsize=16);"
   ],
   "outputs": [
    {
     "output_type": "display_data",
     "data": {
      "image/png": "[encoded data removed]",
      "text/plain": [
       "<Figure size 576x432 with 1 Axes>"
      ]
     },
     "metadata": {
      "needs_background": "light"
     }
    }
   ],
   "metadata": {}
  },
  {
   "cell_type": "markdown",
   "source": [
    "DOCUMENTACION:\r\n",
    "https://www.statsmodels.org/stable/index.html\r\n",
    "https://www.statsmodels.org/stable/examples/index.html#linear-regression-models\r\n",
    "https://www.statsmodels.org/stable/generated/statsmodels.graphics.regressionplots.plot_partregress.html"
   ],
   "metadata": {}
  },
  {
   "cell_type": "markdown",
   "source": [
    "#Exportar a Excel\r\n",
    "import openpyxl\r\n",
    "with pd.ExcelWriter(\"ListasDatos13.xlsx\") as exportar:\r\n",
    "    df_encabezados.to_excel(exportar,sheet_name=\"comorbidity\",header=True)\r\n",
    "#exportar.save()"
   ],
   "metadata": {}
  },
  {
   "cell_type": "code",
   "execution_count": 245,
   "source": [
    "#Exportar a Excel\r\n",
    "#import openpyxl\r\n",
    "#with pd.ExcelWriter(\"ListasDatos10.xlsx\") as exportar:\r\n",
    "#    df_comorbidity['ICD10_codes'].to_excel(exportar,sheet_name=\"CodigosEnfermedad\",header=True)\r\n",
    "#exportar.save()\r\n",
    "#Age Group"
   ],
   "outputs": [],
   "metadata": {}
  },
  {
   "cell_type": "code",
   "execution_count": 246,
   "source": [
    "#Exportar a Excel\r\n",
    "#import openpyxl\r\n",
    "#with pd.ExcelWriter(\"ListasDatos8.xlsx\") as exportar:\r\n",
    "#    df_comorbidity['Group'].to_excel(exportar,sheet_name=\"groupon\",header=True)\r\n",
    "#exportar.save()    "
   ],
   "outputs": [],
   "metadata": {}
  },
  {
   "cell_type": "code",
   "execution_count": 247,
   "source": [
    "#Exportar a Excel\r\n",
    "#import openpyxl\r\n",
    "#with pd.ExcelWriter(\"ListasDatos6.xlsx\") as exportar:\r\n",
    "#    df_comorbidity['State'].to_excel(exportar,sheet_name=\"list_state\",header=True)\r\n",
    "    #df_list_group.to_excel(exportar,sheet_name=\"list_group\",header=True)\r\n",
    "    #df_list_comorbidity_conditional_group.to_excel(exportar,sheet_name=\"list_comorbidity_conditional_group\",header=True)\r\n",
    "    #df_list_comorbidity_condition_person.to_excel(exportar,sheet_name=\"list_comorbidity_condition_person\",header=True)\r\n",
    "    #df_list_ICD10_codes.to_excel(exportar,sheet_name=\"list_ICD10_codes\",header=True)\r\n",
    "    #df_list_AgeGroup.to_excel(exportar,sheet_name=\"list_AgeGroup\",header=True)\r\n",
    "#exportar.save()\r\n",
    "#df_list_comorbidity_conditional_group\r\n",
    "#df_list_comorbidity_condition_person\r\n",
    "#df_list_ICD10_codes\r\n",
    "#df_list_AgeGroup\r\n",
    "#ICD10_codes\r\n"
   ],
   "outputs": [],
   "metadata": {}
  }
 ],
 "metadata": {
  "orig_nbformat": 4,
  "language_info": {
   "name": "python",
   "version": "3.9.7",
   "mimetype": "text/x-python",
   "codemirror_mode": {
    "name": "ipython",
    "version": 3
   },
   "pygments_lexer": "ipython3",
   "nbconvert_exporter": "python",
   "file_extension": ".py"
  },
  "kernelspec": {
   "name": "python3",
   "display_name": "Python 3.9.7 64-bit"
  },
  "interpreter": {
   "hash": "25bf1dab56f13e21d80318cd5e789e076f92a14fa9924f370a2a818164c863f4"
  }
 },
 "nbformat": 4,
 "nbformat_minor": 2
}